{
  "cells": [
    {
      "cell_type": "markdown",
      "id": "a6331ccf",
      "metadata": {
        "id": "a6331ccf"
      },
      "source": [
        "# Variables and Data Types"
      ]
    },
    {
      "cell_type": "code",
      "execution_count": null,
      "id": "996e438d",
      "metadata": {
        "id": "996e438d"
      },
      "outputs": [],
      "source": [
        "a = 10\n",
        "\n",
        "print(a)"
      ]
    },
    {
      "cell_type": "code",
      "execution_count": null,
      "id": "0c6ed733",
      "metadata": {
        "id": "0c6ed733"
      },
      "outputs": [],
      "source": [
        "b = 10.65\n",
        "\n",
        "print(b)"
      ]
    },
    {
      "cell_type": "code",
      "execution_count": null,
      "id": "ffc1c9b9",
      "metadata": {
        "colab": {
          "base_uri": "https://localhost:8080/"
        },
        "id": "ffc1c9b9",
        "outputId": "852cc12c-aa7b-4cd1-bbaf-be4ba466b88a"
      },
      "outputs": [
        {
          "output_type": "stream",
          "name": "stdout",
          "text": [
            "India\n"
          ]
        }
      ],
      "source": [
        "c = \"India\"\n",
        "\n",
        "print(c)"
      ]
    },
    {
      "cell_type": "markdown",
      "id": "d3d5e19b",
      "metadata": {
        "id": "d3d5e19b"
      },
      "source": [
        "# Data Types\n",
        "\n",
        "#### type function"
      ]
    },
    {
      "cell_type": "code",
      "execution_count": null,
      "id": "f4f35f8a",
      "metadata": {
        "colab": {
          "base_uri": "https://localhost:8080/"
        },
        "id": "f4f35f8a",
        "outputId": "e5cb37bb-9cda-412d-988d-89112ab6a848"
      },
      "outputs": [
        {
          "output_type": "stream",
          "name": "stdout",
          "text": [
            "10\n",
            "<class 'int'>\n"
          ]
        }
      ],
      "source": [
        "a = 10\n",
        "\n",
        "print(a)\n",
        "\n",
        "print(type(a))"
      ]
    },
    {
      "cell_type": "code",
      "execution_count": null,
      "id": "62b76e6f",
      "metadata": {
        "id": "62b76e6f"
      },
      "outputs": [],
      "source": [
        "b = 10.65\n",
        "\n",
        "print(b)\n",
        "\n",
        "print(type(b))"
      ]
    },
    {
      "cell_type": "code",
      "execution_count": null,
      "id": "6255c004",
      "metadata": {
        "id": "6255c004"
      },
      "outputs": [],
      "source": [
        "c = \"Canada\"\n",
        "\n",
        "print(c)\n",
        "\n",
        "print(type(c))"
      ]
    },
    {
      "cell_type": "code",
      "execution_count": null,
      "id": "75a61520",
      "metadata": {
        "id": "75a61520"
      },
      "outputs": [],
      "source": [
        "a = 10\n",
        "\n",
        "print(a + 5)\n",
        "\n",
        "print(a)"
      ]
    },
    {
      "cell_type": "code",
      "execution_count": null,
      "id": "942f3876",
      "metadata": {
        "colab": {
          "base_uri": "https://localhost:8080/"
        },
        "id": "942f3876",
        "outputId": "0d608625-fd80-4fba-f4f9-0e52d60f2dd4"
      },
      "outputs": [
        {
          "output_type": "stream",
          "name": "stdout",
          "text": [
            "15\n"
          ]
        }
      ],
      "source": [
        "a = 10\n",
        "\n",
        "a = a + 5\n",
        "\n",
        "print(a)"
      ]
    }
  ],
  "metadata": {
    "kernelspec": {
      "display_name": "Python 3 (ipykernel)",
      "language": "python",
      "name": "python3"
    },
    "language_info": {
      "codemirror_mode": {
        "name": "ipython",
        "version": 3
      },
      "file_extension": ".py",
      "mimetype": "text/x-python",
      "name": "python",
      "nbconvert_exporter": "python",
      "pygments_lexer": "ipython3",
      "version": "3.9.12"
    },
    "colab": {
      "provenance": []
    }
  },
  "nbformat": 4,
  "nbformat_minor": 5
}