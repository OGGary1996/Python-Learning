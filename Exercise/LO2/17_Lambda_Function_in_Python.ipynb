{
  "nbformat": 4,
  "nbformat_minor": 0,
  "metadata": {
    "colab": {
      "provenance": []
    },
    "kernelspec": {
      "name": "python3",
      "display_name": "Python 3"
    }
  },
  "cells": [
    {
      "cell_type": "markdown",
      "source": [
        "# lambda function\n",
        "A lambda function in Python is a small, anonymous function defined using the lambda keyword instead of the def keyword. It is often used for short, throwaway functions that are used temporarily within other functions or operations.\n",
        "# Syntax of a Lambda Function:\n",
        "`lambda arguments: expression`\n",
        "\n",
        "1. lambda: The keyword that indicates the start of the lambda function.\n",
        "2. arguments: The input parameters to the lambda function (like in normal functions).\n",
        "3. expression: A single expression that is evaluated and returned. (Note: No need for a return statement here).\n",
        "\n",
        "## Key Points:\n",
        "1. Anonymous: Lambda functions do not have a name.\n",
        "2. Single Expression: The body of a lambda function must be a single expression. It cannot contain multiple statements.\n",
        "3. Return Value: The result of the expression is automatically returned."
      ],
      "metadata": {
        "id": "guFsH2icPpFl"
      }
    },
    {
      "cell_type": "code",
      "source": [
        "# Regular function\n",
        "def add(x, y):\n",
        "    return x + y\n",
        "\n",
        "# Lambda function for addition\n",
        "lambda_add = lambda x, y: x + y\n",
        "\n",
        "# Using the lambda function\n",
        "print(lambda_add(3, 5))  # Output: 8\n"
      ],
      "metadata": {
        "colab": {
          "base_uri": "https://localhost:8080/"
        },
        "id": "2gSvShCzQVXE",
        "outputId": "5a14498b-f867-40fb-ac1c-243fac2852df"
      },
      "execution_count": 1,
      "outputs": [
        {
          "output_type": "stream",
          "name": "stdout",
          "text": [
            "8\n"
          ]
        }
      ]
    },
    {
      "cell_type": "code",
      "metadata": {
        "id": "rTvxeqkz42z4",
        "colab": {
          "base_uri": "https://localhost:8080/",
          "height": 36
        },
        "outputId": "9d07ff9e-07dc-4e41-d501-b00bb8f96f73"
      },
      "source": [
        "# Create A Lambda Function\n",
        "\n",
        "x = lambda a : a + 10\n",
        "print(x(5))     # Here a = 5"
      ],
      "execution_count": null,
      "outputs": [
        {
          "output_type": "stream",
          "text": [
            "15\n"
          ],
          "name": "stdout"
        }
      ]
    },
    {
      "cell_type": "code",
      "metadata": {
        "id": "eusyR5de54cR",
        "colab": {
          "base_uri": "https://localhost:8080/",
          "height": 36
        },
        "outputId": "2276282f-4236-4d6d-ff2e-42a1a80593e2"
      },
      "source": [
        "# Lambda Function can take any number of arguments\n",
        "\n",
        "x = lambda a, b : a * b\n",
        "print(x(5, 6))"
      ],
      "execution_count": null,
      "outputs": [
        {
          "output_type": "stream",
          "text": [
            "30\n"
          ],
          "name": "stdout"
        }
      ]
    },
    {
      "cell_type": "code",
      "metadata": {
        "id": "QCrH1pfF6Aip",
        "colab": {
          "base_uri": "https://localhost:8080/",
          "height": 36
        },
        "outputId": "c2cda93d-c390-4454-b19c-52f37bc06e9f"
      },
      "source": [
        "# We can also use Lambda Function inside a normal function\n",
        "\n",
        "def func(n):\n",
        "  return lambda a : a * n\n",
        "\n",
        "b = func(5)   # Here 5 is a value = n\n",
        "print(b(3))   # Here 3 is a value = a"
      ],
      "execution_count": null,
      "outputs": [
        {
          "output_type": "stream",
          "text": [
            "15\n"
          ],
          "name": "stdout"
        }
      ]
    },
    {
      "cell_type": "code",
      "metadata": {
        "id": "KZiANEDO6TXL",
        "colab": {
          "base_uri": "https://localhost:8080/",
          "height": 54
        },
        "outputId": "f96f633f-2e4f-4612-be66-87f183dca15b"
      },
      "source": [
        "def func(n):\n",
        "  return lambda a : a * n\n",
        "\n",
        "one = func(2)     #   = n\n",
        "two = func(3)\n",
        "\n",
        "print(one(11))    #     = a\n",
        "print(two(11))\n"
      ],
      "execution_count": null,
      "outputs": [
        {
          "output_type": "stream",
          "text": [
            "22\n",
            "33\n"
          ],
          "name": "stdout"
        }
      ]
    },
    {
      "cell_type": "code",
      "source": [],
      "metadata": {
        "id": "bmK6TnHEQdtU"
      },
      "execution_count": null,
      "outputs": []
    },
    {
      "cell_type": "code",
      "source": [],
      "metadata": {
        "id": "QlJxNTkaQd4g"
      },
      "execution_count": null,
      "outputs": []
    },
    {
      "cell_type": "code",
      "source": [],
      "metadata": {
        "id": "wKJ_7C0ZQd9E"
      },
      "execution_count": null,
      "outputs": []
    },
    {
      "cell_type": "code",
      "source": [],
      "metadata": {
        "id": "6f90m16JQeAk"
      },
      "execution_count": null,
      "outputs": []
    },
    {
      "cell_type": "code",
      "source": [],
      "metadata": {
        "id": "Xa7U4RoCQeEQ"
      },
      "execution_count": null,
      "outputs": []
    },
    {
      "cell_type": "markdown",
      "source": [
        "\n",
        "further ref:https://realpython.com/python-lambda/\n"
      ],
      "metadata": {
        "id": "Gl3WwxHTX3Rs"
      }
    },
    {
      "cell_type": "markdown",
      "source": [],
      "metadata": {
        "id": "qCY0m1ViPoZz"
      }
    },
    {
      "cell_type": "code",
      "source": [],
      "metadata": {
        "id": "eTIpdy8tX9gL"
      },
      "execution_count": null,
      "outputs": []
    }
  ]
}