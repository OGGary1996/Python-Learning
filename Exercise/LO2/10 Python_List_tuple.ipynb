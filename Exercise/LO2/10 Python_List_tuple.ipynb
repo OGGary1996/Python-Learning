{
  "nbformat": 4,
  "nbformat_minor": 0,
  "metadata": {
    "colab": {
      "provenance": []
    },
    "kernelspec": {
      "name": "python3",
      "display_name": "Python 3"
    }
  },
  "cells": [
    {
      "cell_type": "markdown",
      "metadata": {
        "id": "_rwdaJpCAChb"
      },
      "source": [
        "<h3>Python List</h3>"
      ]
    },
    {
      "cell_type": "code",
      "metadata": {
        "id": "sQIbd4sxAHfA",
        "colab": {
          "base_uri": "https://localhost:8080/"
        },
        "outputId": "36e3ea2c-e4dd-4350-ef7e-88f37873a613"
      },
      "source": [
        "# Creating List\n",
        "\n",
        "list1 = [\"hims\",\"chau\",\"achin\",\"Shivam\",\"sourabh\",\"abhiket\"]\n",
        "\n",
        "print(list1)"
      ],
      "execution_count": 24,
      "outputs": [
        {
          "output_type": "stream",
          "name": "stdout",
          "text": [
            "['hims', 'chau', 'achin', 'Shivam', 'sourabh', 'abhiket']\n"
          ]
        }
      ]
    },
    {
      "cell_type": "code",
      "metadata": {
        "id": "IHcXVJUXAbnV",
        "colab": {
          "base_uri": "https://localhost:8080/"
        },
        "outputId": "b3ccf1aa-e799-4302-d5c8-ad3990126acf"
      },
      "source": [
        "# Positive Indexing\n",
        "\n",
        "# Always Remember that indexing will starts from 0.\n",
        "\n",
        "list1 = [\"hims\",\"chau\",\"achin\",\"Shivam\",\"sourabh\",\"abhiket\"]\n",
        "\n",
        "print(list1[0])\n",
        "print(list1[1])\n",
        "print(list1[2])\n",
        "print(list1[3])\n",
        "print(list1[4])\n",
        "print(list1[5])"
      ],
      "execution_count": 25,
      "outputs": [
        {
          "output_type": "stream",
          "name": "stdout",
          "text": [
            "hims\n",
            "chau\n",
            "achin\n",
            "Shivam\n",
            "sourabh\n",
            "abhiket\n"
          ]
        }
      ]
    },
    {
      "cell_type": "code",
      "metadata": {
        "id": "T1dd0qK-B4zd",
        "colab": {
          "base_uri": "https://localhost:8080/"
        },
        "outputId": "34e88bfc-063c-4d86-a557-de8f36d12c87"
      },
      "source": [
        "# Negative Indexing\n",
        "\n",
        "# Negative indexing means beginning from the end, -1 refers to the last item, -2 refers to the second last item etc.\n",
        "\n",
        "list1 = [\"hims\",\"chau\",\"achin\",\"Shivam\",\"sourabh\",\"abhiket\"]\n",
        "\n",
        "print(list1[-1])\n",
        "print(list1[-2])\n",
        "print(list1[-3])\n",
        "print(list1[-4])\n",
        "print(list1[-5])\n",
        "print(list1[-6])"
      ],
      "execution_count": 26,
      "outputs": [
        {
          "output_type": "stream",
          "name": "stdout",
          "text": [
            "abhiket\n",
            "sourabh\n",
            "Shivam\n",
            "achin\n",
            "chau\n",
            "hims\n"
          ]
        }
      ]
    },
    {
      "cell_type": "code",
      "metadata": {
        "id": "AtXHVnR4Cl-w",
        "colab": {
          "base_uri": "https://localhost:8080/"
        },
        "outputId": "3156174d-1c4b-471c-cb68-02868fa8d86f"
      },
      "source": [
        "# Range of Indexes\n",
        "\n",
        "# You can specify a range of indexes by specifying where to start and where to end the range.\n",
        "\n",
        "# When specifying a range, the return value will be a new list with the specified items.\n",
        "\n",
        "# Always remember end range = end range - 1\n",
        "\n",
        "list1 = [\"hims\",\"chau\",\"achin\",\"Shivam\",\"sourabh\",\"abhiket\"]\n",
        "\n",
        "print(list1[2:5])"
      ],
      "execution_count": 27,
      "outputs": [
        {
          "output_type": "stream",
          "name": "stdout",
          "text": [
            "['achin', 'Shivam', 'sourabh']\n"
          ]
        }
      ]
    },
    {
      "cell_type": "code",
      "metadata": {
        "id": "-pVKU0CGC8Qu",
        "colab": {
          "base_uri": "https://localhost:8080/"
        },
        "outputId": "6c721060-9440-4b89-f5ad-61579ddd7bf4"
      },
      "source": [
        "# All The Elements From 0 to 3\n",
        "list1 = [\"hims\",\"chau\",\"achin\",\"Shivam\",\"sourabh\",\"abhiket\"]\n",
        "\n",
        "print(list1[:4])"
      ],
      "execution_count": 28,
      "outputs": [
        {
          "output_type": "stream",
          "name": "stdout",
          "text": [
            "['hims', 'chau', 'achin', 'Shivam']\n"
          ]
        }
      ]
    },
    {
      "cell_type": "code",
      "metadata": {
        "id": "D-ZQtu9yFXcL",
        "colab": {
          "base_uri": "https://localhost:8080/"
        },
        "outputId": "7c44b4ed-6ca0-48ed-b6d4-f13c4c7afafe"
      },
      "source": [
        "# All The Elements Starting From 1 to all\n",
        "list1 = [\"hims\",\"chau\",\"achin\",\"Shivam\",\"sourabh\",\"abhiket\"]\n",
        "print(list1[2:5])   # [start: stop: step]\n",
        "print(list1[:4])\n",
        "print(list1[1:])\n",
        "list1[1] = \"Tarun\"   #replacing member of list\n",
        "print(list1)"
      ],
      "execution_count": 29,
      "outputs": [
        {
          "output_type": "stream",
          "name": "stdout",
          "text": [
            "['achin', 'Shivam', 'sourabh']\n",
            "['hims', 'chau', 'achin', 'Shivam']\n",
            "['chau', 'achin', 'Shivam', 'sourabh', 'abhiket']\n",
            "['hims', 'Tarun', 'achin', 'Shivam', 'sourabh', 'abhiket']\n"
          ]
        }
      ]
    },
    {
      "cell_type": "code",
      "metadata": {
        "id": "BOLvAzdpFm7X",
        "colab": {
          "base_uri": "https://localhost:8080/"
        },
        "outputId": "29ec2983-8a55-408f-91e1-bca1c291699a"
      },
      "source": [
        "# Changing Value in a list at a particular index\n",
        "list1 = [\"hims\",\"chau\",\"achin\",\"Shivam\",\"sourabh\",\"abhiket\"]\n",
        "\n",
        "list1[1] = \"Tarun\"\n",
        "print(list1)"
      ],
      "execution_count": 30,
      "outputs": [
        {
          "output_type": "stream",
          "name": "stdout",
          "text": [
            "['hims', 'Tarun', 'achin', 'Shivam', 'sourabh', 'abhiket']\n"
          ]
        }
      ]
    },
    {
      "cell_type": "code",
      "metadata": {
        "id": "8I1HBe_0GRwF",
        "colab": {
          "base_uri": "https://localhost:8080/"
        },
        "outputId": "1d7852f6-aeff-4d7b-a53f-947e9f86bf3f"
      },
      "source": [
        "# Loop Through a list using For loop\n",
        "\n",
        "list1 = [\"hims\",\"chau\",\"achin\",\"Shivam\",\"sourabh\",\"abhiket\"]\n",
        "\n",
        "for i in list1:\n",
        "  print(i)"
      ],
      "execution_count": 31,
      "outputs": [
        {
          "output_type": "stream",
          "name": "stdout",
          "text": [
            "hims\n",
            "chau\n",
            "achin\n",
            "Shivam\n",
            "sourabh\n",
            "abhiket\n"
          ]
        }
      ]
    },
    {
      "cell_type": "code",
      "metadata": {
        "id": "VAdLiNUWGnJa",
        "colab": {
          "base_uri": "https://localhost:8080/"
        },
        "outputId": "2b18b38e-f0e2-4460-b453-516c6f802e98"
      },
      "source": [
        "# Check if name exists is list\n",
        "\n",
        "list1 = [\"hims\",\"chau\",\"achin\",\"Shivam\",\"sourabh\",\"abhiket\"]\n",
        "\n",
        "if \"sourabh\" in list1:\n",
        "  print(\"Yes Name Exists\")\n",
        "\n",
        "else:\n",
        "  print(\"Name Does not exists\")"
      ],
      "execution_count": 32,
      "outputs": [
        {
          "output_type": "stream",
          "name": "stdout",
          "text": [
            "Yes Name Exists\n"
          ]
        }
      ]
    },
    {
      "cell_type": "code",
      "metadata": {
        "id": "FepFtD0pHa3g",
        "colab": {
          "base_uri": "https://localhost:8080/"
        },
        "outputId": "f13e2828-c9d7-4fd0-dfd4-d819ea3042b6"
      },
      "source": [
        "# Checking the Length of a List by using len()\n",
        "\n",
        "print(len(list1))"
      ],
      "execution_count": 33,
      "outputs": [
        {
          "output_type": "stream",
          "name": "stdout",
          "text": [
            "6\n"
          ]
        }
      ]
    },
    {
      "cell_type": "markdown",
      "metadata": {
        "id": "xQZ_IGxkHwJo"
      },
      "source": [
        "<h1>Built In Functions </h1>"
      ]
    },
    {
      "cell_type": "code",
      "metadata": {
        "id": "7h5PMTn0Hzbb",
        "colab": {
          "base_uri": "https://localhost:8080/"
        },
        "outputId": "7e022955-c00c-4ae0-dfef-c53175923ad6"
      },
      "source": [
        "# 1) append()    i.e add a new value in a list\n",
        "\n",
        "list1 = [\"hims\",\"chau\",\"achin\",\"Shivam\",\"sourabh\",\"abhiket\"]\n",
        "list1.append(\"Vaibhav\")\n",
        "print(list1)"
      ],
      "execution_count": 34,
      "outputs": [
        {
          "output_type": "stream",
          "name": "stdout",
          "text": [
            "['hims', 'chau', 'achin', 'Shivam', 'sourabh', 'abhiket', 'Vaibhav']\n"
          ]
        }
      ]
    },
    {
      "cell_type": "code",
      "metadata": {
        "id": "N79SU5mcIBk8",
        "colab": {
          "base_uri": "https://localhost:8080/"
        },
        "outputId": "af10aa6a-3537-4202-fc1a-e634850cf62c"
      },
      "source": [
        "# 2) insert()  i.e add a new value in a list at a particular index\n",
        "\n",
        "list1 = [\"hims\",\"chau\",\"achin\",\"Shivam\",\"sourabh\",\"abhiket\"]\n",
        "list1.insert(6,\"oscar\")\n",
        "print(list1)"
      ],
      "execution_count": 35,
      "outputs": [
        {
          "output_type": "stream",
          "name": "stdout",
          "text": [
            "['hims', 'chau', 'achin', 'Shivam', 'sourabh', 'abhiket', 'oscar']\n"
          ]
        }
      ]
    },
    {
      "cell_type": "code",
      "metadata": {
        "id": "0_DU1-7zIQnc",
        "colab": {
          "base_uri": "https://localhost:8080/"
        },
        "outputId": "a750ff0f-a950-462e-83f7-a9ef7c9ed497"
      },
      "source": [
        "# 3) remove()  i.e remove a particular value by its name\n",
        "\n",
        "list1 = [\"hims\",\"chau\",\"achin\",\"Shivam\",\"sourabh\",\"abhiket\"]\n",
        "list1.remove(\"hims\")\n",
        "print(list1)"
      ],
      "execution_count": 36,
      "outputs": [
        {
          "output_type": "stream",
          "name": "stdout",
          "text": [
            "['chau', 'achin', 'Shivam', 'sourabh', 'abhiket']\n"
          ]
        }
      ]
    },
    {
      "cell_type": "code",
      "metadata": {
        "id": "Tru1OXJPIqZB",
        "colab": {
          "base_uri": "https://localhost:8080/"
        },
        "outputId": "ba7d4906-e84b-4b3a-b621-9cd38d15aadf"
      },
      "source": [
        "# 4) pop()   i.e it removes element present at a last position\n",
        "\n",
        "list1 = [\"hims\",\"chau\",\"achin\",\"Shivam\",\"sourabh\",\"abhiket\"]\n",
        "list1.pop()\n",
        "print(list1)"
      ],
      "execution_count": 37,
      "outputs": [
        {
          "output_type": "stream",
          "name": "stdout",
          "text": [
            "['hims', 'chau', 'achin', 'Shivam', 'sourabh']\n"
          ]
        }
      ]
    },
    {
      "cell_type": "code",
      "metadata": {
        "id": "rU0Z1VqxJDey",
        "colab": {
          "base_uri": "https://localhost:8080/",
          "height": 227
        },
        "outputId": "b35c01b8-4012-486d-a99f-8b82c71acf21"
      },
      "source": [
        "# 5) del()   i.e removes the element at a specified index  and it also use to delete a whole list\n",
        "\n",
        "list1 = [\"hims\",\"chau\",\"achin\",\"Shivam\",\"sourabh\",\"abhiket\"]\n",
        "del(list1[2])\n",
        "print(list1)\n",
        "\n",
        "list1 = [\"hims\",\"chau\",\"achin\",\"Shivam\",\"sourabh\",\"abhiket\"]\n",
        "del(list1)\n",
        "print(list1)"
      ],
      "execution_count": 39,
      "outputs": [
        {
          "output_type": "stream",
          "name": "stdout",
          "text": [
            "['hims', 'chau', 'Shivam', 'sourabh', 'abhiket']\n"
          ]
        },
        {
          "output_type": "error",
          "ename": "NameError",
          "evalue": "ignored",
          "traceback": [
            "\u001b[0;31m---------------------------------------------------------------------------\u001b[0m",
            "\u001b[0;31mNameError\u001b[0m                                 Traceback (most recent call last)",
            "\u001b[0;32m<ipython-input-39-062e8d128017>\u001b[0m in \u001b[0;36m<cell line: 9>\u001b[0;34m()\u001b[0m\n\u001b[1;32m      7\u001b[0m \u001b[0mlist1\u001b[0m \u001b[0;34m=\u001b[0m \u001b[0;34m[\u001b[0m\u001b[0;34m\"hims\"\u001b[0m\u001b[0;34m,\u001b[0m\u001b[0;34m\"chau\"\u001b[0m\u001b[0;34m,\u001b[0m\u001b[0;34m\"achin\"\u001b[0m\u001b[0;34m,\u001b[0m\u001b[0;34m\"Shivam\"\u001b[0m\u001b[0;34m,\u001b[0m\u001b[0;34m\"sourabh\"\u001b[0m\u001b[0;34m,\u001b[0m\u001b[0;34m\"abhiket\"\u001b[0m\u001b[0;34m]\u001b[0m\u001b[0;34m\u001b[0m\u001b[0;34m\u001b[0m\u001b[0m\n\u001b[1;32m      8\u001b[0m \u001b[0;32mdel\u001b[0m\u001b[0;34m(\u001b[0m\u001b[0mlist1\u001b[0m\u001b[0;34m)\u001b[0m\u001b[0;34m\u001b[0m\u001b[0;34m\u001b[0m\u001b[0m\n\u001b[0;32m----> 9\u001b[0;31m \u001b[0mprint\u001b[0m\u001b[0;34m(\u001b[0m\u001b[0mlist1\u001b[0m\u001b[0;34m)\u001b[0m\u001b[0;34m\u001b[0m\u001b[0;34m\u001b[0m\u001b[0m\n\u001b[0m",
            "\u001b[0;31mNameError\u001b[0m: name 'list1' is not defined"
          ]
        }
      ]
    },
    {
      "cell_type": "code",
      "metadata": {
        "id": "wSZCX1qCJS6D",
        "colab": {
          "base_uri": "https://localhost:8080/",
          "height": 245
        },
        "outputId": "57727e35-025a-4e35-af79-4ed6a5ae73d7"
      },
      "source": [
        "# 6) clear()   i.e it removes all the elements present in a list and list becomes empty\n",
        "del(list1)\n",
        "print(list1)\n",
        "list1 = [\"hims\",\"chau\",\"achin\",\"Shivam\",\"sourabh\",\"abhiket\"]\n",
        "list1.clear()\n",
        "print(list1)"
      ],
      "execution_count": 41,
      "outputs": [
        {
          "output_type": "error",
          "ename": "NameError",
          "evalue": "ignored",
          "traceback": [
            "\u001b[0;31m---------------------------------------------------------------------------\u001b[0m",
            "\u001b[0;31mNameError\u001b[0m                                 Traceback (most recent call last)",
            "\u001b[0;32m<ipython-input-41-f79b444f12a1>\u001b[0m in \u001b[0;36m<cell line: 2>\u001b[0;34m()\u001b[0m\n\u001b[1;32m      1\u001b[0m \u001b[0;31m# 6) clear()   i.e it removes all the elements present in a list and list becomes empty\u001b[0m\u001b[0;34m\u001b[0m\u001b[0;34m\u001b[0m\u001b[0m\n\u001b[0;32m----> 2\u001b[0;31m \u001b[0;32mdel\u001b[0m\u001b[0;34m(\u001b[0m\u001b[0mlist1\u001b[0m\u001b[0;34m)\u001b[0m\u001b[0;34m\u001b[0m\u001b[0;34m\u001b[0m\u001b[0m\n\u001b[0m\u001b[1;32m      3\u001b[0m \u001b[0mprint\u001b[0m\u001b[0;34m(\u001b[0m\u001b[0mlist1\u001b[0m\u001b[0;34m)\u001b[0m\u001b[0;34m\u001b[0m\u001b[0;34m\u001b[0m\u001b[0m\n\u001b[1;32m      4\u001b[0m \u001b[0mlist1\u001b[0m \u001b[0;34m=\u001b[0m \u001b[0;34m[\u001b[0m\u001b[0;34m\"hims\"\u001b[0m\u001b[0;34m,\u001b[0m\u001b[0;34m\"chau\"\u001b[0m\u001b[0;34m,\u001b[0m\u001b[0;34m\"achin\"\u001b[0m\u001b[0;34m,\u001b[0m\u001b[0;34m\"Shivam\"\u001b[0m\u001b[0;34m,\u001b[0m\u001b[0;34m\"sourabh\"\u001b[0m\u001b[0;34m,\u001b[0m\u001b[0;34m\"abhiket\"\u001b[0m\u001b[0;34m]\u001b[0m\u001b[0;34m\u001b[0m\u001b[0;34m\u001b[0m\u001b[0m\n\u001b[1;32m      5\u001b[0m \u001b[0mlist1\u001b[0m\u001b[0;34m.\u001b[0m\u001b[0mclear\u001b[0m\u001b[0;34m(\u001b[0m\u001b[0;34m)\u001b[0m\u001b[0;34m\u001b[0m\u001b[0;34m\u001b[0m\u001b[0m\n",
            "\u001b[0;31mNameError\u001b[0m: name 'list1' is not defined"
          ]
        }
      ]
    },
    {
      "cell_type": "code",
      "metadata": {
        "id": "nO5lB7A8Jtfw",
        "colab": {
          "base_uri": "https://localhost:8080/"
        },
        "outputId": "8222d21a-8e4a-4aca-bd99-70eb8f0e19f3"
      },
      "source": [
        "# 7) copy()   i.e make a copy of a list\n",
        "\n",
        "list1 = [\"hims\",\"chau\",\"achin\",\"Shivam\",\"sourabh\",\"abhiket\"]\n",
        "list2 = list1.copy()\n",
        "print(list2)"
      ],
      "execution_count": 42,
      "outputs": [
        {
          "output_type": "stream",
          "name": "stdout",
          "text": [
            "['hims', 'chau', 'achin', 'Shivam', 'sourabh', 'abhiket']\n"
          ]
        }
      ]
    },
    {
      "cell_type": "code",
      "metadata": {
        "id": "8uTjwrzAKgxw",
        "colab": {
          "base_uri": "https://localhost:8080/"
        },
        "outputId": "1f8777dd-890f-488e-8c17-3cabb686a333"
      },
      "source": [
        "# 8) extend()   i.e to add list1 at the end of list2\n",
        "\n",
        "list1 = [\"x\", \"y\" , \"z\"]\n",
        "list2 = [1, 2, 3]\n",
        "\n",
        "list2.extend(list1)\n",
        "print(list2)"
      ],
      "execution_count": 43,
      "outputs": [
        {
          "output_type": "stream",
          "name": "stdout",
          "text": [
            "[1, 2, 3, 'x', 'y', 'z']\n"
          ]
        }
      ]
    },
    {
      "cell_type": "code",
      "metadata": {
        "id": "4NabSuWkLJHr",
        "colab": {
          "base_uri": "https://localhost:8080/"
        },
        "outputId": "6bad260b-79b8-45fc-84ba-eb8b7ecc0005"
      },
      "source": [
        "# 9) reverse()   i.e reverse the list elements\n",
        "\n",
        "list1 = [\"hims\",\"chau\",\"achin\",\"Shivam\",\"sourabh\",\"abhiket\"]\n",
        "list1.reverse()\n",
        "print(list1)"
      ],
      "execution_count": 44,
      "outputs": [
        {
          "output_type": "stream",
          "name": "stdout",
          "text": [
            "['abhiket', 'sourabh', 'Shivam', 'achin', 'chau', 'hims']\n"
          ]
        }
      ]
    },
    {
      "cell_type": "code",
      "metadata": {
        "id": "LCq14UMjLdgW",
        "colab": {
          "base_uri": "https://localhost:8080/"
        },
        "outputId": "d52449b5-30d6-4e4b-e2d8-e7820b8854ca"
      },
      "source": [
        "# 10) sort()    i.e sort the list alphabetically\n",
        "\n",
        "list1 = [\"hims\",\"chau\",\"achin\",\"shivam\",\"sourabh\",\"abhiket\"]\n",
        "list1.sort(reverse=False)     # Here reverse is used to put the elements in descending order after sorting i.e Z-A\n",
        "print(list1)"
      ],
      "execution_count": 45,
      "outputs": [
        {
          "output_type": "stream",
          "name": "stdout",
          "text": [
            "['abhiket', 'achin', 'chau', 'hims', 'shivam', 'sourabh']\n"
          ]
        }
      ]
    },
    {
      "cell_type": "code",
      "metadata": {
        "id": "V78yfaUDWkXo",
        "colab": {
          "base_uri": "https://localhost:8080/"
        },
        "outputId": "5270f7b3-59a9-482b-882f-fef4a8a540bf"
      },
      "source": [
        "# Join two list by using (+) operator\n",
        "\n",
        "list1 = [\"hims\",\"chau\",\"achin\",\"Shivam\",\"sourabh\",\"abhiket\"]\n",
        "list2 = [1,2,3,4,5,6]\n",
        "\n",
        "list3 = list1 + list2\n",
        "print(list3)"
      ],
      "execution_count": 46,
      "outputs": [
        {
          "output_type": "stream",
          "name": "stdout",
          "text": [
            "['hims', 'chau', 'achin', 'Shivam', 'sourabh', 'abhiket', 1, 2, 3, 4, 5, 6]\n"
          ]
        }
      ]
    },
    {
      "cell_type": "code",
      "metadata": {
        "id": "8YT6GypsX7XR",
        "colab": {
          "base_uri": "https://localhost:8080/"
        },
        "outputId": "ef50501e-11f6-4d45-bef6-a365af703234"
      },
      "source": [
        "# We can also create a list by using the list constructor.\n",
        "list1 = list((\"Apple\", \"Mango\", \"Cherry\"))\n",
        "print(list1)\n",
        "\n",
        "# Check its type\n",
        "print(type(list1))"
      ],
      "execution_count": 47,
      "outputs": [
        {
          "output_type": "stream",
          "name": "stdout",
          "text": [
            "['Apple', 'Mango', 'Cherry']\n",
            "<class 'list'>\n"
          ]
        }
      ]
    },
    {
      "cell_type": "markdown",
      "source": [
        "### Tuples\n",
        "Similar to lists, but cannot be changed once created.\n",
        "Enclosed in ( )\n",
        "Eg. x and y co-ordinates - (x, y)\n",
        "\n",
        "- Tuples are immutable unlike lists."
      ],
      "metadata": {
        "id": "JVzLE1Wue_32"
      }
    },
    {
      "cell_type": "code",
      "source": [
        "tup_1 = (1, 2, 3,1)\n",
        "fruits = ('apple', 'mango', 'cherry')"
      ],
      "metadata": {
        "id": "QfhRM-Kee_sf"
      },
      "execution_count": 48,
      "outputs": []
    },
    {
      "cell_type": "markdown",
      "source": [
        "#### Tuple methods\n",
        "* index\n",
        "* count\n",
        "\n",
        "Other functions which worked on lists do not work on tuples, which is obvious, because tuples can not be modified."
      ],
      "metadata": {
        "id": "ize8oFyXfHX4"
      }
    },
    {
      "cell_type": "code",
      "source": [
        "fruits.index('mango')"
      ],
      "metadata": {
        "colab": {
          "base_uri": "https://localhost:8080/"
        },
        "id": "W5m-Zfdfe_o-",
        "outputId": "677045dd-185b-45c2-efb7-234f56e2f75a"
      },
      "execution_count": 49,
      "outputs": [
        {
          "output_type": "execute_result",
          "data": {
            "text/plain": [
              "1"
            ]
          },
          "metadata": {},
          "execution_count": 49
        }
      ]
    },
    {
      "cell_type": "code",
      "source": [
        "tup_1.count(1)"
      ],
      "metadata": {
        "colab": {
          "base_uri": "https://localhost:8080/"
        },
        "id": "ba0zwqnee_ju",
        "outputId": "323e68c3-c891-4ebf-f744-362c62924fbb"
      },
      "execution_count": 50,
      "outputs": [
        {
          "output_type": "execute_result",
          "data": {
            "text/plain": [
              "2"
            ]
          },
          "metadata": {},
          "execution_count": 50
        }
      ]
    },
    {
      "cell_type": "code",
      "source": [
        "#Tuples can be used for easier assignments\n",
        "a, b = 1, 2\n",
        "print(a)\n",
        "print(b)"
      ],
      "metadata": {
        "colab": {
          "base_uri": "https://localhost:8080/"
        },
        "id": "HpoXyFj-e_hP",
        "outputId": "4b486145-cd2c-4b59-b2c5-6543d644c452"
      },
      "execution_count": 51,
      "outputs": [
        {
          "output_type": "stream",
          "name": "stdout",
          "text": [
            "1\n",
            "2\n"
          ]
        }
      ]
    },
    {
      "cell_type": "code",
      "source": [
        "#swapping a and b\n",
        "a, b  = b, a\n",
        "print(b)"
      ],
      "metadata": {
        "colab": {
          "base_uri": "https://localhost:8080/"
        },
        "id": "fU9LyZ_HfNH6",
        "outputId": "a219ea7d-f5cc-491f-d174-233b75c967d1"
      },
      "execution_count": 52,
      "outputs": [
        {
          "output_type": "stream",
          "name": "stdout",
          "text": [
            "1\n"
          ]
        }
      ]
    },
    {
      "cell_type": "code",
      "source": [
        "fruits[0] = 'banana'"
      ],
      "metadata": {
        "colab": {
          "base_uri": "https://localhost:8080/",
          "height": 175
        },
        "id": "9hZMFZ6wfNGA",
        "outputId": "5727882b-8ea6-4d4d-8006-4bc9f0a0a8f8"
      },
      "execution_count": 54,
      "outputs": [
        {
          "output_type": "error",
          "ename": "TypeError",
          "evalue": "ignored",
          "traceback": [
            "\u001b[0;31m---------------------------------------------------------------------------\u001b[0m",
            "\u001b[0;31mTypeError\u001b[0m                                 Traceback (most recent call last)",
            "\u001b[0;32m<ipython-input-54-47592827779a>\u001b[0m in \u001b[0;36m<cell line: 1>\u001b[0;34m()\u001b[0m\n\u001b[0;32m----> 1\u001b[0;31m \u001b[0mfruits\u001b[0m\u001b[0;34m[\u001b[0m\u001b[0;36m0\u001b[0m\u001b[0;34m]\u001b[0m \u001b[0;34m=\u001b[0m \u001b[0;34m'banana'\u001b[0m\u001b[0;34m\u001b[0m\u001b[0;34m\u001b[0m\u001b[0m\n\u001b[0m",
            "\u001b[0;31mTypeError\u001b[0m: 'tuple' object does not support item assignment"
          ]
        }
      ]
    },
    {
      "cell_type": "code",
      "source": [
        "len(tup_1)"
      ],
      "metadata": {
        "colab": {
          "base_uri": "https://localhost:8080/"
        },
        "id": "gxcAowwAfNDW",
        "outputId": "da407432-80b9-46eb-f35c-62ac6be94efd"
      },
      "execution_count": 55,
      "outputs": [
        {
          "output_type": "execute_result",
          "data": {
            "text/plain": [
              "4"
            ]
          },
          "metadata": {},
          "execution_count": 55
        }
      ]
    },
    {
      "cell_type": "code",
      "source": [
        "#Tuples can be converted to lists\n",
        "list_from_tup = list(tup_1)\n",
        "list_from_tup\n",
        "#you can modify the list now."
      ],
      "metadata": {
        "id": "KJPQr8fqUT8c",
        "colab": {
          "base_uri": "https://localhost:8080/"
        },
        "outputId": "210149cc-f388-478a-e1bb-1f0d22c6be5e"
      },
      "execution_count": 56,
      "outputs": [
        {
          "output_type": "execute_result",
          "data": {
            "text/plain": [
              "[1, 2, 3, 1]"
            ]
          },
          "metadata": {},
          "execution_count": 56
        }
      ]
    },
    {
      "cell_type": "code",
      "source": [
        "#Tuple members can be accessed the same way as lists (or any iterator)\n",
        "fruits[2]"
      ],
      "metadata": {
        "colab": {
          "base_uri": "https://localhost:8080/",
          "height": 36
        },
        "id": "93RMSHgHfVru",
        "outputId": "15cdbd88-2e04-4b88-b848-95878aecc13e"
      },
      "execution_count": 57,
      "outputs": [
        {
          "output_type": "execute_result",
          "data": {
            "text/plain": [
              "'cherry'"
            ],
            "application/vnd.google.colaboratory.intrinsic+json": {
              "type": "string"
            }
          },
          "metadata": {},
          "execution_count": 57
        }
      ]
    },
    {
      "cell_type": "code",
      "source": [],
      "metadata": {
        "id": "tG87XP9efYMV"
      },
      "execution_count": 57,
      "outputs": []
    }
  ]
}