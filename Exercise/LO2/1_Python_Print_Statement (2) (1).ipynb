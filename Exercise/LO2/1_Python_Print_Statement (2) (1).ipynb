{
  "cells": [
    {
      "cell_type": "markdown",
      "id": "111b44ac",
      "metadata": {
        "id": "111b44ac"
      },
      "source": [
        "# Print Statement"
      ]
    },
    {
      "cell_type": "code",
      "execution_count": null,
      "id": "368f7958",
      "metadata": {
        "id": "368f7958"
      },
      "outputs": [],
      "source": [
        "print(\"Hello World\")"
      ]
    },
    {
      "cell_type": "code",
      "source": [
        "print(\"Hello\", \"World\", 123)  # Outputs: Hello World 123"
      ],
      "metadata": {
        "colab": {
          "base_uri": "https://localhost:8080/"
        },
        "id": "dX9o0MIrPWNU",
        "outputId": "4bb9b353-0477-41b9-dc56-44db1cf7dec8"
      },
      "id": "dX9o0MIrPWNU",
      "execution_count": 7,
      "outputs": [
        {
          "output_type": "stream",
          "name": "stdout",
          "text": [
            "Hello World 123\n"
          ]
        }
      ]
    },
    {
      "cell_type": "code",
      "source": [
        "# You can change the separator between items using the sep parameter.\n",
        "print(\"apple\", \"banana\", \"cherry\", sep=\", \")  # Outputs: apple, banana, cherry\n"
      ],
      "metadata": {
        "colab": {
          "base_uri": "https://localhost:8080/"
        },
        "id": "QBaA7213PXuB",
        "outputId": "0bed7440-ebf4-4805-9516-05ec2c33f55f"
      },
      "id": "QBaA7213PXuB",
      "execution_count": 23,
      "outputs": [
        {
          "output_type": "stream",
          "name": "stdout",
          "text": [
            "apple, banana, cherry\n"
          ]
        }
      ]
    },
    {
      "cell_type": "code",
      "source": [
        "print(\"A\", \"B\", \"C\", sep=\"|\")"
      ],
      "metadata": {
        "colab": {
          "base_uri": "https://localhost:8080/"
        },
        "id": "Ga2cZk7mRYG_",
        "outputId": "3b71fd45-c48b-48be-b653-78f48f93b834"
      },
      "id": "Ga2cZk7mRYG_",
      "execution_count": 11,
      "outputs": [
        {
          "output_type": "stream",
          "name": "stdout",
          "text": [
            "A|B|C\n"
          ]
        }
      ]
    },
    {
      "cell_type": "markdown",
      "source": [
        "By default, print() ends with a newline (\\n).\n",
        "\n",
        "You can change this using the end parameter."
      ],
      "metadata": {
        "id": "5QLiBBkiPmJ2"
      },
      "id": "5QLiBBkiPmJ2"
    },
    {
      "cell_type": "code",
      "source": [
        "# By default, print() ends with a newline (\\n). You can change this using the end parameter.\n",
        "print(\"Hello\", end=\" \")\n",
        "print(\"World!\")  # Outputs: Hello World!\n"
      ],
      "metadata": {
        "colab": {
          "base_uri": "https://localhost:8080/"
        },
        "id": "pi_EjR4SPWQx",
        "outputId": "7a688cbc-0a0d-421e-b79d-d6093e4f5cf9"
      },
      "id": "pi_EjR4SPWQx",
      "execution_count": 9,
      "outputs": [
        {
          "output_type": "stream",
          "name": "stdout",
          "text": [
            "Hello World!\n"
          ]
        }
      ]
    },
    {
      "cell_type": "code",
      "source": [],
      "metadata": {
        "id": "CyBkk46pPWUf"
      },
      "id": "CyBkk46pPWUf",
      "execution_count": null,
      "outputs": []
    },
    {
      "cell_type": "code",
      "execution_count": null,
      "id": "a3096f5d",
      "metadata": {
        "id": "a3096f5d"
      },
      "outputs": [],
      "source": [
        "print(\"Hello\\nWorld\") # new line character"
      ]
    },
    {
      "cell_type": "code",
      "execution_count": null,
      "id": "c0e151ba",
      "metadata": {
        "id": "c0e151ba"
      },
      "outputs": [],
      "source": [
        "print(\"Hello\\tWorld\") # horizontal tab"
      ]
    },
    {
      "cell_type": "code",
      "execution_count": null,
      "id": "e2925fe6",
      "metadata": {
        "colab": {
          "base_uri": "https://localhost:8080/"
        },
        "id": "e2925fe6",
        "outputId": "9634c64b-2d46-4e55-d21b-0a98cad7c823"
      },
      "outputs": [
        {
          "output_type": "stream",
          "name": "stdout",
          "text": [
            "\"Hello\"\n"
          ]
        }
      ],
      "source": [
        "print(\"\\\"Hello\\\"\")"
      ]
    },
    {
      "cell_type": "code",
      "execution_count": null,
      "id": "2d6eda53",
      "metadata": {
        "colab": {
          "base_uri": "https://localhost:8080/"
        },
        "id": "2d6eda53",
        "outputId": "79177b63-03fe-4813-dff5-2591ae82571c"
      },
      "outputs": [
        {
          "output_type": "stream",
          "name": "stdout",
          "text": [
            "\\Hello\\\n"
          ]
        }
      ],
      "source": [
        "print(\"\\\\Hello\\\\\")  # Backslash"
      ]
    },
    {
      "cell_type": "markdown",
      "source": [
        "\n",
        "`file=sys.stdout`\n",
        "\n",
        "Determines where to send the output.\n",
        "\n",
        "The default is sys.stdout, which prints to the console.\n",
        "\n",
        "You can redirect the output to a file or other writable objects."
      ],
      "metadata": {
        "id": "XvWJxQ9WP5ko"
      },
      "id": "XvWJxQ9WP5ko"
    },
    {
      "cell_type": "code",
      "source": [],
      "metadata": {
        "id": "6rzijLumRiT7"
      },
      "id": "6rzijLumRiT7",
      "execution_count": null,
      "outputs": []
    },
    {
      "cell_type": "code",
      "source": [
        "with open(\"output.txt\", \"w\") as file:\n",
        "    print(\"This will be written to the file.\", file=file)\n"
      ],
      "metadata": {
        "id": "od9Zk6siP04n"
      },
      "id": "od9Zk6siP04n",
      "execution_count": 10,
      "outputs": []
    },
    {
      "cell_type": "markdown",
      "id": "6cd88fd3",
      "metadata": {
        "id": "6cd88fd3"
      },
      "source": [
        "# Questions\n",
        "\n",
        "**Print the following output**"
      ]
    },
    {
      "cell_type": "code",
      "execution_count": 1,
      "id": "2a2c3e4c",
      "metadata": {
        "colab": {
          "base_uri": "https://localhost:8080/"
        },
        "id": "2a2c3e4c",
        "outputId": "60d93fff-a195-4095-bdd2-14f49c9b28f7"
      },
      "outputs": [
        {
          "output_type": "stream",
          "name": "stdout",
          "text": [
            "Name\tAge\tCity\n",
            "Alice\t25\tNew York\n",
            "Bob\t30\tLondon\n"
          ]
        }
      ],
      "source": [
        "print(\"Name\\tAge\\tCity\")\n",
        "print(\"Alice\\t25\\tNew York\")\n",
        "print(\"Bob\\t30\\tLondon\")\n"
      ]
    },
    {
      "cell_type": "code",
      "source": [
        "print(\"Name\\tAge\\tCity\\nAlice\\t25\\tNew York\\nBob\\t30\\tLondon\")\n"
      ],
      "metadata": {
        "colab": {
          "base_uri": "https://localhost:8080/"
        },
        "id": "FAmr4iCKONGs",
        "outputId": "237b4958-3227-43b9-d4db-13dac138aa54"
      },
      "id": "FAmr4iCKONGs",
      "execution_count": 2,
      "outputs": [
        {
          "output_type": "stream",
          "name": "stdout",
          "text": [
            "Name\tAge\tCity\n",
            "Alice\t25\tNew York\n",
            "Bob\t30\tLondon\n"
          ]
        }
      ]
    },
    {
      "cell_type": "code",
      "source": [
        "print(\"This is a tab: \\\\t and this is a newline: \\\\n\")\n"
      ],
      "metadata": {
        "colab": {
          "base_uri": "https://localhost:8080/"
        },
        "id": "P-Sk8NKlOT57",
        "outputId": "964a7803-11fb-4ffc-cc20-aa4a45d4b306"
      },
      "id": "P-Sk8NKlOT57",
      "execution_count": 3,
      "outputs": [
        {
          "output_type": "stream",
          "name": "stdout",
          "text": [
            "This is a tab: \\t and this is a newline: \\n\n"
          ]
        }
      ]
    },
    {
      "cell_type": "code",
      "execution_count": 4,
      "id": "81f38efd",
      "metadata": {
        "id": "81f38efd",
        "colab": {
          "base_uri": "https://localhost:8080/"
        },
        "outputId": "b07450a1-cedd-4d27-f14e-08fedafdfd7b"
      },
      "outputs": [
        {
          "output_type": "stream",
          "name": "stdout",
          "text": [
            "*\n",
            "**\n",
            "***\n"
          ]
        }
      ],
      "source": [
        "print(\"*\\n**\\n***\")"
      ]
    },
    {
      "cell_type": "code",
      "execution_count": 5,
      "id": "e2b43488",
      "metadata": {
        "id": "e2b43488",
        "colab": {
          "base_uri": "https://localhost:8080/"
        },
        "outputId": "e2b52fd0-5fbf-4db3-c37b-57f77b3f6e8f"
      },
      "outputs": [
        {
          "output_type": "stream",
          "name": "stdout",
          "text": [
            "    *\n",
            "*\t*\n",
            "    *\n"
          ]
        }
      ],
      "source": [
        "print(\"    *\\n*\\t*\\n    *\")"
      ]
    },
    {
      "cell_type": "code",
      "source": [
        "message = \"Hello Python Crash Course world!\"\n",
        "print(message)"
      ],
      "metadata": {
        "colab": {
          "base_uri": "https://localhost:8080/"
        },
        "id": "txNIBd-T62gM",
        "outputId": "9d33ce28-4b39-4c46-b197-694e85b9ffef"
      },
      "id": "txNIBd-T62gM",
      "execution_count": 6,
      "outputs": [
        {
          "output_type": "stream",
          "name": "stdout",
          "text": [
            "Hello Python Crash Course world!\n"
          ]
        }
      ]
    },
    {
      "cell_type": "code",
      "source": [],
      "metadata": {
        "id": "2x87Rap-7CoM"
      },
      "id": "2x87Rap-7CoM",
      "execution_count": null,
      "outputs": []
    }
  ],
  "metadata": {
    "kernelspec": {
      "display_name": "Python 3 (ipykernel)",
      "language": "python",
      "name": "python3"
    },
    "language_info": {
      "codemirror_mode": {
        "name": "ipython",
        "version": 3
      },
      "file_extension": ".py",
      "mimetype": "text/x-python",
      "name": "python",
      "nbconvert_exporter": "python",
      "pygments_lexer": "ipython3",
      "version": "3.9.12"
    },
    "colab": {
      "provenance": []
    }
  },
  "nbformat": 4,
  "nbformat_minor": 5
}