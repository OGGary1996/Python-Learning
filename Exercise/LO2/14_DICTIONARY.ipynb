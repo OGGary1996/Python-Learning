{
  "cells": [
    {
      "cell_type": "markdown",
      "source": [
        "\n",
        "## Dictionary"
      ],
      "metadata": {
        "collapsed": false,
        "pycharm": {
          "name": "#%% md\n"
        },
        "id": "SnjDlGGMkjzz"
      }
    },
    {
      "cell_type": "markdown",
      "source": [
        "There are two major ways of creating dictionaries:"
      ],
      "metadata": {
        "collapsed": false,
        "pycharm": {
          "name": "#%% md\n"
        },
        "id": "gDLVz6Dekjz1"
      }
    },
    {
      "cell_type": "code",
      "execution_count": null,
      "metadata": {
        "collapsed": true,
        "pycharm": {
          "name": "#%%\n"
        },
        "id": "XpcRXwgKkjz1",
        "outputId": "87a5388e-e5a4-448b-b2a2-fe5120345b02"
      },
      "outputs": [
        {
          "name": "stdout",
          "output_type": "stream",
          "text": [
            "alien_1:  {'color': 'red', 'points': 6}\n",
            "alien_0:  {'color': 'green', 'points': 5}\n"
          ]
        }
      ],
      "source": [
        "alien_0 = {'color':'green', 'points':5}     #1 using {}\n",
        "alien_1 = dict(color = 'red', points = 6)   #2 using dict()\n",
        "print('alien_1: ', alien_1)\n",
        "print('alien_0: ', alien_0)"
      ]
    },
    {
      "cell_type": "markdown",
      "source": [
        "Accessing values using keys"
      ],
      "metadata": {
        "collapsed": false,
        "pycharm": {
          "name": "#%% md\n"
        },
        "id": "3pQK4SoAkjz2"
      }
    },
    {
      "cell_type": "code",
      "execution_count": null,
      "outputs": [
        {
          "data": {
            "text/plain": "'green'"
          },
          "execution_count": 20,
          "metadata": {},
          "output_type": "execute_result"
        }
      ],
      "source": [
        "alien_0['color']"
      ],
      "metadata": {
        "pycharm": {
          "name": "#%%\n"
        },
        "id": "uTOfreNIkjz2",
        "outputId": "5dff3e39-ee41-4e54-de52-2a2e600201d2"
      }
    },
    {
      "cell_type": "code",
      "execution_count": null,
      "outputs": [
        {
          "data": {
            "text/plain": "5"
          },
          "execution_count": 21,
          "metadata": {},
          "output_type": "execute_result"
        }
      ],
      "source": [
        "alien_0.get('points')"
      ],
      "metadata": {
        "pycharm": {
          "name": "#%%\n"
        },
        "id": "3kLhX8hOkjz2",
        "outputId": "08e412a9-19b6-4c22-dc80-0696b662632b"
      }
    },
    {
      "cell_type": "markdown",
      "source": [
        "Adding values to an existing dictionary"
      ],
      "metadata": {
        "collapsed": false,
        "pycharm": {
          "name": "#%% md\n"
        },
        "id": "CTO1NEdZkjz3"
      }
    },
    {
      "cell_type": "code",
      "execution_count": null,
      "outputs": [
        {
          "name": "stdout",
          "output_type": "stream",
          "text": [
            "alien_3:  {}\n",
            "alien_3 after adding values:  {'color': 'blue', 'points': 8}\n"
          ]
        }
      ],
      "source": [
        "alien_3 = dict()\n",
        "print('alien_3: ', alien_3)\n",
        "alien_3['color']='blue'\n",
        "alien_3['points'] = 8\n",
        "print('alien_3 after adding values: ', alien_3)"
      ],
      "metadata": {
        "pycharm": {
          "name": "#%%\n"
        },
        "id": "L_H1uu3Kkjz3",
        "outputId": "fd2d1783-2df1-49b7-bc45-17ebae31b6b7"
      }
    },
    {
      "cell_type": "markdown",
      "source": [
        "Deleting a member can be done in a number of ways:"
      ],
      "metadata": {
        "collapsed": false,
        "pycharm": {
          "name": "#%% md\n"
        },
        "id": "IfXtwHZ_kjz3"
      }
    },
    {
      "cell_type": "code",
      "execution_count": null,
      "outputs": [
        {
          "name": "stdout",
          "output_type": "stream",
          "text": [
            "alien_1:  {'color': 'red'}\n",
            "alien_0:  {'points': 5}\n",
            "alien_3:  {'points': 8}\n"
          ]
        }
      ],
      "source": [
        "alien_3.pop('color')    #using pop()\n",
        "del alien_0['color']    #using del\n",
        "alien_1.popitem()       #pops last item\n",
        "print('alien_1: ', alien_1)\n",
        "print('alien_0: ', alien_0)\n",
        "print('alien_3: ', alien_3)"
      ],
      "metadata": {
        "pycharm": {
          "name": "#%%\n"
        },
        "id": "ZL5FDeZqkjz3",
        "outputId": "aedcfca3-f939-4169-c0b8-2ce4e050ded5"
      }
    },
    {
      "cell_type": "markdown",
      "source": [
        "#### Nested dictionaries"
      ],
      "metadata": {
        "collapsed": false,
        "pycharm": {
          "name": "#%% md\n"
        },
        "id": "RtiQPdyPkjz3"
      }
    },
    {
      "cell_type": "code",
      "execution_count": null,
      "outputs": [
        {
          "name": "stdout",
          "output_type": "stream",
          "text": [
            "{'planet_id': 0, 'aliens': [{'points': 5}, {'color': 'red'}, {'points': 8}], 'planet_name': 'zargos'}\n",
            "[{'points': 5}, {'color': 'red'}, {'points': 8}]\n"
          ]
        }
      ],
      "source": [
        "planet_0 = {'planet_id':0, 'aliens':[alien_0, alien_1, alien_3], 'planet_name':'zargos'}\n",
        "print(planet_0)\n",
        "print(planet_0['aliens'])"
      ],
      "metadata": {
        "pycharm": {
          "name": "#%%\n"
        },
        "id": "THv8XQcYkjz4",
        "outputId": "b94c90e7-0dcc-4abd-bfd2-64d9ca73a258"
      }
    },
    {
      "cell_type": "markdown",
      "source": [
        "#### Merging dictionaries\n",
        "<b>dict.update()</b> method can be used to update dictionaries by merging with either another dictionary( or any mapping type) or keyword arguments."
      ],
      "metadata": {
        "collapsed": false,
        "pycharm": {
          "name": "#%% md\n"
        },
        "id": "ydSa6zCSkjz4"
      }
    },
    {
      "cell_type": "code",
      "execution_count": null,
      "outputs": [
        {
          "name": "stdout",
          "output_type": "stream",
          "text": [
            "dict_1:  {'a': 1, 'b': 2, 'c': 3, 'd': 4}\n"
          ]
        }
      ],
      "source": [
        "dict_1 = {'a':1, 'b':2, 'c':3}\n",
        "dict_2 = {'d':4}\n",
        "dict_1.update(dict_2)\n",
        "print('dict_1: ',dict_1)"
      ],
      "metadata": {
        "pycharm": {
          "name": "#%%\n"
        },
        "id": "Qw6HzgkMkjz4",
        "outputId": "facb9327-6ea2-4717-ce44-75afa236dcd6"
      }
    },
    {
      "cell_type": "code",
      "execution_count": null,
      "outputs": [
        {
          "data": {
            "text/plain": "{'a': 1, 'b': 2, 'c': 3, 'd': 4, 'e': 5}"
          },
          "execution_count": 31,
          "metadata": {},
          "output_type": "execute_result"
        }
      ],
      "source": [
        "dict_1.update(e=5)\n",
        "dict_1"
      ],
      "metadata": {
        "pycharm": {
          "name": "#%%\n"
        },
        "id": "vBiEhS1qkjz4",
        "outputId": "a99397c3-b043-4af6-b924-e16deada3e79"
      }
    },
    {
      "cell_type": "markdown",
      "source": [
        "#### Exercises\n",
        "<b>1. Merge</b>"
      ],
      "metadata": {
        "collapsed": false,
        "pycharm": {
          "name": "#%% md\n"
        },
        "id": "yMIA6LYAkjz4"
      }
    },
    {
      "cell_type": "code",
      "execution_count": null,
      "outputs": [
        {
          "name": "stdout",
          "output_type": "stream",
          "text": [
            "{'name': 'himanshu', 'contact': 0, 'email': ''}\n"
          ]
        }
      ],
      "source": [
        "dict_1 = {'name':'himanshu', 'contact':0}\n",
        "dict_2 = {'email':'', 'contact':0}\n",
        "\n",
        "#merging them into dict_1\n",
        "dict_1.update(dict_2)\n",
        "print(dict_1)"
      ],
      "metadata": {
        "pycharm": {
          "name": "#%%\n"
        },
        "id": "iTfuAB0bkjz4",
        "outputId": "c342050c-f40b-43e8-d4a4-feb04d407db3"
      }
    },
    {
      "cell_type": "markdown",
      "source": [
        "<b>2. Find the value of key 'physics'</b>"
      ],
      "metadata": {
        "collapsed": false,
        "pycharm": {
          "name": "#%% md\n"
        },
        "id": "e-xe1Ml4kjz5"
      }
    },
    {
      "cell_type": "code",
      "execution_count": null,
      "outputs": [
        {
          "data": {
            "text/plain": "70"
          },
          "execution_count": 39,
          "metadata": {},
          "output_type": "execute_result"
        }
      ],
      "source": [
        "sampleDict = {\n",
        "    'class': {\n",
        "        'student': {\n",
        "            'name': 'Mike',\n",
        "            'marks': {\n",
        "                'physics':70,\n",
        "                'history':80\n",
        "            }\n",
        "        }\n",
        "    }\n",
        "}\n",
        "\n",
        "sampleDict['class']['student']['marks']['physics']"
      ],
      "metadata": {
        "pycharm": {
          "name": "#%%\n"
        },
        "id": "ndmLWSqgkjz5",
        "outputId": "75714da2-49d9-42bd-b410-8f94797e6afc"
      }
    }
  ],
  "metadata": {
    "kernelspec": {
      "display_name": "Python 3",
      "language": "python",
      "name": "python3"
    },
    "language_info": {
      "codemirror_mode": {
        "name": "ipython",
        "version": 2
      },
      "file_extension": ".py",
      "mimetype": "text/x-python",
      "name": "python",
      "nbconvert_exporter": "python",
      "pygments_lexer": "ipython2",
      "version": "2.7.6"
    },
    "colab": {
      "provenance": []
    }
  },
  "nbformat": 4,
  "nbformat_minor": 0
}