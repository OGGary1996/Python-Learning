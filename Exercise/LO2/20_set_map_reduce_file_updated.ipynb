{
  "nbformat": 4,
  "nbformat_minor": 0,
  "metadata": {
    "kernelspec": {
      "display_name": "Python 3",
      "language": "python",
      "name": "python3"
    },
    "language_info": {
      "codemirror_mode": {
        "name": "ipython",
        "version": 3
      },
      "file_extension": ".py",
      "mimetype": "text/x-python",
      "name": "python",
      "nbconvert_exporter": "python",
      "pygments_lexer": "ipython3",
      "version": "3.6.9"
    },
    "colab": {
      "provenance": []
    }
  },
  "cells": [
    {
      "cell_type": "markdown",
      "metadata": {
        "id": "g1s9Tb8Qbmzd"
      },
      "source": [
        "## Sets\n",
        "\n",
        "A set is a data structure that can only contain unique objects.  Adding something that already exists in a set does nothing (but also does not cause an error)\n",
        "\n",
        "Ref: https://realpython.com/python-sets/\n"
      ]
    },
    {
      "cell_type": "code",
      "metadata": {
        "id": "V1zRTqCUbmzd",
        "colab": {
          "base_uri": "https://localhost:8080/"
        },
        "outputId": "24aed5ba-a1a9-4394-b2d4-ad96dc2f742c"
      },
      "source": [
        "numbers = set([1,1,1,1,1,3,3,3,3,3,2,2,2,2,3,3,3,4])\n",
        "letters = set('TheQuickBrownFoxJumpedOverTheLazyDog'.lower())\n",
        "numbers.add(4)\n",
        "print(numbers)"
      ],
      "execution_count": null,
      "outputs": [
        {
          "output_type": "stream",
          "name": "stdout",
          "text": [
            "{1, 2, 3, 4}\n"
          ]
        }
      ]
    },
    {
      "cell_type": "code",
      "metadata": {
        "id": "C3HETxCsbmze",
        "colab": {
          "base_uri": "https://localhost:8080/"
        },
        "outputId": "15bb45eb-9143-4211-a50b-13038bc4cdf8"
      },
      "source": [
        "numbers.add(5)\n",
        "print(numbers)"
      ],
      "execution_count": null,
      "outputs": [
        {
          "output_type": "stream",
          "name": "stdout",
          "text": [
            "{1, 2, 3, 4, 5}\n"
          ]
        }
      ]
    },
    {
      "cell_type": "code",
      "metadata": {
        "id": "27BPrzKxbmze",
        "colab": {
          "base_uri": "https://localhost:8080/"
        },
        "outputId": "21eea79e-8612-46a2-bf12-04608fe1e9c6"
      },
      "source": [
        "numbers.update([3,4,5,6,7])\n",
        "print(numbers)"
      ],
      "execution_count": null,
      "outputs": [
        {
          "output_type": "stream",
          "name": "stdout",
          "text": [
            "{1, 2, 3, 4, 5, 6, 7}\n"
          ]
        }
      ]
    },
    {
      "cell_type": "code",
      "metadata": {
        "id": "6MNlM29pbmze",
        "colab": {
          "base_uri": "https://localhost:8080/"
        },
        "outputId": "83900dbc-d577-4e41-e399-03d93f4d9ece"
      },
      "source": [
        "numbers.pop()"
      ],
      "execution_count": null,
      "outputs": [
        {
          "output_type": "execute_result",
          "data": {
            "text/plain": [
              "1"
            ]
          },
          "metadata": {},
          "execution_count": 4
        }
      ]
    },
    {
      "cell_type": "code",
      "metadata": {
        "id": "m0lqsc_cbmze",
        "colab": {
          "base_uri": "https://localhost:8080/"
        },
        "outputId": "c4d0f5e1-ebca-47f0-a3dd-614a1471ded9"
      },
      "source": [
        "print(numbers)"
      ],
      "execution_count": null,
      "outputs": [
        {
          "output_type": "stream",
          "name": "stdout",
          "text": [
            "{2, 3, 4, 5, 6, 7}\n"
          ]
        }
      ]
    },
    {
      "cell_type": "code",
      "metadata": {
        "id": "Cc0Jh00jbmzf"
      },
      "source": [
        "numbers.remove(7)"
      ],
      "execution_count": null,
      "outputs": []
    },
    {
      "cell_type": "code",
      "metadata": {
        "id": "rXR4eTgXbmzf",
        "colab": {
          "base_uri": "https://localhost:8080/"
        },
        "outputId": "c641e008-5dd6-4980-ded1-0b8a0356896f"
      },
      "source": [
        "print(numbers)"
      ],
      "execution_count": null,
      "outputs": [
        {
          "output_type": "stream",
          "name": "stdout",
          "text": [
            "{2, 3, 4, 5, 6}\n"
          ]
        }
      ]
    },
    {
      "cell_type": "markdown",
      "metadata": {
        "id": "0CZgvfgQbmzf"
      },
      "source": [
        "You can do Union, Intersection, and symmetric difference on sets..."
      ]
    },
    {
      "cell_type": "code",
      "metadata": {
        "id": "Q0UVfxXZbmzg",
        "colab": {
          "base_uri": "https://localhost:8080/"
        },
        "outputId": "afcf623a-fa6c-4a9d-c348-3733de5aad06"
      },
      "source": [
        "house_pets = {'dog', 'cat', 'fish'}\n",
        "farm_animals = {'cow', 'sheep', 'pig', 'dog', 'cat'}\n",
        "\n",
        "house_pets & farm_animals"
      ],
      "execution_count": null,
      "outputs": [
        {
          "output_type": "execute_result",
          "data": {
            "text/plain": [
              "{'cat', 'dog'}"
            ]
          },
          "metadata": {},
          "execution_count": 8
        }
      ]
    },
    {
      "cell_type": "code",
      "metadata": {
        "id": "2YjEwtHibmzg",
        "colab": {
          "base_uri": "https://localhost:8080/"
        },
        "outputId": "03c5a9ae-77a6-4ae9-936f-6480b68ebd37"
      },
      "source": [
        "house_pets | farm_animals"
      ],
      "execution_count": null,
      "outputs": [
        {
          "output_type": "execute_result",
          "data": {
            "text/plain": [
              "{'cat', 'cow', 'dog', 'fish', 'pig', 'sheep'}"
            ]
          },
          "metadata": {},
          "execution_count": 9
        }
      ]
    },
    {
      "cell_type": "code",
      "metadata": {
        "id": "GAlnhu8Xbmzg",
        "colab": {
          "base_uri": "https://localhost:8080/"
        },
        "outputId": "361f80d9-7232-42bf-fdd4-426836b832da"
      },
      "source": [
        "house_pets ^ farm_animals # symmetric difference"
      ],
      "execution_count": null,
      "outputs": [
        {
          "output_type": "execute_result",
          "data": {
            "text/plain": [
              "{'cow', 'fish', 'pig', 'sheep'}"
            ]
          },
          "metadata": {},
          "execution_count": 10
        }
      ]
    },
    {
      "cell_type": "code",
      "metadata": {
        "id": "C4Uc1wS_bmzh",
        "colab": {
          "base_uri": "https://localhost:8080/"
        },
        "outputId": "74b4758e-1a2b-41c9-f023-5e7001c56077"
      },
      "source": [
        "house_pets - farm_animals # asymmetric difference"
      ],
      "execution_count": null,
      "outputs": [
        {
          "output_type": "execute_result",
          "data": {
            "text/plain": [
              "{'fish'}"
            ]
          },
          "metadata": {},
          "execution_count": 11
        }
      ]
    },
    {
      "cell_type": "markdown",
      "metadata": {
        "id": "6UcjgsYUbmzh"
      },
      "source": [
        "### In Class Exercise\n",
        "\n",
        "1. If we list all the natural numbers below 10 that are multiples of 3 or 5, we get 3,5,6 and 9.  The sum of these mutliples is 23.  Find the sum of all the multiples between 3 or 5 below 1000."
      ]
    },
    {
      "cell_type": "code",
      "metadata": {
        "id": "At0Ncxpubmzh",
        "colab": {
          "base_uri": "https://localhost:8080/"
        },
        "outputId": "2b1f8f3c-5ddf-4a2a-aea8-296e6014000a"
      },
      "source": [
        "sum = 0\n",
        "\n",
        "for i in range(1000):\n",
        "    if i%3 == 0 or i%5 == 0:\n",
        "            sum += i\n",
        "            print(i)\n",
        "\n",
        "print(sum)"
      ],
      "execution_count": null,
      "outputs": [
        {
          "output_type": "stream",
          "name": "stdout",
          "text": [
            "0\n",
            "3\n",
            "5\n",
            "6\n",
            "9\n",
            "10\n",
            "12\n",
            "15\n",
            "18\n",
            "20\n",
            "21\n",
            "24\n",
            "25\n",
            "27\n",
            "30\n",
            "33\n",
            "35\n",
            "36\n",
            "39\n",
            "40\n",
            "42\n",
            "45\n",
            "48\n",
            "50\n",
            "51\n",
            "54\n",
            "55\n",
            "57\n",
            "60\n",
            "63\n",
            "65\n",
            "66\n",
            "69\n",
            "70\n",
            "72\n",
            "75\n",
            "78\n",
            "80\n",
            "81\n",
            "84\n",
            "85\n",
            "87\n",
            "90\n",
            "93\n",
            "95\n",
            "96\n",
            "99\n",
            "100\n",
            "102\n",
            "105\n",
            "108\n",
            "110\n",
            "111\n",
            "114\n",
            "115\n",
            "117\n",
            "120\n",
            "123\n",
            "125\n",
            "126\n",
            "129\n",
            "130\n",
            "132\n",
            "135\n",
            "138\n",
            "140\n",
            "141\n",
            "144\n",
            "145\n",
            "147\n",
            "150\n",
            "153\n",
            "155\n",
            "156\n",
            "159\n",
            "160\n",
            "162\n",
            "165\n",
            "168\n",
            "170\n",
            "171\n",
            "174\n",
            "175\n",
            "177\n",
            "180\n",
            "183\n",
            "185\n",
            "186\n",
            "189\n",
            "190\n",
            "192\n",
            "195\n",
            "198\n",
            "200\n",
            "201\n",
            "204\n",
            "205\n",
            "207\n",
            "210\n",
            "213\n",
            "215\n",
            "216\n",
            "219\n",
            "220\n",
            "222\n",
            "225\n",
            "228\n",
            "230\n",
            "231\n",
            "234\n",
            "235\n",
            "237\n",
            "240\n",
            "243\n",
            "245\n",
            "246\n",
            "249\n",
            "250\n",
            "252\n",
            "255\n",
            "258\n",
            "260\n",
            "261\n",
            "264\n",
            "265\n",
            "267\n",
            "270\n",
            "273\n",
            "275\n",
            "276\n",
            "279\n",
            "280\n",
            "282\n",
            "285\n",
            "288\n",
            "290\n",
            "291\n",
            "294\n",
            "295\n",
            "297\n",
            "300\n",
            "303\n",
            "305\n",
            "306\n",
            "309\n",
            "310\n",
            "312\n",
            "315\n",
            "318\n",
            "320\n",
            "321\n",
            "324\n",
            "325\n",
            "327\n",
            "330\n",
            "333\n",
            "335\n",
            "336\n",
            "339\n",
            "340\n",
            "342\n",
            "345\n",
            "348\n",
            "350\n",
            "351\n",
            "354\n",
            "355\n",
            "357\n",
            "360\n",
            "363\n",
            "365\n",
            "366\n",
            "369\n",
            "370\n",
            "372\n",
            "375\n",
            "378\n",
            "380\n",
            "381\n",
            "384\n",
            "385\n",
            "387\n",
            "390\n",
            "393\n",
            "395\n",
            "396\n",
            "399\n",
            "400\n",
            "402\n",
            "405\n",
            "408\n",
            "410\n",
            "411\n",
            "414\n",
            "415\n",
            "417\n",
            "420\n",
            "423\n",
            "425\n",
            "426\n",
            "429\n",
            "430\n",
            "432\n",
            "435\n",
            "438\n",
            "440\n",
            "441\n",
            "444\n",
            "445\n",
            "447\n",
            "450\n",
            "453\n",
            "455\n",
            "456\n",
            "459\n",
            "460\n",
            "462\n",
            "465\n",
            "468\n",
            "470\n",
            "471\n",
            "474\n",
            "475\n",
            "477\n",
            "480\n",
            "483\n",
            "485\n",
            "486\n",
            "489\n",
            "490\n",
            "492\n",
            "495\n",
            "498\n",
            "500\n",
            "501\n",
            "504\n",
            "505\n",
            "507\n",
            "510\n",
            "513\n",
            "515\n",
            "516\n",
            "519\n",
            "520\n",
            "522\n",
            "525\n",
            "528\n",
            "530\n",
            "531\n",
            "534\n",
            "535\n",
            "537\n",
            "540\n",
            "543\n",
            "545\n",
            "546\n",
            "549\n",
            "550\n",
            "552\n",
            "555\n",
            "558\n",
            "560\n",
            "561\n",
            "564\n",
            "565\n",
            "567\n",
            "570\n",
            "573\n",
            "575\n",
            "576\n",
            "579\n",
            "580\n",
            "582\n",
            "585\n",
            "588\n",
            "590\n",
            "591\n",
            "594\n",
            "595\n",
            "597\n",
            "600\n",
            "603\n",
            "605\n",
            "606\n",
            "609\n",
            "610\n",
            "612\n",
            "615\n",
            "618\n",
            "620\n",
            "621\n",
            "624\n",
            "625\n",
            "627\n",
            "630\n",
            "633\n",
            "635\n",
            "636\n",
            "639\n",
            "640\n",
            "642\n",
            "645\n",
            "648\n",
            "650\n",
            "651\n",
            "654\n",
            "655\n",
            "657\n",
            "660\n",
            "663\n",
            "665\n",
            "666\n",
            "669\n",
            "670\n",
            "672\n",
            "675\n",
            "678\n",
            "680\n",
            "681\n",
            "684\n",
            "685\n",
            "687\n",
            "690\n",
            "693\n",
            "695\n",
            "696\n",
            "699\n",
            "700\n",
            "702\n",
            "705\n",
            "708\n",
            "710\n",
            "711\n",
            "714\n",
            "715\n",
            "717\n",
            "720\n",
            "723\n",
            "725\n",
            "726\n",
            "729\n",
            "730\n",
            "732\n",
            "735\n",
            "738\n",
            "740\n",
            "741\n",
            "744\n",
            "745\n",
            "747\n",
            "750\n",
            "753\n",
            "755\n",
            "756\n",
            "759\n",
            "760\n",
            "762\n",
            "765\n",
            "768\n",
            "770\n",
            "771\n",
            "774\n",
            "775\n",
            "777\n",
            "780\n",
            "783\n",
            "785\n",
            "786\n",
            "789\n",
            "790\n",
            "792\n",
            "795\n",
            "798\n",
            "800\n",
            "801\n",
            "804\n",
            "805\n",
            "807\n",
            "810\n",
            "813\n",
            "815\n",
            "816\n",
            "819\n",
            "820\n",
            "822\n",
            "825\n",
            "828\n",
            "830\n",
            "831\n",
            "834\n",
            "835\n",
            "837\n",
            "840\n",
            "843\n",
            "845\n",
            "846\n",
            "849\n",
            "850\n",
            "852\n",
            "855\n",
            "858\n",
            "860\n",
            "861\n",
            "864\n",
            "865\n",
            "867\n",
            "870\n",
            "873\n",
            "875\n",
            "876\n",
            "879\n",
            "880\n",
            "882\n",
            "885\n",
            "888\n",
            "890\n",
            "891\n",
            "894\n",
            "895\n",
            "897\n",
            "900\n",
            "903\n",
            "905\n",
            "906\n",
            "909\n",
            "910\n",
            "912\n",
            "915\n",
            "918\n",
            "920\n",
            "921\n",
            "924\n",
            "925\n",
            "927\n",
            "930\n",
            "933\n",
            "935\n",
            "936\n",
            "939\n",
            "940\n",
            "942\n",
            "945\n",
            "948\n",
            "950\n",
            "951\n",
            "954\n",
            "955\n",
            "957\n",
            "960\n",
            "963\n",
            "965\n",
            "966\n",
            "969\n",
            "970\n",
            "972\n",
            "975\n",
            "978\n",
            "980\n",
            "981\n",
            "984\n",
            "985\n",
            "987\n",
            "990\n",
            "993\n",
            "995\n",
            "996\n",
            "999\n",
            "233168\n"
          ]
        }
      ]
    },
    {
      "cell_type": "markdown",
      "metadata": {
        "id": "ERZWEULQbmzi"
      },
      "source": [
        "## File IO\n",
        "\n",
        "Easy to do in Python!"
      ]
    },
    {
      "cell_type": "code",
      "metadata": {
        "id": "YNjAP8UIbmzj"
      },
      "source": [
        "myfile = open('data.txt', 'w')\n",
        "myfile.write(\"writing data to file\")\n",
        "myfile.close()"
      ],
      "execution_count": null,
      "outputs": []
    },
    {
      "cell_type": "markdown",
      "metadata": {
        "id": "bUPM1nC8bmzj"
      },
      "source": [
        "data.txt should be saved to the folder from where you are running this note book - go check!\n",
        "\n",
        "Note - opening a file that already exists will erase the original file!\n",
        "\n",
        "There are only a few modes which are commonly used\n",
        "1. w - writing\n",
        "2. r - reading\n",
        "3. a - appending\n",
        "4. r+ - reading and writing\n",
        "5. b - binary mode"
      ]
    },
    {
      "cell_type": "markdown",
      "metadata": {
        "id": "zvJTQvcnbmzk"
      },
      "source": [
        "### File-like Objects\n",
        "\n",
        "With the amount of RAM available in modern computers there could be a big performance gain in your applicaiton by using a file-like object.3"
      ]
    },
    {
      "cell_type": "code",
      "metadata": {
        "id": "oVKPjcODbmzl",
        "colab": {
          "base_uri": "https://localhost:8080/",
          "height": 35
        },
        "outputId": "92d025c4-f3c0-497b-8738-039801d893db"
      },
      "source": [
        "import io\n",
        "mystringfile = io.StringIO()\n",
        "mystringfile.write(\"This is my data!\")\n",
        "mystringfile.read() # cursor is at the end!3"
      ],
      "execution_count": null,
      "outputs": [
        {
          "output_type": "execute_result",
          "data": {
            "text/plain": [
              "''"
            ],
            "application/vnd.google.colaboratory.intrinsic+json": {
              "type": "string"
            }
          },
          "metadata": {},
          "execution_count": 14
        }
      ]
    },
    {
      "cell_type": "code",
      "metadata": {
        "id": "WkKdagFsbmzl",
        "colab": {
          "base_uri": "https://localhost:8080/",
          "height": 35
        },
        "outputId": "2bce5a74-35c2-4190-d645-ceaf1a8352b2"
      },
      "source": [
        "mystringfile.seek(0) # put the cursor back at the start\n",
        "mystringfile.read()"
      ],
      "execution_count": null,
      "outputs": [
        {
          "output_type": "execute_result",
          "data": {
            "text/plain": [
              "'This is my data!'"
            ],
            "application/vnd.google.colaboratory.intrinsic+json": {
              "type": "string"
            }
          },
          "metadata": {},
          "execution_count": 15
        }
      ]
    },
    {
      "cell_type": "markdown",
      "metadata": {
        "id": "TxuFIqo7bmzm"
      },
      "source": [
        "### In Class Exercise\n",
        "\n",
        "Write a word count funtion that takes a text file and returns a dictionary that contains the count for each word.  Remove all punctuation except apostrophe.  Lowercase all words."
      ]
    },
    {
      "cell_type": "code",
      "metadata": {
        "id": "8YXvq4Kcbmzm",
        "colab": {
          "base_uri": "https://localhost:8080/"
        },
        "outputId": "ba937c1c-e694-4124-c739-7c01386f134d"
      },
      "source": [
        "myfile = open('data.txt', 'r')\n",
        "\n",
        "mydata = myfile.read()\n",
        "mydict = {}\n",
        "\n",
        "for i in mydata.split():\n",
        "    if i in mydict:\n",
        "        mydict[i] += 1\n",
        "    else:\n",
        "        mydict[i] = 1\n",
        "\n",
        "\n",
        "print(mydict)"
      ],
      "execution_count": null,
      "outputs": [
        {
          "output_type": "stream",
          "name": "stdout",
          "text": [
            "{'writing': 1, 'data': 1, 'to': 1, 'file': 1}\n"
          ]
        }
      ]
    },
    {
      "cell_type": "markdown",
      "metadata": {
        "id": "2tsImKe4bmzp"
      },
      "source": [
        "## Map Reduce\n",
        "\n",
        "A map is a function that takes two arguments: another function and a collection of items.  It will:\n",
        "1. Run the function on each item of the original collection\n",
        "2. Return a new collection containing the results\n",
        "3. Leave the original collection unchanged\n",
        "\n",
        "In Python the collection must simply be iterable (list, tuple, string)"
      ]
    },
    {
      "cell_type": "code",
      "metadata": {
        "id": "PRf-SNkZbmzv",
        "colab": {
          "base_uri": "https://localhost:8080/"
        },
        "outputId": "af3ba49a-4a7d-46e7-a9d4-df5c08007b24"
      },
      "source": [
        "#Example 1: String Lengths\n",
        "string_lengths = map(len, [\"dog\", \"cat\", \"zebra\", \"turtle\"])\n",
        "print(list(string_lengths))"
      ],
      "execution_count": null,
      "outputs": [
        {
          "output_type": "stream",
          "name": "stdout",
          "text": [
            "[3, 3, 5, 6]\n"
          ]
        }
      ]
    },
    {
      "cell_type": "markdown",
      "metadata": {
        "id": "Nj2WeNo0bmzv"
      },
      "source": [
        "Example 2: Cubing"
      ]
    },
    {
      "cell_type": "code",
      "source": [
        "cubes = map(lambda x: x**3, [0,1,2,3,4])\n",
        "print(list(cubes))"
      ],
      "metadata": {
        "id": "of218sGQiWjb",
        "colab": {
          "base_uri": "https://localhost:8080/"
        },
        "outputId": "97e10f9d-6fdb-4423-a861-426617d7c53d"
      },
      "execution_count": null,
      "outputs": [
        {
          "output_type": "stream",
          "name": "stdout",
          "text": [
            "[0, 1, 8, 27, 64]\n"
          ]
        }
      ]
    },
    {
      "cell_type": "markdown",
      "metadata": {
        "id": "Ythc2TfMbmzw"
      },
      "source": [
        "## Lambdas\n",
        "\n",
        "A Lambda lets you define and use an unnamed function.  Arguments fit between the lambda and the colon while the stuff after the colon gets implicity returned (ie without an explicit return statement)\n",
        "\n",
        "Lambdas are most useful when:\n",
        "1. your function is simple\n",
        "2. you only need to use it once\n",
        "\n",
        "Consider the usual way:"
      ]
    },
    {
      "cell_type": "code",
      "metadata": {
        "id": "L5y1OguUbmzw",
        "colab": {
          "base_uri": "https://localhost:8080/"
        },
        "outputId": "f6216ac2-722b-43d0-dc67-4f0aa36ba292"
      },
      "source": [
        "def cube(x):\n",
        "    return x**3\n",
        "\n",
        "print(cube(4))"
      ],
      "execution_count": null,
      "outputs": [
        {
          "output_type": "stream",
          "name": "stdout",
          "text": [
            "64\n"
          ]
        }
      ]
    },
    {
      "cell_type": "code",
      "metadata": {
        "id": "W13po8NVbmzx",
        "colab": {
          "base_uri": "https://localhost:8080/"
        },
        "outputId": "f93d753f-d8d4-40b3-a1f1-0f9203f25e4b"
      },
      "source": [
        "# we could have done this instead\n",
        "cubes = map(cube, [0,1,2,3,4])\n",
        "print(list(cubes))"
      ],
      "execution_count": null,
      "outputs": [
        {
          "output_type": "stream",
          "name": "stdout",
          "text": [
            "[0, 1, 8, 27, 64]\n"
          ]
        }
      ]
    },
    {
      "cell_type": "markdown",
      "metadata": {
        "id": "EaccLcnCbmzx"
      },
      "source": [
        "### In Class Exercise\n",
        "\n",
        "Write a lambda to add 5 to a list of numbers"
      ]
    },
    {
      "cell_type": "code",
      "metadata": {
        "id": "z2XC98VEbmzx"
      },
      "source": [
        "func = lambda x: x+5\n",
        "print(list(map(func, [1,2,3,4,5,6])))"
      ],
      "execution_count": null,
      "outputs": []
    },
    {
      "cell_type": "markdown",
      "metadata": {
        "id": "ARZLOo8Ybmzy"
      },
      "source": [
        "Now back to map - Here is a procedural way to take a list of real names and assign them a random code name"
      ]
    },
    {
      "cell_type": "code",
      "metadata": {
        "id": "Zx8gDdCZbmzy",
        "colab": {
          "base_uri": "https://localhost:8080/"
        },
        "outputId": "04b4f3d9-0dda-44fe-c636-bee46823f30c"
      },
      "source": [
        "import random\n",
        "\n",
        "names = ['Jared', 'Gavin', 'Walter', 'Mike', 'Brett', 'Hugh']\n",
        "code_names = ['Eagle', 'Hawk', 'Seagull', 'Heron', 'Sparrow', 'Raven']\n",
        "\n",
        "for i in range(len(names)):\n",
        "    names[i] = random.choice(code_names)\n",
        "\n",
        "print(names)"
      ],
      "execution_count": null,
      "outputs": [
        {
          "output_type": "stream",
          "name": "stdout",
          "text": [
            "['Eagle', 'Heron', 'Eagle', 'Raven', 'Raven', 'Sparrow']\n"
          ]
        }
      ]
    },
    {
      "cell_type": "markdown",
      "metadata": {
        "id": "gj7rk460bmzy"
      },
      "source": [
        "### In Class Exercise\n",
        "\n",
        "Rewrite the above function functionally (use map and lambda)"
      ]
    },
    {
      "cell_type": "code",
      "metadata": {
        "id": "DdDTGoHxbmzz"
      },
      "source": [
        "names = ['Jared', 'Gavin', 'Walter', 'Mike', 'Brett', 'Hugh']\n",
        "\n",
        "covernames = map(lambda x: random.choice(['Eagle', 'Hawk', 'Seagull', 'Heron', 'Sparrow', 'Raven']), names)\n",
        "\n",
        "print(list(covernames))"
      ],
      "execution_count": null,
      "outputs": []
    },
    {
      "cell_type": "markdown",
      "metadata": {
        "id": "od27CmE2bmzz"
      },
      "source": [
        "## Reduce\n",
        "\n",
        "Reduce is a counter part to map.  Given a funciton and a collection of items, it uses the function to combine then into a single value and returns that result.\n",
        "\n",
        "The function passed to reduce has some restictions.  It must take two arguments: an accumulator and an update value.  The update value is like it was before with map; it will get set to each item in the collection one by one.  The accumulator is new.  It recieves the output from the previous function call, thus \"accumulating\" the combined value from item to item through the collection."
      ]
    },
    {
      "cell_type": "code",
      "metadata": {
        "id": "Sq6jv3ipbmzz",
        "colab": {
          "base_uri": "https://localhost:8080/"
        },
        "outputId": "1c6e8e56-78c5-4c99-cf5d-f030f037ea78"
      },
      "source": [
        "import functools\n",
        "sum = functools.reduce(lambda a, x: a + x, [0,1,2,3,4])\n",
        "print(sum)"
      ],
      "execution_count": null,
      "outputs": [
        {
          "output_type": "stream",
          "name": "stdout",
          "text": [
            "10\n"
          ]
        }
      ]
    }
  ]
}