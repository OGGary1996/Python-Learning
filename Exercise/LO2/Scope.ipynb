{
  "nbformat": 4,
  "nbformat_minor": 0,
  "metadata": {
    "colab": {
      "provenance": []
    },
    "kernelspec": {
      "name": "python3",
      "display_name": "Python 3"
    },
    "language_info": {
      "name": "python"
    }
  },
  "cells": [
    {
      "cell_type": "code",
      "execution_count": null,
      "metadata": {
        "id": "tOFrTrxvkRN9"
      },
      "outputs": [],
      "source": []
    },
    {
      "cell_type": "markdown",
      "source": [
        "# Python Scope\n",
        "\n",
        "A variable is only available from inside the region it is created. This is called scope.\n",
        "\n"
      ],
      "metadata": {
        "id": "BE-TsUODksFe"
      }
    },
    {
      "cell_type": "markdown",
      "source": [
        "# Local Scope\n",
        "\n",
        "A variable created inside a function belongs to the local scope of that function, and can only be used inside that function."
      ],
      "metadata": {
        "id": "8w6bq84FksWe"
      }
    },
    {
      "cell_type": "code",
      "source": [
        "def myfunc():\n",
        "  x = 300\n",
        "  print(x)\n",
        "\n",
        "myfunc()"
      ],
      "metadata": {
        "colab": {
          "base_uri": "https://localhost:8080/"
        },
        "id": "2KlYleJdk6pg",
        "outputId": "e6f36b9e-e418-4949-a934-f342e9ccaf93"
      },
      "execution_count": 1,
      "outputs": [
        {
          "output_type": "stream",
          "name": "stdout",
          "text": [
            "300\n"
          ]
        }
      ]
    },
    {
      "cell_type": "markdown",
      "source": [
        "The local variable can be accessed from a function within the function:\n",
        "\n"
      ],
      "metadata": {
        "id": "cuRLKdrolLSb"
      }
    },
    {
      "cell_type": "code",
      "source": [
        "def myfunc():\n",
        "  x = 300\n",
        "  def myinnerfunc():\n",
        "    print(x)\n",
        "  myinnerfunc()\n",
        "\n",
        "myfunc()"
      ],
      "metadata": {
        "colab": {
          "base_uri": "https://localhost:8080/"
        },
        "id": "ZQmECQmjlAaS",
        "outputId": "fe524596-30e6-4e34-ff6d-eff1bd6414a2"
      },
      "execution_count": 2,
      "outputs": [
        {
          "output_type": "stream",
          "name": "stdout",
          "text": [
            "300\n"
          ]
        }
      ]
    },
    {
      "cell_type": "markdown",
      "source": [
        "# Global Scope\n",
        "\n",
        "A variable created in the main body of the Python code is a global variable and belongs to the global scope.\n",
        "\n",
        "Global variables are available from within any scope, global and local."
      ],
      "metadata": {
        "id": "N4qkPZgzlPEV"
      }
    },
    {
      "cell_type": "code",
      "source": [
        "# A variable created outside of a function is global and can be used by anyone:\n",
        "\n",
        "x = 300\n",
        "\n",
        "def myfunc():\n",
        "  print(x)\n",
        "\n",
        "myfunc()\n",
        "\n",
        "print(x)"
      ],
      "metadata": {
        "colab": {
          "base_uri": "https://localhost:8080/"
        },
        "id": "fDaU9_yOlVcM",
        "outputId": "8da92232-9123-4226-a548-d84df2fc56d0"
      },
      "execution_count": 3,
      "outputs": [
        {
          "output_type": "stream",
          "name": "stdout",
          "text": [
            "300\n",
            "300\n"
          ]
        }
      ]
    },
    {
      "cell_type": "markdown",
      "source": [
        "# Naming Variables\n",
        "If you operate with the same variable name inside and outside of a function, Python will treat them as two separate variables, one available in the global scope (outside the function) and one available in the local scope (inside the function):"
      ],
      "metadata": {
        "id": "-4wB3dN7le8w"
      }
    },
    {
      "cell_type": "code",
      "source": [
        "# The function will print the local x, and then the code will print the global x:\n",
        "x = 300\n",
        "\n",
        "def myfunc():\n",
        "  x = 200\n",
        "  print(x)\n",
        "\n",
        "myfunc()\n",
        "\n",
        "print(x)"
      ],
      "metadata": {
        "colab": {
          "base_uri": "https://localhost:8080/"
        },
        "id": "kIwzzxvJlWF2",
        "outputId": "f16bba62-435d-4166-aa6a-e658077ea71a"
      },
      "execution_count": 4,
      "outputs": [
        {
          "output_type": "stream",
          "name": "stdout",
          "text": [
            "200\n",
            "300\n"
          ]
        }
      ]
    },
    {
      "cell_type": "markdown",
      "source": [
        "# Global Keyword\n",
        "\n",
        "The global keyword makes the variable global.\n",
        "\n"
      ],
      "metadata": {
        "id": "i_3Sv0ahlyF_"
      }
    },
    {
      "cell_type": "code",
      "source": [
        "# If you use the global keyword, the variable belongs to the global scope:\n",
        "\n",
        "def myfunc():\n",
        "  global x\n",
        "  x = 300\n",
        "\n",
        "myfunc()\n",
        "\n",
        "print(x)"
      ],
      "metadata": {
        "colab": {
          "base_uri": "https://localhost:8080/"
        },
        "id": "PHJHztHBlV7h",
        "outputId": "c874d65b-dce6-40cd-dfa3-eeb67dd5b6c8"
      },
      "execution_count": 5,
      "outputs": [
        {
          "output_type": "stream",
          "name": "stdout",
          "text": [
            "300\n"
          ]
        }
      ]
    },
    {
      "cell_type": "markdown",
      "source": [
        "## Use the global keyword if you want to make a change to a global variable inside a function.\n",
        "\n",
        "## Example\n",
        "To change the value of a global variable inside a function, refer to the variable by using the global keyword:"
      ],
      "metadata": {
        "id": "B65S31IdmLRi"
      }
    },
    {
      "cell_type": "code",
      "source": [
        "x = 300\n",
        "\n",
        "def myfunc():\n",
        "  global x\n",
        "  x = 200\n",
        "\n",
        "myfunc()\n",
        "\n",
        "print(x)"
      ],
      "metadata": {
        "colab": {
          "base_uri": "https://localhost:8080/"
        },
        "id": "UdRqYwzJmFex",
        "outputId": "5142292a-72ba-4eb8-977b-6e91ed9cbe0e"
      },
      "execution_count": 6,
      "outputs": [
        {
          "output_type": "stream",
          "name": "stdout",
          "text": [
            "200\n"
          ]
        }
      ]
    },
    {
      "cell_type": "markdown",
      "source": [],
      "metadata": {
        "id": "jlOBE3EZksat"
      }
    },
    {
      "cell_type": "code",
      "source": [
        "def myfunc1():\n",
        "  x = \"Jane\"\n",
        "  def myfunc2():\n",
        "    nonlocal x\n",
        "    x = \"hello\"\n",
        "  myfunc2()\n",
        "  return x\n",
        "\n",
        "print(myfunc1())"
      ],
      "metadata": {
        "colab": {
          "base_uri": "https://localhost:8080/"
        },
        "id": "LrB697UAmmnh",
        "outputId": "07355c77-97bb-4a7b-d537-36f4c9cef777"
      },
      "execution_count": 7,
      "outputs": [
        {
          "output_type": "stream",
          "name": "stdout",
          "text": [
            "hello\n"
          ]
        }
      ]
    }
  ]
}