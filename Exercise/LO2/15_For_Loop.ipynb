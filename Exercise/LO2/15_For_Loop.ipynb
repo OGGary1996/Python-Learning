{
  "nbformat": 4,
  "nbformat_minor": 0,
  "metadata": {
    "colab": {
      "provenance": []
    },
    "kernelspec": {
      "name": "python3",
      "display_name": "Python 3"
    }
  },
  "cells": [
    {
      "cell_type": "code",
      "metadata": {
        "id": "Ua1B-WIvcOzt",
        "colab": {
          "base_uri": "https://localhost:8080/"
        },
        "outputId": "6c4870e5-dcbb-4a06-8632-7c2c35f7286b"
      },
      "source": [
        "# Lets Create A list\n",
        "\n",
        "a = [\"Apple\",\"Mango\",\"Orange\",\"Grapes\"]\n",
        "\n",
        "# Lets Apply For Loop\n",
        "\n",
        "for i in a:     # i is an iterator and it starts from 0.\n",
        "  print(i)"
      ],
      "execution_count": null,
      "outputs": [
        {
          "output_type": "stream",
          "name": "stdout",
          "text": [
            "Apple\n",
            "Mango\n",
            "Orange\n",
            "Grapes\n"
          ]
        }
      ]
    },
    {
      "cell_type": "code",
      "metadata": {
        "id": "TSQLc8qlezad",
        "colab": {
          "base_uri": "https://localhost:8080/"
        },
        "outputId": "89342649-930c-45b8-c6b2-23fce0322948"
      },
      "source": [
        "# Lets Create a string with my Name\n",
        "\n",
        "b = \"Himanshu Patel\"\n",
        "\n",
        "# Apply For Loop\n",
        "\n",
        "for i in b:\n",
        "  print(i)"
      ],
      "execution_count": null,
      "outputs": [
        {
          "output_type": "stream",
          "name": "stdout",
          "text": [
            "H\n",
            "i\n",
            "m\n",
            "a\n",
            "n\n",
            "s\n",
            "h\n",
            "u\n",
            " \n",
            "P\n",
            "a\n",
            "t\n",
            "e\n",
            "l\n"
          ]
        }
      ]
    },
    {
      "cell_type": "code",
      "metadata": {
        "id": "9wDkO_9de9TN",
        "colab": {
          "base_uri": "https://localhost:8080/"
        },
        "outputId": "9fcd5291-fb73-4eea-ab8a-67db5eb160f4"
      },
      "source": [
        "# Using break statement we can stop the loop at a given condition:\n",
        "\n",
        "# For Loop With Break Statements:\n",
        "a = [\"Apple\",\"Mango\",\"Orange\",\"Grapes\"]\n",
        "\n",
        "for i in a:\n",
        "    if i==\"Orange\":     # Condition 1\n",
        "      break\n",
        "    print(i)"
      ],
      "execution_count": null,
      "outputs": [
        {
          "output_type": "stream",
          "name": "stdout",
          "text": [
            "Apple\n",
            "Mango\n"
          ]
        }
      ]
    },
    {
      "cell_type": "code",
      "metadata": {
        "id": "-znsT76wfhCU",
        "colab": {
          "base_uri": "https://localhost:8080/"
        },
        "outputId": "dd724ba5-c68e-4c25-c66c-d55a2799f57c"
      },
      "source": [
        "# With the continue statement we can stop the current iteration of the loop, and continue with the next:\n",
        "\n",
        "a = [\"Apple\",\"Mango\",\"Orange\",\"Grapes\"]\n",
        "for i in a:\n",
        "  if i==\"Mango\":\n",
        "    continue\n",
        "  print(i)"
      ],
      "execution_count": null,
      "outputs": [
        {
          "output_type": "stream",
          "name": "stdout",
          "text": [
            "Apple\n",
            "Orange\n",
            "Grapes\n"
          ]
        }
      ]
    },
    {
      "cell_type": "code",
      "metadata": {
        "id": "nSbeAmaggBQ9",
        "colab": {
          "base_uri": "https://localhost:8080/"
        },
        "outputId": "f87a35a4-126a-4bcb-c808-18b9bc2c9c63"
      },
      "source": [
        "# Range Function\n",
        "\n",
        "# The range() function returns a sequence of numbers, starting from 0 by default, and increments by 1 (by default)\n",
        "# and ends at a specified number.\n",
        "\n",
        "for i in range(0,10):    # Remeber last_index = last_index - 1\n",
        "  print(i)\n"
      ],
      "execution_count": null,
      "outputs": [
        {
          "output_type": "stream",
          "name": "stdout",
          "text": [
            "0\n",
            "1\n",
            "2\n",
            "3\n",
            "4\n",
            "5\n",
            "6\n",
            "7\n",
            "8\n",
            "9\n"
          ]
        }
      ]
    },
    {
      "cell_type": "code",
      "metadata": {
        "id": "gRAeQnwhgOYc",
        "colab": {
          "base_uri": "https://localhost:8080/"
        },
        "outputId": "4841b5ba-22ca-40f7-ee79-442962937206"
      },
      "source": [
        "# We can also define increment step just like this:\n",
        "\n",
        "for i in range(0,15,3):            # Here 0 is a start index,15 is a end index, and 3 is a increment step.\n",
        "  print(i)"
      ],
      "execution_count": null,
      "outputs": [
        {
          "output_type": "stream",
          "name": "stdout",
          "text": [
            "0\n",
            "3\n",
            "6\n",
            "9\n",
            "12\n"
          ]
        }
      ]
    },
    {
      "cell_type": "code",
      "metadata": {
        "id": "rMtghUYAggOP",
        "colab": {
          "base_uri": "https://localhost:8080/"
        },
        "outputId": "e400fcf6-9508-4a0e-f650-e9758d950f62"
      },
      "source": [
        "# Nested For Loops\n",
        "\n",
        "a = [\"hims\",\"tarun\",\"chau\",\"hardik\"]\n",
        "b = [1,2,3,4]\n",
        "\n",
        "for i in a:\n",
        "  for j in b:\n",
        "    print(i,j)\n"
      ],
      "execution_count": null,
      "outputs": [
        {
          "output_type": "stream",
          "name": "stdout",
          "text": [
            "hims 1\n",
            "hims 2\n",
            "hims 3\n",
            "hims 4\n",
            "tarun 1\n",
            "tarun 2\n",
            "tarun 3\n",
            "tarun 4\n",
            "chau 1\n",
            "chau 2\n",
            "chau 3\n",
            "chau 4\n",
            "hardik 1\n",
            "hardik 2\n",
            "hardik 3\n",
            "hardik 4\n"
          ]
        }
      ]
    },
    {
      "cell_type": "code",
      "metadata": {
        "id": "mVtUwBlag_ct"
      },
      "source": [
        "# Pass Statment\n",
        "\n",
        "# for loops cannot be empty,\n",
        "# but if you for some reason have a for loop with no content, put in the pass statement to avoid getting an error.\n",
        "\n",
        "\n",
        "for i in range(0,10):\n",
        "  pass"
      ],
      "execution_count": null,
      "outputs": []
    },
    {
      "cell_type": "markdown",
      "source": [
        "# Exercise:\n",
        "try to find the total paper fold required to reach to the moon from the surface of the earth. (hint: assume paper thickness, find the distance between earth to moon, use python loop)"
      ],
      "metadata": {
        "id": "tsLDhvr9Rq_4"
      }
    },
    {
      "cell_type": "code",
      "source": [],
      "metadata": {
        "id": "9RWSCE8GRsSJ"
      },
      "execution_count": null,
      "outputs": []
    }
  ]
}