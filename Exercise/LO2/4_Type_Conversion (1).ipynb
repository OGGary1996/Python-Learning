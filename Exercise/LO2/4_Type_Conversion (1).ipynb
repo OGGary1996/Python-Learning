{
  "cells": [
    {
      "cell_type": "markdown",
      "id": "505fc528",
      "metadata": {
        "id": "505fc528"
      },
      "source": [
        "# Type Conversion\n"
      ]
    },
    {
      "cell_type": "code",
      "execution_count": null,
      "id": "8fc0915d",
      "metadata": {
        "id": "8fc0915d"
      },
      "outputs": [],
      "source": [
        "10 + \"A\""
      ]
    },
    {
      "cell_type": "code",
      "execution_count": null,
      "id": "f0e39b61",
      "metadata": {
        "colab": {
          "base_uri": "https://localhost:8080/",
          "height": 245
        },
        "id": "f0e39b61",
        "outputId": "6776efc8-3b7e-4ec3-d56a-4ae78c8fa3aa"
      },
      "outputs": [
        {
          "output_type": "stream",
          "name": "stdout",
          "text": [
            "<class 'int'>\n",
            "<class 'str'>\n"
          ]
        },
        {
          "output_type": "error",
          "ename": "TypeError",
          "evalue": "ignored",
          "traceback": [
            "\u001b[0;31m---------------------------------------------------------------------------\u001b[0m",
            "\u001b[0;31mTypeError\u001b[0m                                 Traceback (most recent call last)",
            "\u001b[0;32m<ipython-input-2-ca16c75e0ae0>\u001b[0m in \u001b[0;36m<cell line: 8>\u001b[0;34m()\u001b[0m\n\u001b[1;32m      6\u001b[0m \u001b[0mprint\u001b[0m\u001b[0;34m(\u001b[0m\u001b[0mtype\u001b[0m\u001b[0;34m(\u001b[0m\u001b[0mb\u001b[0m\u001b[0;34m)\u001b[0m\u001b[0;34m)\u001b[0m\u001b[0;34m\u001b[0m\u001b[0;34m\u001b[0m\u001b[0m\n\u001b[1;32m      7\u001b[0m \u001b[0;34m\u001b[0m\u001b[0m\n\u001b[0;32m----> 8\u001b[0;31m \u001b[0mprint\u001b[0m\u001b[0;34m(\u001b[0m\u001b[0ma\u001b[0m \u001b[0;34m+\u001b[0m \u001b[0mb\u001b[0m\u001b[0;34m)\u001b[0m\u001b[0;34m\u001b[0m\u001b[0;34m\u001b[0m\u001b[0m\n\u001b[0m",
            "\u001b[0;31mTypeError\u001b[0m: unsupported operand type(s) for +: 'int' and 'str'"
          ]
        }
      ],
      "source": [
        "a = 10\n",
        "\n",
        "b = \"20\"\n",
        "\n",
        "print(type(a))\n",
        "print(type(b))\n",
        "\n",
        "print(a + b)"
      ]
    },
    {
      "cell_type": "code",
      "execution_count": null,
      "id": "b773726d",
      "metadata": {
        "colab": {
          "base_uri": "https://localhost:8080/"
        },
        "id": "b773726d",
        "outputId": "43fa4ec6-b14c-45b1-9a54-1da937a3fe07"
      },
      "outputs": [
        {
          "output_type": "stream",
          "name": "stdout",
          "text": [
            "<class 'int'>\n",
            "<class 'str'>\n",
            "30\n",
            "<class 'int'>\n"
          ]
        }
      ],
      "source": [
        "a = 10\n",
        "\n",
        "b = \"20\"\n",
        "\n",
        "print(type(a))\n",
        "print(type(b))\n",
        "\n",
        "c = int(b)\n",
        "\n",
        "print(a + c)\n",
        "\n",
        "print(type(c))"
      ]
    },
    {
      "cell_type": "code",
      "execution_count": null,
      "id": "4b85f5b2",
      "metadata": {
        "id": "4b85f5b2"
      },
      "outputs": [],
      "source": [
        "a = 10\n",
        "\n",
        "b = \"A\"\n",
        "\n",
        "print(int(b))"
      ]
    },
    {
      "cell_type": "code",
      "execution_count": null,
      "id": "bc000d1c",
      "metadata": {
        "colab": {
          "base_uri": "https://localhost:8080/"
        },
        "id": "bc000d1c",
        "outputId": "41aa68ca-d16e-49bd-975b-9265531a8d0b"
      },
      "outputs": [
        {
          "output_type": "stream",
          "name": "stdout",
          "text": [
            "<class 'int'>\n",
            "<class 'int'>\n",
            "<class 'str'>\n",
            "<class 'str'>\n",
            "100200\n"
          ]
        }
      ],
      "source": [
        "a = 100\n",
        "\n",
        "b = 200\n",
        "\n",
        "print(type(a))\n",
        "print(type(b))\n",
        "\n",
        "c = str(a)\n",
        "d = str(b)\n",
        "\n",
        "print(type(c))\n",
        "print(type(d))\n",
        "\n",
        "print(c + d)"
      ]
    },
    {
      "cell_type": "code",
      "execution_count": null,
      "id": "712b3f87",
      "metadata": {
        "colab": {
          "base_uri": "https://localhost:8080/",
          "height": 35
        },
        "id": "712b3f87",
        "outputId": "ed25e584-1caa-4ffc-8b32-39a50c723d35"
      },
      "outputs": [
        {
          "output_type": "execute_result",
          "data": {
            "text/plain": [
              "'AB'"
            ],
            "application/vnd.google.colaboratory.intrinsic+json": {
              "type": "string"
            }
          },
          "metadata": {},
          "execution_count": 6
        }
      ],
      "source": [
        "\"A\" + \"B\""
      ]
    },
    {
      "cell_type": "code",
      "execution_count": null,
      "id": "7c2c41bf",
      "metadata": {
        "colab": {
          "base_uri": "https://localhost:8080/",
          "height": 35
        },
        "id": "7c2c41bf",
        "outputId": "9198eb7a-ac84-447b-acb5-16c301dff0a2"
      },
      "outputs": [
        {
          "output_type": "execute_result",
          "data": {
            "text/plain": [
              "'India is the Best'"
            ],
            "application/vnd.google.colaboratory.intrinsic+json": {
              "type": "string"
            }
          },
          "metadata": {},
          "execution_count": 7
        }
      ],
      "source": [
        "\"India\" + \" is the \" + \"Best\""
      ]
    },
    {
      "cell_type": "code",
      "execution_count": null,
      "id": "a9f64522",
      "metadata": {
        "colab": {
          "base_uri": "https://localhost:8080/"
        },
        "id": "a9f64522",
        "outputId": "2310aad9-ec9a-4044-83bd-24828969fbf9"
      },
      "outputs": [
        {
          "output_type": "stream",
          "name": "stdout",
          "text": [
            "10.65\n",
            "<class 'float'>\n",
            "<class 'int'>\n",
            "10\n"
          ]
        }
      ],
      "source": [
        "a = 10.65\n",
        "\n",
        "print(a)\n",
        "print(type(a))\n",
        "\n",
        "b = int(a)\n",
        "\n",
        "print(type(b))\n",
        "print(b)"
      ]
    }
  ],
  "metadata": {
    "kernelspec": {
      "display_name": "Python 3 (ipykernel)",
      "language": "python",
      "name": "python3"
    },
    "language_info": {
      "codemirror_mode": {
        "name": "ipython",
        "version": 3
      },
      "file_extension": ".py",
      "mimetype": "text/x-python",
      "name": "python",
      "nbconvert_exporter": "python",
      "pygments_lexer": "ipython3",
      "version": "3.9.12"
    },
    "colab": {
      "provenance": []
    }
  },
  "nbformat": 4,
  "nbformat_minor": 5
}