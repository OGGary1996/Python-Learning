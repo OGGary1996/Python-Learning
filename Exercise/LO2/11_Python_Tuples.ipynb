{
  "nbformat": 4,
  "nbformat_minor": 0,
  "metadata": {
    "colab": {
      "provenance": []
    },
    "kernelspec": {
      "name": "python3",
      "display_name": "Python 3"
    }
  },
  "cells": [
    {
      "cell_type": "code",
      "metadata": {
        "id": "V53Va4qtYe2e",
        "colab": {
          "base_uri": "https://localhost:8080/"
        },
        "outputId": "0060af4e-0c5e-4292-9629-7c919a343686"
      },
      "source": [
        "# Create a Tuple\n",
        "\n",
        "tuple1 = (\"Shivam\",\"sourabh\",\"abhiket\")\n",
        "print(tuple1)"
      ],
      "execution_count": null,
      "outputs": [
        {
          "output_type": "stream",
          "name": "stdout",
          "text": [
            "('Shivam', 'sourabh', 'abhiket')\n"
          ]
        }
      ]
    },
    {
      "cell_type": "code",
      "metadata": {
        "id": "aPq0eBzKY3VN",
        "colab": {
          "base_uri": "https://localhost:8080/"
        },
        "outputId": "c4f41eb3-7c9c-4769-8c71-f6e1f0dae9c3"
      },
      "source": [
        "# Accessing Tuple Items\n",
        "\n",
        "tuple1 = (\"Shivam\",\"sourabh\",\"abhiket\")\n",
        "print(tuple1[0])"
      ],
      "execution_count": null,
      "outputs": [
        {
          "output_type": "stream",
          "name": "stdout",
          "text": [
            "Shivam\n"
          ]
        }
      ]
    },
    {
      "cell_type": "code",
      "metadata": {
        "id": "IH4GiYOHZRr_",
        "colab": {
          "base_uri": "https://localhost:8080/"
        },
        "outputId": "d09ba761-64e5-4e3c-fc55-a05fd59eb3f9"
      },
      "source": [
        "# Negative Indexing\n",
        "\n",
        "# Negative indexing means beginning from the end, -1 refers to the last item, -2 refers to the second last item etc.\n",
        "\n",
        "tuple1 = (\"Shivam\",\"sourabh\",\"abhiket\")\n",
        "print(tuple1[-1])\n",
        "\n",
        "\n",
        "#\n",
        "\n",
        "print(tuple1[-2])\n",
        "print(tuple1[-3])"
      ],
      "execution_count": null,
      "outputs": [
        {
          "output_type": "stream",
          "name": "stdout",
          "text": [
            "abhiket\n",
            "sourabh\n",
            "Shivam\n"
          ]
        }
      ]
    },
    {
      "cell_type": "code",
      "metadata": {
        "id": "GRaKmFazaFbQ",
        "colab": {
          "base_uri": "https://localhost:8080/"
        },
        "outputId": "2c07e168-3a87-47a7-e675-dc40a20c4a05"
      },
      "source": [
        "# Range of Indexes\n",
        "\n",
        "# You can specify a range of indexes by specifying where to start and where to end the range.\n",
        "\n",
        "# When specifying a range, the return value will be a new tuple with the specified items.\n",
        "\n",
        "a = (\"hims\",\"chau\",\"achin\",\"Shivam\",\"sourabh\",\"abhiket\")\n",
        "print(a[2:5])\n",
        "\n",
        "# Negative Range\n",
        "\n",
        "print(a[-4:-1])"
      ],
      "execution_count": null,
      "outputs": [
        {
          "output_type": "stream",
          "name": "stdout",
          "text": [
            "('achin', 'Shivam', 'sourabh')\n",
            "('achin', 'Shivam', 'sourabh')\n"
          ]
        }
      ]
    },
    {
      "cell_type": "code",
      "metadata": {
        "id": "lsg2Rl68aW__",
        "colab": {
          "base_uri": "https://localhost:8080/"
        },
        "outputId": "8c34481b-b4b9-453a-c519-700d47d99e79"
      },
      "source": [
        "# Change Tuple Values\n",
        "\n",
        "# Once a tuple is created, you cannot change its values. Tuples are unchangeable, or immutable.\n",
        "\n",
        "# But there is a workaround. You can convert the tuple into a list, change the list, and convert the list back into a tuple.\n",
        "\n",
        "a = (\"hims\",\"chau\",\"achin\",\"Shivam\",\"sourabh\",\"abhiket\")\n",
        "b = list(a)\n",
        "print(b)\n",
        "\n",
        "b.append(\"shalin\")\n",
        "print(b)\n",
        "\n",
        "a = tuple(b)\n",
        "print(a)\n",
        "print(type(a))"
      ],
      "execution_count": null,
      "outputs": [
        {
          "output_type": "stream",
          "name": "stdout",
          "text": [
            "['hims', 'chau', 'achin', 'Shivam', 'sourabh', 'abhiket']\n",
            "['hims', 'chau', 'achin', 'Shivam', 'sourabh', 'abhiket', 'Pulkit']\n",
            "('hims', 'chau', 'achin', 'Shivam', 'sourabh', 'abhiket', 'Pulkit')\n",
            "<class 'tuple'>\n"
          ]
        }
      ]
    },
    {
      "cell_type": "code",
      "metadata": {
        "id": "mT01q9AQcnFQ",
        "colab": {
          "base_uri": "https://localhost:8080/"
        },
        "outputId": "37bc0d5a-c383-47e0-aa80-7d58b57374d5"
      },
      "source": [
        "# Loop Through A Tuple\n",
        "\n",
        "a = (\"hims\",\"chau\",\"achin\",\"Shivam\",\"sourabh\",\"abhiket\")\n",
        "for i in a:\n",
        "  print(i)"
      ],
      "execution_count": null,
      "outputs": [
        {
          "output_type": "stream",
          "name": "stdout",
          "text": [
            "hims\n",
            "chau\n",
            "achin\n",
            "Shivam\n",
            "sourabh\n",
            "abhiket\n"
          ]
        }
      ]
    },
    {
      "cell_type": "code",
      "metadata": {
        "id": "iwYyAY1Mc-QD",
        "colab": {
          "base_uri": "https://localhost:8080/"
        },
        "outputId": "0abb2fe6-b3c1-4025-9baf-accccb8c5428"
      },
      "source": [
        "# Check whether name exists in tuple\n",
        "\n",
        "a = (\"hims\",\"chau\",\"achin\",\"Shivam\",\"sourabh\",\"abhiket\")\n",
        "if \"Ankit\" in a:\n",
        "  print(\"Yes it Exists\")\n",
        "else:\n",
        "  print(\"No\")"
      ],
      "execution_count": null,
      "outputs": [
        {
          "output_type": "stream",
          "name": "stdout",
          "text": [
            "No\n"
          ]
        }
      ]
    },
    {
      "cell_type": "code",
      "metadata": {
        "id": "qYm0YJxXdQd4",
        "colab": {
          "base_uri": "https://localhost:8080/"
        },
        "outputId": "f9bb1af5-e1cb-451e-952b-0a7c561653c1"
      },
      "source": [
        "# Length of a Tuple\n",
        "\n",
        "a = (\"hims\",\"chau\",\"achin\",\"Shivam\",\"sourabh\",\"abhiket\")\n",
        "print(len(a))"
      ],
      "execution_count": null,
      "outputs": [
        {
          "output_type": "stream",
          "name": "stdout",
          "text": [
            "6\n"
          ]
        }
      ]
    },
    {
      "cell_type": "markdown",
      "metadata": {
        "id": "1JTDVrNadffr"
      },
      "source": [
        "<h3>Important</h3>"
      ]
    },
    {
      "cell_type": "code",
      "metadata": {
        "id": "nzs1oma2djRJ",
        "colab": {
          "base_uri": "https://localhost:8080/"
        },
        "outputId": "555aa1bf-2d5e-4011-dc5a-fa241a775a09"
      },
      "source": [
        "x = (\"achin\")\n",
        "print(type(x))\n",
        "\n",
        "# As u see its not a tuple its a string with only one element"
      ],
      "execution_count": null,
      "outputs": [
        {
          "output_type": "stream",
          "name": "stdout",
          "text": [
            "<class 'str'>\n"
          ]
        }
      ]
    },
    {
      "cell_type": "code",
      "metadata": {
        "id": "nQgimPg2dn04",
        "colab": {
          "base_uri": "https://localhost:8080/"
        },
        "outputId": "4fed73a1-fa2f-42e9-87ed-cf302f599528"
      },
      "source": [
        "y = (\"achin\",)\n",
        "print(type(y))\n",
        "\n",
        "# See now its a tuple"
      ],
      "execution_count": null,
      "outputs": [
        {
          "output_type": "stream",
          "name": "stdout",
          "text": [
            "<class 'tuple'>\n"
          ]
        }
      ]
    },
    {
      "cell_type": "code",
      "metadata": {
        "id": "ixPRYWt1dzMT",
        "colab": {
          "base_uri": "https://localhost:8080/"
        },
        "outputId": "eba21f2e-289c-4f8b-807b-a23793a0b8d0"
      },
      "source": [
        "# Joining Two Tuples\n",
        "\n",
        "m = (\"achin\",)\n",
        "n = (\"Tarun\",)\n",
        "\n",
        "o = m + n\n",
        "print(o)\n",
        "print(type(o))"
      ],
      "execution_count": null,
      "outputs": [
        {
          "output_type": "stream",
          "name": "stdout",
          "text": [
            "('achin', 'Tarun')\n",
            "<class 'tuple'>\n"
          ]
        }
      ]
    },
    {
      "cell_type": "code",
      "metadata": {
        "id": "z3HA0WiYeEyQ",
        "colab": {
          "base_uri": "https://localhost:8080/"
        },
        "outputId": "17c47441-f0ad-466f-a0f4-0907c1e24d85"
      },
      "source": [
        "# count()   # It Returns number of times value appears in a tuple\n",
        "\n",
        "a = (\"hims\",\"chau\",\"achin\",\"hims\",\"sourabh\",\"abhiket\")\n",
        "\n",
        "g = a.count(\"achin\")\n",
        "f = a.count(\"Rohan\")\n",
        "\n",
        "print(g)\n",
        "print(f)"
      ],
      "execution_count": null,
      "outputs": [
        {
          "output_type": "stream",
          "name": "stdout",
          "text": [
            "1\n",
            "0\n"
          ]
        }
      ]
    },
    {
      "cell_type": "code",
      "metadata": {
        "id": "1TYglMIOeYY8",
        "colab": {
          "base_uri": "https://localhost:8080/"
        },
        "outputId": "c388396d-c93c-45c0-d6ba-5463d782657d"
      },
      "source": [
        "# index()    # Search for the first occurrence of the value 4, and return its position:\n",
        "\n",
        "t = (0,1,2,4,3,5,4,6,4,7,2,1,8)\n",
        "\n",
        "t1 = t.index(4)\n",
        "print(t1)"
      ],
      "execution_count": null,
      "outputs": [
        {
          "output_type": "stream",
          "name": "stdout",
          "text": [
            "3\n"
          ]
        }
      ]
    },
    {
      "cell_type": "code",
      "metadata": {
        "id": "76CI-Ruae8dJ",
        "colab": {
          "base_uri": "https://localhost:8080/"
        },
        "outputId": "fa8256b2-e636-4343-e0bf-568ea577c33a"
      },
      "source": [
        "# max()   # It returns the elements from the tuple with maximum value.   # In Strings it compares through ASCII Codes.\n",
        "\n",
        "\n",
        "tuple1, tuple2 = (\"PQR\", 'abc', 'shyam', 'ram'), (956, 1000, 1200)\n",
        "print(\"Max value element : \", max(tuple1))\n",
        "print(\"Max value element : \", max(tuple2))"
      ],
      "execution_count": null,
      "outputs": [
        {
          "output_type": "stream",
          "name": "stdout",
          "text": [
            "Max value element :  shyam\n",
            "Max value element :  1200\n"
          ]
        }
      ]
    },
    {
      "cell_type": "code",
      "metadata": {
        "id": "byPAzwRBfhZo",
        "colab": {
          "base_uri": "https://localhost:8080/"
        },
        "outputId": "c3662174-0af5-4e14-a1aa-1c8b696c0334"
      },
      "source": [
        "# min()   # It returns the elements from the tuple with minimum value.   # In Strings it compares through ASCII Codes.\n",
        "\n",
        "\n",
        "tuple1, tuple2 = (\"PQR\", 'abc', 'shyam', 'ram'), (956, 1000, 1200)\n",
        "print(\"Min value element : \", min(tuple1))\n",
        "print(\"Min value element : \", min(tuple2))"
      ],
      "execution_count": null,
      "outputs": [
        {
          "output_type": "stream",
          "name": "stdout",
          "text": [
            "Min value element :  PQR\n",
            "Min value element :  956\n"
          ]
        }
      ]
    },
    {
      "cell_type": "code",
      "metadata": {
        "id": "xdd-4WTEVZhS"
      },
      "source": [],
      "execution_count": null,
      "outputs": []
    }
  ]
}