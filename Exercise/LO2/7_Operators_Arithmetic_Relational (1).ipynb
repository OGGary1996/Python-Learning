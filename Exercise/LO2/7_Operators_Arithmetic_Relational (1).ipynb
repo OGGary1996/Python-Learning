{
  "cells": [
    {
      "cell_type": "markdown",
      "id": "bc178694",
      "metadata": {
        "id": "bc178694"
      },
      "source": [
        "# Arithmetic Operators"
      ]
    },
    {
      "cell_type": "markdown",
      "source": [
        "+, -, *, /, //, **, %"
      ],
      "metadata": {
        "id": "8QikkoHVfvvC"
      },
      "id": "8QikkoHVfvvC"
    },
    {
      "cell_type": "code",
      "execution_count": null,
      "id": "9de1744c",
      "metadata": {
        "id": "9de1744c"
      },
      "outputs": [],
      "source": [
        "10 + 20"
      ]
    },
    {
      "cell_type": "code",
      "execution_count": null,
      "id": "26f516cf",
      "metadata": {
        "id": "26f516cf"
      },
      "outputs": [],
      "source": [
        "12 - 6"
      ]
    },
    {
      "cell_type": "code",
      "execution_count": null,
      "id": "c07c4b7c",
      "metadata": {
        "id": "c07c4b7c"
      },
      "outputs": [],
      "source": [
        "7 * 7"
      ]
    },
    {
      "cell_type": "code",
      "source": [
        "7 / 2"
      ],
      "metadata": {
        "colab": {
          "base_uri": "https://localhost:8080/"
        },
        "id": "bE34uBelV8yj",
        "outputId": "e0a5cdbd-c782-4628-df02-3508dea0c679"
      },
      "id": "bE34uBelV8yj",
      "execution_count": 2,
      "outputs": [
        {
          "output_type": "execute_result",
          "data": {
            "text/plain": [
              "3.5"
            ]
          },
          "metadata": {},
          "execution_count": 2
        }
      ]
    },
    {
      "cell_type": "code",
      "execution_count": null,
      "id": "88211d51",
      "metadata": {
        "id": "88211d51"
      },
      "outputs": [],
      "source": [
        "6 % 2"
      ]
    },
    {
      "cell_type": "code",
      "execution_count": null,
      "id": "784a6344",
      "metadata": {
        "colab": {
          "base_uri": "https://localhost:8080/"
        },
        "id": "784a6344",
        "outputId": "85c020d4-6358-4bc8-90e2-c1375a2eff37"
      },
      "outputs": [
        {
          "output_type": "execute_result",
          "data": {
            "text/plain": [
              "1"
            ]
          },
          "metadata": {},
          "execution_count": 6
        }
      ],
      "source": [
        "# modulo %\n",
        "\n",
        "7 % 2    # reminder"
      ]
    },
    {
      "cell_type": "code",
      "execution_count": null,
      "id": "0f601717",
      "metadata": {
        "colab": {
          "base_uri": "https://localhost:8080/"
        },
        "id": "0f601717",
        "outputId": "868ffffa-c74d-484c-fda7-3235060e9116"
      },
      "outputs": [
        {
          "output_type": "execute_result",
          "data": {
            "text/plain": [
              "1"
            ]
          },
          "metadata": {},
          "execution_count": 7
        }
      ],
      "source": [
        "10 % 3"
      ]
    },
    {
      "cell_type": "code",
      "execution_count": null,
      "id": "6c2f7d5f",
      "metadata": {
        "colab": {
          "base_uri": "https://localhost:8080/"
        },
        "id": "6c2f7d5f",
        "outputId": "8ab5448d-76f8-4432-bd08-e036a1dbd1ff"
      },
      "outputs": [
        {
          "output_type": "execute_result",
          "data": {
            "text/plain": [
              "3"
            ]
          },
          "metadata": {},
          "execution_count": 8
        }
      ],
      "source": [
        "15 % 6"
      ]
    },
    {
      "cell_type": "code",
      "execution_count": null,
      "id": "b23281ea",
      "metadata": {
        "colab": {
          "base_uri": "https://localhost:8080/"
        },
        "id": "b23281ea",
        "outputId": "64e89c6d-b0f0-4f2e-d2b9-986fdc5e872e"
      },
      "outputs": [
        {
          "output_type": "execute_result",
          "data": {
            "text/plain": [
              "3"
            ]
          },
          "metadata": {},
          "execution_count": 9
        }
      ],
      "source": [
        "# floor division\n",
        "\n",
        "7 // 2   # 3.5"
      ]
    },
    {
      "cell_type": "code",
      "execution_count": null,
      "id": "b4f7593d",
      "metadata": {
        "colab": {
          "base_uri": "https://localhost:8080/"
        },
        "id": "b4f7593d",
        "outputId": "87a760d2-545f-4ecc-c483-61e6fb361a04"
      },
      "outputs": [
        {
          "output_type": "execute_result",
          "data": {
            "text/plain": [
              "1"
            ]
          },
          "metadata": {},
          "execution_count": 10
        }
      ],
      "source": [
        "14 // 8   # 1."
      ]
    },
    {
      "cell_type": "code",
      "execution_count": null,
      "id": "95dc23ae",
      "metadata": {
        "colab": {
          "base_uri": "https://localhost:8080/"
        },
        "id": "95dc23ae",
        "outputId": "dc9db333-972f-449d-f5d0-fa5f90709e75"
      },
      "outputs": [
        {
          "output_type": "execute_result",
          "data": {
            "text/plain": [
              "8"
            ]
          },
          "metadata": {},
          "execution_count": 11
        }
      ],
      "source": [
        "# exponents\n",
        "\n",
        "2 ** 3   # 2 to the power 3"
      ]
    },
    {
      "cell_type": "code",
      "execution_count": null,
      "id": "d93ef3aa",
      "metadata": {
        "colab": {
          "base_uri": "https://localhost:8080/"
        },
        "id": "d93ef3aa",
        "outputId": "b8a900fc-73eb-442c-d224-abdb23f2d727"
      },
      "outputs": [
        {
          "output_type": "execute_result",
          "data": {
            "text/plain": [
              "343"
            ]
          },
          "metadata": {},
          "execution_count": 12
        }
      ],
      "source": [
        "7 ** 3"
      ]
    },
    {
      "cell_type": "markdown",
      "id": "7afd6bfd",
      "metadata": {
        "id": "7afd6bfd"
      },
      "source": [
        "# Relational Operators"
      ]
    },
    {
      "cell_type": "markdown",
      "source": [
        "> , < , >= , <=, ==, !="
      ],
      "metadata": {
        "id": "fKCjDuS5fzWp"
      },
      "id": "fKCjDuS5fzWp"
    },
    {
      "cell_type": "code",
      "execution_count": null,
      "id": "97d85bd4",
      "metadata": {
        "id": "97d85bd4"
      },
      "outputs": [],
      "source": [
        "10 > 5"
      ]
    },
    {
      "cell_type": "code",
      "execution_count": null,
      "id": "99b90cc3",
      "metadata": {
        "id": "99b90cc3"
      },
      "outputs": [],
      "source": [
        "11 < 5"
      ]
    },
    {
      "cell_type": "code",
      "execution_count": null,
      "id": "92cf7305",
      "metadata": {
        "id": "92cf7305"
      },
      "outputs": [],
      "source": [
        "10 >= 10"
      ]
    },
    {
      "cell_type": "code",
      "execution_count": null,
      "id": "065fae21",
      "metadata": {
        "id": "065fae21"
      },
      "outputs": [],
      "source": [
        "10 <= 11"
      ]
    },
    {
      "cell_type": "code",
      "execution_count": null,
      "id": "eb820260",
      "metadata": {
        "id": "eb820260"
      },
      "outputs": [],
      "source": [
        "10 == 10"
      ]
    },
    {
      "cell_type": "code",
      "execution_count": null,
      "id": "84ad0efe",
      "metadata": {
        "id": "84ad0efe"
      },
      "outputs": [],
      "source": [
        "11 == 10"
      ]
    },
    {
      "cell_type": "code",
      "execution_count": null,
      "id": "33ef8667",
      "metadata": {
        "id": "33ef8667"
      },
      "outputs": [],
      "source": [
        "a = int(input(\"Enter your ATM pin: \"))\n",
        "\n",
        "a == 1234"
      ]
    },
    {
      "cell_type": "code",
      "execution_count": null,
      "id": "372eaf00",
      "metadata": {
        "id": "372eaf00"
      },
      "outputs": [],
      "source": [
        "10 != 10"
      ]
    },
    {
      "cell_type": "code",
      "execution_count": null,
      "id": "ab7a895c",
      "metadata": {
        "id": "ab7a895c"
      },
      "outputs": [],
      "source": [
        "10 != 7"
      ]
    }
  ],
  "metadata": {
    "kernelspec": {
      "display_name": "Python 3 (ipykernel)",
      "language": "python",
      "name": "python3"
    },
    "language_info": {
      "codemirror_mode": {
        "name": "ipython",
        "version": 3
      },
      "file_extension": ".py",
      "mimetype": "text/x-python",
      "name": "python",
      "nbconvert_exporter": "python",
      "pygments_lexer": "ipython3",
      "version": "3.9.12"
    },
    "colab": {
      "provenance": []
    }
  },
  "nbformat": 4,
  "nbformat_minor": 5
}