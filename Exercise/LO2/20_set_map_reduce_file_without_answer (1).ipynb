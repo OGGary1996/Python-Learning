{
  "nbformat": 4,
  "nbformat_minor": 0,
  "metadata": {
    "kernelspec": {
      "display_name": "Python 3",
      "language": "python",
      "name": "python3"
    },
    "language_info": {
      "codemirror_mode": {
        "name": "ipython",
        "version": 3
      },
      "file_extension": ".py",
      "mimetype": "text/x-python",
      "name": "python",
      "nbconvert_exporter": "python",
      "pygments_lexer": "ipython3",
      "version": "3.6.9"
    },
    "colab": {
      "provenance": []
    }
  },
  "cells": [
    {
      "cell_type": "markdown",
      "metadata": {
        "id": "g1s9Tb8Qbmzd"
      },
      "source": [
        "## Sets\n",
        "\n",
        "A set is a data structure that can only contain unique objects.  Adding something that already exists in a set does nothing (but also does not cause an error)"
      ]
    },
    {
      "cell_type": "code",
      "metadata": {
        "id": "V1zRTqCUbmzd",
        "colab": {
          "base_uri": "https://localhost:8080/"
        },
        "outputId": "7f0e3945-ceae-499a-97aa-f0aeec86e70f"
      },
      "source": [
        "numbers = set([1,1,1,1,1,3,3,3,3,3,2,2,2,2,3,3,3,4])\n",
        "letters = set('TheQuickBrownFoxJumpedOverTheLazyDog'.lower())\n",
        "numbers.add(4)\n",
        "print(numbers)"
      ],
      "execution_count": null,
      "outputs": [
        {
          "output_type": "stream",
          "name": "stdout",
          "text": [
            "{1, 2, 3, 4}\n"
          ]
        }
      ]
    },
    {
      "cell_type": "code",
      "metadata": {
        "id": "C3HETxCsbmze",
        "colab": {
          "base_uri": "https://localhost:8080/"
        },
        "outputId": "e5b2a617-45a1-41e1-f6f0-f6617c979ca8"
      },
      "source": [
        "numbers.add(5)\n",
        "print(numbers)"
      ],
      "execution_count": null,
      "outputs": [
        {
          "output_type": "stream",
          "name": "stdout",
          "text": [
            "{1, 2, 3, 4, 5}\n"
          ]
        }
      ]
    },
    {
      "cell_type": "code",
      "metadata": {
        "id": "27BPrzKxbmze",
        "colab": {
          "base_uri": "https://localhost:8080/"
        },
        "outputId": "863a6a1e-25fb-4a9a-ff8d-a0413814750b"
      },
      "source": [
        "numbers.update([3,4,5,6,7])\n",
        "print(numbers)"
      ],
      "execution_count": null,
      "outputs": [
        {
          "output_type": "stream",
          "name": "stdout",
          "text": [
            "{1, 2, 3, 4, 5, 6, 7}\n"
          ]
        }
      ]
    },
    {
      "cell_type": "code",
      "metadata": {
        "id": "6MNlM29pbmze",
        "colab": {
          "base_uri": "https://localhost:8080/"
        },
        "outputId": "70fa9033-f6be-40b8-f72b-eb5b12ab0fb3"
      },
      "source": [
        "numbers.pop()"
      ],
      "execution_count": null,
      "outputs": [
        {
          "output_type": "execute_result",
          "data": {
            "text/plain": [
              "1"
            ]
          },
          "metadata": {},
          "execution_count": 5
        }
      ]
    },
    {
      "cell_type": "code",
      "metadata": {
        "id": "m0lqsc_cbmze",
        "colab": {
          "base_uri": "https://localhost:8080/"
        },
        "outputId": "54d1195a-0464-4356-9b13-6a75c166039c"
      },
      "source": [
        "print(numbers)"
      ],
      "execution_count": null,
      "outputs": [
        {
          "output_type": "stream",
          "name": "stdout",
          "text": [
            "{2, 3, 4, 5, 6, 7}\n"
          ]
        }
      ]
    },
    {
      "cell_type": "code",
      "metadata": {
        "id": "Cc0Jh00jbmzf"
      },
      "source": [
        "numbers.remove(7)"
      ],
      "execution_count": null,
      "outputs": []
    },
    {
      "cell_type": "code",
      "metadata": {
        "id": "rXR4eTgXbmzf",
        "colab": {
          "base_uri": "https://localhost:8080/"
        },
        "outputId": "e6a14adf-0cea-4b13-8dac-372fa01ce47d"
      },
      "source": [
        "print(numbers)"
      ],
      "execution_count": null,
      "outputs": [
        {
          "output_type": "stream",
          "name": "stdout",
          "text": [
            "{2, 3, 4, 5, 6}\n"
          ]
        }
      ]
    },
    {
      "cell_type": "markdown",
      "metadata": {
        "id": "0CZgvfgQbmzf"
      },
      "source": [
        "You can do Union, Intersection, and symmetric difference on sets..."
      ]
    },
    {
      "cell_type": "code",
      "metadata": {
        "id": "Q0UVfxXZbmzg",
        "colab": {
          "base_uri": "https://localhost:8080/"
        },
        "outputId": "c1d90e9d-86ae-445a-8cd7-19ea39dafceb"
      },
      "source": [
        "house_pets = {'dog', 'cat', 'fish'}\n",
        "farm_animals = {'cow', 'sheep', 'pig', 'dog', 'cat'}\n",
        "\n",
        "house_pets & farm_animals"
      ],
      "execution_count": null,
      "outputs": [
        {
          "output_type": "execute_result",
          "data": {
            "text/plain": [
              "{'cat', 'dog'}"
            ]
          },
          "metadata": {},
          "execution_count": 9
        }
      ]
    },
    {
      "cell_type": "code",
      "metadata": {
        "id": "2YjEwtHibmzg",
        "colab": {
          "base_uri": "https://localhost:8080/"
        },
        "outputId": "55275e09-e0e8-4eaf-dc04-3639e8cdae6b"
      },
      "source": [
        "house_pets | farm_animals"
      ],
      "execution_count": null,
      "outputs": [
        {
          "output_type": "execute_result",
          "data": {
            "text/plain": [
              "{'cat', 'cow', 'dog', 'fish', 'pig', 'sheep'}"
            ]
          },
          "metadata": {},
          "execution_count": 10
        }
      ]
    },
    {
      "cell_type": "code",
      "metadata": {
        "id": "GAlnhu8Xbmzg",
        "colab": {
          "base_uri": "https://localhost:8080/"
        },
        "outputId": "7563a6f0-8a01-4ed8-daf0-675133e71fac"
      },
      "source": [
        "house_pets ^ farm_animals # symmetric difference"
      ],
      "execution_count": null,
      "outputs": [
        {
          "output_type": "execute_result",
          "data": {
            "text/plain": [
              "{'cow', 'fish', 'pig', 'sheep'}"
            ]
          },
          "metadata": {},
          "execution_count": 11
        }
      ]
    },
    {
      "cell_type": "code",
      "metadata": {
        "id": "C4Uc1wS_bmzh",
        "colab": {
          "base_uri": "https://localhost:8080/"
        },
        "outputId": "44873bf8-b77f-4caa-d371-c676aa8a6730"
      },
      "source": [
        "house_pets - farm_animals # asymmetric difference"
      ],
      "execution_count": null,
      "outputs": [
        {
          "output_type": "execute_result",
          "data": {
            "text/plain": [
              "{'fish'}"
            ]
          },
          "metadata": {},
          "execution_count": 12
        }
      ]
    },
    {
      "cell_type": "markdown",
      "metadata": {
        "id": "6UcjgsYUbmzh"
      },
      "source": [
        "### In Class Exercise\n",
        "\n",
        "1. If we list all the natural numbers below 10 that are multiples of 3 or 5, we get 3,5,6 and 9.  The sum of these mutliples is 23.  Find the sum of all the multiples between 3 or 5 below 1000."
      ]
    },
    {
      "cell_type": "code",
      "metadata": {
        "id": "At0Ncxpubmzh"
      },
      "source": [],
      "execution_count": null,
      "outputs": []
    },
    {
      "cell_type": "markdown",
      "metadata": {
        "id": "ERZWEULQbmzi"
      },
      "source": [
        "## File IO\n",
        "\n",
        "Easy to do in Python!"
      ]
    },
    {
      "cell_type": "code",
      "metadata": {
        "id": "YNjAP8UIbmzj"
      },
      "source": [
        "myfile = open('data.txt', 'w')\n",
        "myfile.write(\"writing data to file\")\n",
        "myfile.close()"
      ],
      "execution_count": null,
      "outputs": []
    },
    {
      "cell_type": "markdown",
      "metadata": {
        "id": "bUPM1nC8bmzj"
      },
      "source": [
        "data.txt should be saved to the folder from where you are running this note book - go check!\n",
        "\n",
        "Note - opening a file that already exists will erase the original file!\n",
        "\n",
        "There are only a few modes which are commonly used\n",
        "1. w - writing\n",
        "2. r - reading\n",
        "3. a - appending\n",
        "4. r+ - reading and writing\n",
        "5. b - binary mode"
      ]
    },
    {
      "cell_type": "markdown",
      "metadata": {
        "id": "zvJTQvcnbmzk"
      },
      "source": [
        "### File-like Objects\n",
        "\n",
        "With the amount of RAM available in modern computers there could be a big performance gain in your applicaiton by using a file-like object.3"
      ]
    },
    {
      "cell_type": "code",
      "metadata": {
        "id": "oVKPjcODbmzl",
        "colab": {
          "base_uri": "https://localhost:8080/",
          "height": 35
        },
        "outputId": "c4725177-8dcb-4d69-f6a8-9c946774188d"
      },
      "source": [
        "import io\n",
        "mystringfile = io.StringIO()\n",
        "mystringfile.write(\"This is my data!\")\n",
        "mystringfile.read() # cursor is at the end!3"
      ],
      "execution_count": null,
      "outputs": [
        {
          "output_type": "execute_result",
          "data": {
            "text/plain": [
              "''"
            ],
            "application/vnd.google.colaboratory.intrinsic+json": {
              "type": "string"
            }
          },
          "metadata": {},
          "execution_count": 14
        }
      ]
    },
    {
      "cell_type": "code",
      "metadata": {
        "id": "WkKdagFsbmzl",
        "colab": {
          "base_uri": "https://localhost:8080/",
          "height": 35
        },
        "outputId": "868783bc-9c7e-4c8b-96a1-fe7f81f2ad59"
      },
      "source": [
        "mystringfile.seek(0) # put the cursor back at the start\n",
        "mystringfile.read()"
      ],
      "execution_count": null,
      "outputs": [
        {
          "output_type": "execute_result",
          "data": {
            "text/plain": [
              "'This is my data!'"
            ],
            "application/vnd.google.colaboratory.intrinsic+json": {
              "type": "string"
            }
          },
          "metadata": {},
          "execution_count": 15
        }
      ]
    },
    {
      "cell_type": "markdown",
      "metadata": {
        "id": "TxuFIqo7bmzm"
      },
      "source": [
        "### In Class Exercise\n",
        "\n",
        "Write a word count funtion that takes a text file and returns a dictionary that contains the count for each word.  Remove all punctuation except apostrophe.  Lowercase all words."
      ]
    },
    {
      "cell_type": "code",
      "metadata": {
        "id": "8YXvq4Kcbmzm"
      },
      "source": [
        "# Cell is for all In Class Exercise\n",
        "\n",
        "\n"
      ],
      "execution_count": null,
      "outputs": []
    },
    {
      "cell_type": "markdown",
      "metadata": {
        "id": "2tsImKe4bmzp"
      },
      "source": [
        "## Map Reduce\n",
        "\n",
        "A map is a function that takes two arguments: another function and a collection of items.  It will:\n",
        "1. Run the function on each item of the original collection\n",
        "2. Return a new collection containing the results\n",
        "3. Leave the original collection unchanged\n",
        "\n",
        "In Python the collection must simply be iterable (list, tuple, string)"
      ]
    },
    {
      "cell_type": "code",
      "metadata": {
        "id": "PRf-SNkZbmzv",
        "colab": {
          "base_uri": "https://localhost:8080/"
        },
        "outputId": "51be0702-8fb8-464a-81db-d329587e4cf9"
      },
      "source": [
        "#Example 1: String Lengths\n",
        "string_lengths = map(len, [\"dog\", \"cat\", \"zebra\", \"turtle\"])\n",
        "print(list(string_lengths))"
      ],
      "execution_count": null,
      "outputs": [
        {
          "output_type": "stream",
          "name": "stdout",
          "text": [
            "[3, 3, 5, 6]\n"
          ]
        }
      ]
    },
    {
      "cell_type": "markdown",
      "metadata": {
        "id": "Nj2WeNo0bmzv"
      },
      "source": [
        "Example 2: Cubing"
      ]
    },
    {
      "cell_type": "code",
      "source": [
        "cubes = map(lambda x: x**3, [0,1,2,3,4])\n",
        "print(list(cubes))"
      ],
      "metadata": {
        "id": "of218sGQiWjb",
        "colab": {
          "base_uri": "https://localhost:8080/"
        },
        "outputId": "769b9efa-0313-4090-9063-2f0559cabb2e"
      },
      "execution_count": null,
      "outputs": [
        {
          "output_type": "stream",
          "name": "stdout",
          "text": [
            "[0, 1, 8, 27, 64]\n"
          ]
        }
      ]
    },
    {
      "cell_type": "markdown",
      "metadata": {
        "id": "Ythc2TfMbmzw"
      },
      "source": [
        "## Lambdas\n",
        "\n",
        "A Lambda lets you define and use an unnamed function.  Arguments fit between the lambda and the colon while the stuff after the colon gets implicity returned (ie without an explicit return statement)\n",
        "\n",
        "Lambdas are most useful when:\n",
        "1. your function is simple\n",
        "2. you only need to use it once\n",
        "\n",
        "Consider the usual way:"
      ]
    },
    {
      "cell_type": "code",
      "metadata": {
        "id": "L5y1OguUbmzw",
        "colab": {
          "base_uri": "https://localhost:8080/"
        },
        "outputId": "9b750974-9ebe-43f0-b430-91ccb9168986"
      },
      "source": [
        "def cube(x):\n",
        "    return x**3\n",
        "\n",
        "print(cube(4))"
      ],
      "execution_count": null,
      "outputs": [
        {
          "output_type": "stream",
          "name": "stdout",
          "text": [
            "64\n"
          ]
        }
      ]
    },
    {
      "cell_type": "code",
      "metadata": {
        "id": "W13po8NVbmzx",
        "colab": {
          "base_uri": "https://localhost:8080/"
        },
        "outputId": "b1410a30-a06e-4b16-962e-2ecc0f86f50f"
      },
      "source": [
        "# we could have done this instead\n",
        "cubes = map(cube, [0,1,2,3,4])\n",
        "print(list(cubes))"
      ],
      "execution_count": null,
      "outputs": [
        {
          "output_type": "stream",
          "name": "stdout",
          "text": [
            "[0, 1, 8, 27, 64]\n"
          ]
        }
      ]
    },
    {
      "cell_type": "markdown",
      "metadata": {
        "id": "EaccLcnCbmzx"
      },
      "source": [
        "### In Class Exercise\n",
        "\n",
        "Write a lambda to add 5 to a list of numbers"
      ]
    },
    {
      "cell_type": "code",
      "metadata": {
        "id": "z2XC98VEbmzx"
      },
      "source": [],
      "execution_count": null,
      "outputs": []
    },
    {
      "cell_type": "markdown",
      "metadata": {
        "id": "ARZLOo8Ybmzy"
      },
      "source": [
        "Now back to map - Here is a procedural way to take a list of real names and assign them a random code name"
      ]
    },
    {
      "cell_type": "code",
      "metadata": {
        "id": "Zx8gDdCZbmzy",
        "colab": {
          "base_uri": "https://localhost:8080/"
        },
        "outputId": "24435bc6-66a0-4f42-98ea-d9dc7c83f64c"
      },
      "source": [
        "import random\n",
        "\n",
        "names = ['Jared', 'Gavin', 'Walter', 'Mike', 'Brett', 'Hugh']\n",
        "code_names = ['Eagle', 'Hawk', 'Seagull', 'Heron', 'Sparrow', 'Raven']\n",
        "\n",
        "for i in range(len(names)):\n",
        "    names[i] = random.choice(code_names)\n",
        "\n",
        "print(names)"
      ],
      "execution_count": null,
      "outputs": [
        {
          "output_type": "stream",
          "name": "stdout",
          "text": [
            "['Sparrow', 'Raven', 'Raven', 'Hawk', 'Heron', 'Raven']\n"
          ]
        }
      ]
    },
    {
      "cell_type": "markdown",
      "metadata": {
        "id": "gj7rk460bmzy"
      },
      "source": [
        "### In Class Exercise\n",
        "\n",
        "Rewrite the above function functionally (use map and lambda)"
      ]
    },
    {
      "cell_type": "code",
      "metadata": {
        "id": "DdDTGoHxbmzz"
      },
      "source": [],
      "execution_count": null,
      "outputs": []
    },
    {
      "cell_type": "markdown",
      "metadata": {
        "id": "od27CmE2bmzz"
      },
      "source": [
        "## Reduce\n",
        "\n",
        "Reduce is a counter part to map.  Given a funciton and a collection of items, it uses the function to combine then into a single value and returns that result.\n",
        "\n",
        "The function passed to reduce has some restictions.  It must take two arguments: an accumulator and an update value.  The update value is like it was before with map; it will get set to each item in the collection one by one.  The accumulator is new.  It recieves the output from the previous function call, thus \"accumulating\" the combined value from item to item through the collection."
      ]
    },
    {
      "cell_type": "code",
      "metadata": {
        "id": "Sq6jv3ipbmzz",
        "colab": {
          "base_uri": "https://localhost:8080/"
        },
        "outputId": "f23e7287-2d83-4af7-c7ce-ddddae323af1"
      },
      "source": [
        "import functools\n",
        "sum = functools.reduce(lambda a, x: a + x, [0,1,2,3,4])\n",
        "print(sum)"
      ],
      "execution_count": null,
      "outputs": [
        {
          "output_type": "stream",
          "name": "stdout",
          "text": [
            "10\n"
          ]
        }
      ]
    }
  ]
}