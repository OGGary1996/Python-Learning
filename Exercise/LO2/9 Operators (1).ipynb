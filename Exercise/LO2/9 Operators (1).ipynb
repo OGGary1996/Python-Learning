{
  "nbformat": 4,
  "nbformat_minor": 0,
  "metadata": {
    "colab": {
      "provenance": []
    },
    "kernelspec": {
      "name": "python3",
      "display_name": "Python 3"
    }
  },
  "cells": [
    {
      "cell_type": "code",
      "metadata": {
        "id": "ztAvCUQV_knn",
        "colab": {
          "base_uri": "https://localhost:8080/",
          "height": 147
        },
        "outputId": "f3e9e7df-cb9c-4088-80b9-0acafa6ccb4f"
      },
      "source": [
        "# Arithmetic Operators\n",
        "\n",
        "x = 5\n",
        "y = 2\n",
        "\n",
        "print(x+y)\n",
        "print(x-y)\n",
        "print(x*y)\n",
        "print(x/y)\n",
        "print(x//y) # Returns Quotient\n",
        "print(x**y)\n",
        "print(x%y) # Returns Remainder"
      ],
      "execution_count": null,
      "outputs": [
        {
          "output_type": "stream",
          "text": [
            "7\n",
            "3\n",
            "10\n",
            "2.5\n",
            "2\n",
            "25\n",
            "1\n"
          ],
          "name": "stdout"
        }
      ]
    },
    {
      "cell_type": "code",
      "metadata": {
        "id": "7UzxgOBn_2Xp",
        "colab": {
          "base_uri": "https://localhost:8080/",
          "height": 128
        },
        "outputId": "66e1765c-4a93-4428-9e31-b038a73b051b"
      },
      "source": [
        "# Comparison Operators\n",
        "\n",
        "x = 5\n",
        "y = 7\n",
        "\n",
        "print(x==y)\n",
        "print(x!=y)\n",
        "print(x>y)\n",
        "print(x<y)\n",
        "print(x>=y)\n",
        "print(x<=y)"
      ],
      "execution_count": null,
      "outputs": [
        {
          "output_type": "stream",
          "text": [
            "False\n",
            "True\n",
            "False\n",
            "True\n",
            "False\n",
            "True\n"
          ],
          "name": "stdout"
        }
      ]
    },
    {
      "cell_type": "code",
      "metadata": {
        "id": "-_alSXNrAROo",
        "colab": {
          "base_uri": "https://localhost:8080/",
          "height": 73
        },
        "outputId": "e62ca6ab-6c38-45e5-bf9f-a6ba7f46d776"
      },
      "source": [
        "# Logical Operators\n",
        "\n",
        "x = 5\n",
        "\n",
        "print(x > 8 and x > 10)  # Needs both condition to be true.\n",
        "print(x > 4  or x > 10)   # Needs one condition to be true.\n",
        "print(not(x > 8 and x > 10))  # Returns opposite of (and) keyword."
      ],
      "execution_count": null,
      "outputs": [
        {
          "output_type": "stream",
          "text": [
            "False\n",
            "True\n",
            "True\n"
          ],
          "name": "stdout"
        }
      ]
    },
    {
      "cell_type": "code",
      "metadata": {
        "id": "2H0heFz0BIcl",
        "colab": {
          "base_uri": "https://localhost:8080/",
          "height": 91
        },
        "outputId": "c76f71bc-378f-46b4-cf50-2849aa683933"
      },
      "source": [
        "# Identity Operators\n",
        "\n",
        "x = \"Pulkit\"\n",
        "y = \"Pulkit\"\n",
        "\n",
        "m = 4\n",
        "n = 5\n",
        "\n",
        "print(x is y)\n",
        "print(x is not y)\n",
        "\n",
        "\n",
        "print(m is n)\n",
        "print(m is not n)"
      ],
      "execution_count": null,
      "outputs": [
        {
          "output_type": "stream",
          "text": [
            "True\n",
            "False\n",
            "False\n",
            "True\n"
          ],
          "name": "stdout"
        }
      ]
    },
    {
      "cell_type": "code",
      "metadata": {
        "id": "bSFU_zKlBXAz",
        "colab": {
          "base_uri": "https://localhost:8080/",
          "height": 54
        },
        "outputId": "738f3bd7-46dd-4830-f1b3-d3b8dbb65ca9"
      },
      "source": [
        "# Membership Operator\n",
        "\n",
        "x = [\"apple\", \"banana\"]\n",
        "\n",
        "print(\"banana\" in x)\n",
        "print(\"banana\" not in x)"
      ],
      "execution_count": null,
      "outputs": [
        {
          "output_type": "stream",
          "text": [
            "True\n",
            "False\n"
          ],
          "name": "stdout"
        }
      ]
    },
    {
      "cell_type": "code",
      "metadata": {
        "id": "SyZEc9OuBxAW",
        "colab": {
          "base_uri": "https://localhost:8080/",
          "height": 128
        },
        "outputId": "41868d93-beb1-42f4-8bfe-6c0faf5eb1df"
      },
      "source": [
        "# Bitwise Operator\n",
        "\n",
        "#  128 64 32 16 8 4 2 1\n",
        "\n",
        "a = 6             # 6 = 0110\n",
        "b = 8             # 8 = 1000\n",
        "c = 0\n",
        "\n",
        "c = a & b;        # Operator copies a bit to the result if it exists in both operands. # But in 6 and 8 all bits are different.\n",
        "print(c)\n",
        "\n",
        "c = a | b;        # It copies a bit if it exists in either operand. # 0-1 -> 1 , 1-0 -> 1 , 0-0 -> 0\n",
        "print(c)\n",
        "\n",
        "c = a ^ b;        # 0-0 -> 0 , 0-1 -> 1, 1-0 -> 1, 1-1 -> 0\n",
        "print(c)\n",
        "\n",
        "c = a << 2;       # Left shift by 2 i.e 00011\n",
        "print(c)\n",
        "\n",
        "c = a >> 2;       # Right Shift by 2 i.e 0110   i.e only 01 remains here.  = 1\n",
        "print(c)\n",
        "\n",
        "c = ~a;           # Reverse of bits i.e complement of 6 i.e  1001\n",
        "print(c)\n"
      ],
      "execution_count": null,
      "outputs": [
        {
          "output_type": "stream",
          "text": [
            "0\n",
            "14\n",
            "14\n",
            "24\n",
            "1\n",
            "-7\n"
          ],
          "name": "stdout"
        }
      ]
    }
  ]
}