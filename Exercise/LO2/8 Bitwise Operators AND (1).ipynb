{
  "cells": [
    {
      "cell_type": "markdown",
      "id": "32cdbfdb",
      "metadata": {
        "id": "32cdbfdb"
      },
      "source": [
        "# Bitwise Operators"
      ]
    },
    {
      "cell_type": "markdown",
      "source": [
        "\n",
        "\n",
        "*   & -> bitwise and\n",
        "*   | -> bitwise or\n",
        "*   ^ -> bitwise xor\n",
        "*   <<  -> bitwise leftshift\n",
        "*   '>>'  -> bitwise rightshift\n",
        "\n",
        "\n",
        "\n",
        "\n",
        "\n",
        "\n"
      ],
      "metadata": {
        "id": "DePFFhGIgPLv"
      },
      "id": "DePFFhGIgPLv"
    },
    {
      "cell_type": "markdown",
      "id": "6b49f93c",
      "metadata": {
        "id": "6b49f93c"
      },
      "source": [
        "# & -> bitwise and\n"
      ]
    },
    {
      "cell_type": "code",
      "execution_count": null,
      "id": "e3150dd8",
      "metadata": {
        "colab": {
          "base_uri": "https://localhost:8080/"
        },
        "id": "e3150dd8",
        "outputId": "b325708e-38ce-43c9-f146-f6150f66abd1"
      },
      "outputs": [
        {
          "output_type": "stream",
          "name": "stdout",
          "text": [
            "0\n"
          ]
        }
      ],
      "source": [
        "print(8 & 2)"
      ]
    },
    {
      "cell_type": "markdown",
      "id": "8d46ed98",
      "metadata": {
        "id": "8d46ed98"
      },
      "source": [
        "# Binary Numbers"
      ]
    },
    {
      "cell_type": "code",
      "execution_count": null,
      "id": "887e7d6f",
      "metadata": {
        "id": "887e7d6f"
      },
      "outputs": [],
      "source": [
        "1024    512    256    128    64    32    16    8    4    2    1\n",
        "                                               1    0    0    0\n",
        "                                                         1    0\n",
        "                                               0    0    0    0\n",
        "                                               1    0    1    1\n",
        "                                                         1    1\n",
        "                                          1    1    0    1    1\n",
        "                                          1    1    0    0    1"
      ]
    },
    {
      "cell_type": "code",
      "execution_count": null,
      "id": "8ab83c3e",
      "metadata": {
        "id": "8ab83c3e"
      },
      "outputs": [],
      "source": [
        "truth tables\n",
        "&\n",
        "0  &  0 -> 0\n",
        "0  &  1 -> 0\n",
        "1  &  0 -> 0\n",
        "1  &  1 -> 1"
      ]
    },
    {
      "cell_type": "code",
      "execution_count": null,
      "id": "0fc892ff",
      "metadata": {
        "id": "0fc892ff"
      },
      "outputs": [],
      "source": [
        "1000\n",
        "0010  &\n",
        "0000"
      ]
    },
    {
      "cell_type": "code",
      "execution_count": null,
      "id": "2ebbe530",
      "metadata": {
        "colab": {
          "base_uri": "https://localhost:8080/"
        },
        "id": "2ebbe530",
        "outputId": "36765fae-d329-41d1-9f4c-806679cee322"
      },
      "outputs": [
        {
          "output_type": "stream",
          "name": "stdout",
          "text": [
            "3\n"
          ]
        }
      ],
      "source": [
        "print(11 & 3)"
      ]
    },
    {
      "cell_type": "code",
      "execution_count": null,
      "id": "e2c33fba",
      "metadata": {
        "id": "e2c33fba"
      },
      "outputs": [],
      "source": [
        "1011\n",
        "0011  &\n",
        "0011"
      ]
    },
    {
      "cell_type": "code",
      "execution_count": null,
      "id": "f14c2e3a",
      "metadata": {
        "colab": {
          "base_uri": "https://localhost:8080/"
        },
        "id": "f14c2e3a",
        "outputId": "c73243db-132a-4113-acba-55378027afeb"
      },
      "outputs": [
        {
          "output_type": "execute_result",
          "data": {
            "text/plain": [
              "11"
            ]
          },
          "metadata": {},
          "execution_count": 4
        }
      ],
      "source": [
        "27 & 11"
      ]
    },
    {
      "cell_type": "code",
      "execution_count": null,
      "id": "5bb24d18",
      "metadata": {
        "id": "5bb24d18"
      },
      "outputs": [],
      "source": [
        "11011\n",
        "01011  &\n",
        "01011"
      ]
    },
    {
      "cell_type": "code",
      "execution_count": null,
      "id": "9f1fdb6b",
      "metadata": {
        "colab": {
          "base_uri": "https://localhost:8080/"
        },
        "id": "9f1fdb6b",
        "outputId": "15393547-0e21-405b-c4e6-a711dda520e3"
      },
      "outputs": [
        {
          "output_type": "execute_result",
          "data": {
            "text/plain": [
              "25"
            ]
          },
          "metadata": {},
          "execution_count": 5
        }
      ],
      "source": [
        "31 & 25"
      ]
    },
    {
      "cell_type": "code",
      "execution_count": null,
      "id": "877d5a15",
      "metadata": {
        "id": "877d5a15"
      },
      "outputs": [],
      "source": [
        "11111\n",
        "11001  &\n",
        "11001"
      ]
    }
  ],
  "metadata": {
    "kernelspec": {
      "display_name": "Python 3 (ipykernel)",
      "language": "python",
      "name": "python3"
    },
    "language_info": {
      "codemirror_mode": {
        "name": "ipython",
        "version": 3
      },
      "file_extension": ".py",
      "mimetype": "text/x-python",
      "name": "python",
      "nbconvert_exporter": "python",
      "pygments_lexer": "ipython3",
      "version": "3.9.12"
    },
    "colab": {
      "provenance": []
    }
  },
  "nbformat": 4,
  "nbformat_minor": 5
}