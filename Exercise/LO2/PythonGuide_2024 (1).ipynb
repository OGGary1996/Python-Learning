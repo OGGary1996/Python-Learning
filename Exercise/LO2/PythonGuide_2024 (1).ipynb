{
  "nbformat": 4,
  "nbformat_minor": 0,
  "metadata": {
    "colab": {
      "provenance": []
    },
    "kernelspec": {
      "name": "python3",
      "display_name": "Python 3"
    },
    "language_info": {
      "name": "python"
    }
  },
  "cells": [
    {
      "cell_type": "code",
      "execution_count": null,
      "metadata": {
        "id": "pEb8LTq0GMso"
      },
      "outputs": [],
      "source": [
        "# Python Guide"
      ]
    },
    {
      "cell_type": "markdown",
      "source": [
        "# Python Guide\n",
        "## Readability\n",
        "Python is developed as a collaborative, free and open source project. A \"PEP\" (Python Enhancement Proposal) is a written proposal used in Python development.\n",
        "\n",
        "One of the earliest PEPs, PEP8, is a consensus set of style and formatting rules for writing \"standard\" style Python, so your code has the right look for anyone else reading or modifying it.\n",
        "\n",
        "Here are the most important PEP8 rules we will use. The code you turn in should abide by PEP8.\n",
        "\n"
      ],
      "metadata": {
        "id": "6sEeJ239GZS4"
      }
    },
    {
      "cell_type": "markdown",
      "source": [
        "**Indent 4 Spaces**\n",
        "\n",
        "Indent code with 4 spaces. A def/if/for/while line ends with a colon, and its contained lines begin on the next line, all indented 4 spaces, like this:"
      ],
      "metadata": {
        "id": "h0KxMenOGzpi"
      }
    },
    {
      "cell_type": "code",
      "source": [
        "color = 'red'\n",
        "if color == 'red':\n",
        "    color = 'green'\n",
        "    print(color)"
      ],
      "metadata": {
        "colab": {
          "base_uri": "https://localhost:8080/"
        },
        "id": "06h6GXJRGkbQ",
        "outputId": "30d7ec9b-4b0a-480c-bbc8-43d7dcbf0f3a"
      },
      "execution_count": null,
      "outputs": [
        {
          "output_type": "stream",
          "name": "stdout",
          "text": [
            "green\n"
          ]
        }
      ]
    },
    {
      "cell_type": "markdown",
      "source": [
        "**Single Space Between Items**\n",
        "\n",
        "Most lines of code have a mix of variables and \"operators\" such as as + * / = >=. Use a single space to separate the operators and items and operators from each other:"
      ],
      "metadata": {
        "id": "qOBwjhJuHsXr"
      }
    },
    {
      "cell_type": "code",
      "source": [
        "x = 13\n",
        "bound = x * 12 + 13\n",
        "if x >= 4:\n",
        "    print(x + 2)"
      ],
      "metadata": {
        "colab": {
          "base_uri": "https://localhost:8080/"
        },
        "id": "b43GWEANGfLP",
        "outputId": "91cabb8b-1d44-4041-a324-08bbe37b28d3"
      },
      "execution_count": null,
      "outputs": [
        {
          "output_type": "stream",
          "name": "stdout",
          "text": [
            "15\n"
          ]
        }
      ]
    },
    {
      "cell_type": "markdown",
      "source": [
        "**Parenthesis No Space**\n",
        "\n",
        "The left and right parenthesis and square brackets do not have spaces separating them from their contents. The left parenthesis for a function call is right next to the function name:\n",
        "\n",
        "```\n",
        "run_along(1, 2 * 3, 'hi')\n",
        "bark()\n",
        "lst = [1, 2, z * 6]\n",
        "```\n",
        "**Space After Comma/Colon**\n",
        "\n",
        "A comma or colon has 1 space after it, but no spaces before it.\n",
        "\n",
        "```\n",
        "foo(1, 'hello', 42)  # comma: 0 space before, 1 space after\n",
        "[1, 2, 3]            # e.g. list\n",
        "{'a': 1, 'b': 2}     # e.g. dict\n",
        "\n",
        "```\n",
        "\n"
      ],
      "metadata": {
        "id": "RA2nepFNIM2f"
      }
    },
    {
      "cell_type": "markdown",
      "source": [
        "\n",
        "**Slice Exception**\n",
        "\n",
        "Slices are an exception to the above rule. It's acceptable for the colon in a slice to have no spaces, and that's how it's most often written, like this:\n",
        "\n",
        "`s[start:end + 1]     # slice - no spaces`\n",
        "\n",
        "**Use a Consistent Quote Mark**\n",
        "\n",
        "Python strings can be written within single quotes like 'Hello' or double quotes like \"there\". PEP8 requires a program to pick one quote style and use it consistently."
      ],
      "metadata": {
        "id": "h42tCvvuJDuN"
      }
    },
    {
      "cell_type": "markdown",
      "source": [
        "**2 Blank Lines Before Def**\n",
        "\n",
        "PEP8 requires 2 blank lines before each def in a file. This is one of the weaker PEP8 rules. We will not be very upset about your code if it has 3 lines between functions.\n",
        "\n",
        "**Blank Lines Within a Def**\n",
        "\n",
        "If the lines of code have natural phases, use blank lines within the def to separate these phases from each other, much like dividing an essay into paragraphs. The standard says to use blank lines \"sparingly\"."
      ],
      "metadata": {
        "id": "CV73SUjiJ4I-"
      }
    },
    {
      "cell_type": "markdown",
      "source": [
        "**Do Not Write: if x == True**\n",
        "\n",
        "The way that boolean True/False is evaluated in an if/while test is a little more complicated than it appears. The simple rule is this: do not write `if x == True` or if` x == False` in an if/while test.\n",
        "\n",
        "Say we have a print_greeting() function that takes in a shout_mode parameter.\n",
        "\n",
        "Do not write this:\n",
        "\n",
        "```\n",
        "def print_greeting(words, shout_mode):\n",
        "    if shout_mode == True:   # NO not like this\n",
        "        print(words.upper())\n",
        "    else\n",
        "        print(words)\n",
        "```\n",
        "\n",
        "\n",
        "The if structure can distinguish True vs. False values itself. Therefore, write the code to give the boolean `shout_mode` to the if directly, like this:\n",
        "```\n",
        "def print_greeting(words, shout_mode):\n",
        "    if shout_mode:           # YES like this\n",
        "        print(words.upper())\n",
        "    else:\n",
        "        print(words)\n",
        "```\n",
        "To invert the logic do not use `== False`. Use **not** like this:\n",
        "```\n",
        "def print_greeting(words, shout_mode):\n",
        "    if not shout_mode:\n",
        "        print('Not shouting')\n",
        "    else:\n",
        "        print(words)\n",
        "```"
      ],
      "metadata": {
        "id": "dGKMwHabJ4Wm"
      }
    },
    {
      "cell_type": "markdown",
      "source": [
        "# Python Keywords\n",
        "\n",
        "A few words like def, for, and if are fixed \"keywords\" in Python, so you cannot use those words as variable or function names. Here is the list of keywords:\n",
        "\n",
        "\n",
        "\n",
        "```\n",
        ">>> import keyword\n",
        ">>> keyword.kwlist\n",
        "['False', 'None', 'True', 'and', 'as', 'assert', 'async', 'await', 'break', 'class', 'continue', 'def', 'del', 'elif',\n",
        "'else', 'except', 'finally', 'for', 'from', 'global', 'if', 'import', 'in', 'is',\n",
        "'lambda', 'nonlocal', 'not', 'or', 'pass', 'raise', 'return', 'try', 'while', 'with', 'yield']\n",
        "```\n",
        "\n"
      ],
      "metadata": {
        "id": "-dVWjNTYUgaJ"
      }
    },
    {
      "cell_type": "markdown",
      "source": [
        "# Python Stype Readable\n",
        "\n",
        "## Good Function Names\n",
        "\n",
        "Function names often use verbs indicating what calling the function will accomplish.\n",
        "\n",
        "## Good Variable Names\n",
        "\n",
        "The code in a function is a story, a narrative, and the variable and function names help you keep the parts of the story clear in your mind. A variable name provides a short label for a bit of data in the story."
      ],
      "metadata": {
        "id": "rkIljYlMW56s"
      }
    },
    {
      "cell_type": "code",
      "source": [],
      "metadata": {
        "id": "F8oSPcEDIX1u"
      },
      "execution_count": null,
      "outputs": []
    }
  ]
}