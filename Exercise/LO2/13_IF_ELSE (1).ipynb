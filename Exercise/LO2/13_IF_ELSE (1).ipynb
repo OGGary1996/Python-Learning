{
  "cells": [
    {
      "cell_type": "markdown",
      "source": [
        "\n",
        "## IF, ELSE, ELIF"
      ],
      "metadata": {
        "collapsed": false,
        "pycharm": {
          "name": "#%% md\n"
        },
        "id": "ws1NjsJOlJOW"
      }
    },
    {
      "cell_type": "code",
      "execution_count": null,
      "outputs": [
        {
          "name": "stdout",
          "output_type": "stream",
          "text": [
            "Cold!\n"
          ]
        }
      ],
      "source": [
        "temp = int(input('Enter the temperature in degrees C: '))\n",
        "if temp<=20:\n",
        "    print('Cold!')\n",
        "else:\n",
        "    print('Hot!')"
      ],
      "metadata": {
        "pycharm": {
          "name": "#%%\n"
        },
        "id": "vBUZPEMhlJOY",
        "outputId": "0a094803-a599-425a-ddf3-201b94ffeb9c"
      }
    },
    {
      "cell_type": "code",
      "execution_count": null,
      "outputs": [
        {
          "name": "stdout",
          "output_type": "stream",
          "text": [
            "Admission cost is $40\n"
          ]
        }
      ],
      "source": [
        "age = int(input('Enter age: '))\n",
        "\n",
        "if age<4:\n",
        "    print('Your admission cost is $0')\n",
        "elif age<18:\n",
        "    print('Your admission cost is $25')\n",
        "else:\n",
        "    print('Admission cost is $40')"
      ],
      "metadata": {
        "pycharm": {
          "name": "#%%\n"
        },
        "id": "javnF2ZDlJOa",
        "outputId": "3c2cd930-2ea4-4e3c-8ff8-3f50743ad538"
      }
    },
    {
      "cell_type": "code",
      "execution_count": null,
      "outputs": [
        {
          "name": "stdout",
          "output_type": "stream",
          "text": [
            "Not Eligible for Credit Transfer!\n"
          ]
        }
      ],
      "source": [
        "n = 'Not Eligible for Credit Transfer!'\n",
        "e = 'Eligible for Credit Transfer!'\n",
        "prog = input('Enter your program name: ').upper()\n",
        "if prog == 'AIDA':\n",
        "    sem = input('Enter your semester: ')\n",
        "    if sem in ['I', '1', '1st']:\n",
        "        math_or_not = input('Have you studies Higher Mathematics in under-grad?').upper()\n",
        "        if math_or_not in ['Y','YES']:\n",
        "            print(e)\n",
        "        else:\n",
        "            print(n)\n",
        "    else:\n",
        "        print(n)\n",
        "else:\n",
        "    print(n)"
      ],
      "metadata": {
        "pycharm": {
          "name": "#%%\n"
        },
        "id": "yVO1seAylJOa",
        "outputId": "f982c3b5-d79a-4143-ea81-9902bb9978f0"
      }
    },
    {
      "cell_type": "markdown",
      "source": [
        "## Loops\n",
        "### While"
      ],
      "metadata": {
        "collapsed": false,
        "pycharm": {
          "name": "#%% md\n"
        },
        "id": "m0gOGwbGlJOa"
      }
    },
    {
      "cell_type": "code",
      "execution_count": null,
      "outputs": [
        {
          "name": "stdout",
          "output_type": "stream",
          "text": [
            "HAHA\n",
            "HAHA\n",
            "HAHA\n",
            "HAHA\n",
            "HAHA\n"
          ]
        }
      ],
      "source": [
        "count = 5\n",
        "while count:\n",
        "    print(\"HAHA\")\n",
        "    count-=1"
      ],
      "metadata": {
        "pycharm": {
          "name": "#%%\n"
        },
        "id": "8Yz88DyFlJOa",
        "outputId": "4690cd50-e01e-4c5d-ce7e-4ebd2dbb85cd"
      }
    },
    {
      "cell_type": "markdown",
      "source": [
        "### The paper fold question."
      ],
      "metadata": {
        "collapsed": false,
        "pycharm": {
          "name": "#%% md\n"
        },
        "id": "bXubei3SlJOb"
      }
    },
    {
      "cell_type": "code",
      "execution_count": null,
      "outputs": [
        {
          "name": "stdout",
          "output_type": "stream",
          "text": [
            "42\n"
          ]
        }
      ],
      "source": [
        "thickness = float(input('Enter thickness of the paper in mm: '))\n",
        "distance = 384_400_000_000\n",
        "fold = 0\n",
        "i = thickness\n",
        "while i<=distance:\n",
        "    i = i*2\n",
        "    fold += 1\n",
        "\n",
        "print(fold)"
      ],
      "metadata": {
        "pycharm": {
          "name": "#%%\n"
        },
        "id": "pDgNRbgjlJOb",
        "outputId": "65e0d834-7266-4f3f-bd9a-fc3d38af07a8"
      }
    },
    {
      "cell_type": "code",
      "execution_count": null,
      "outputs": [],
      "source": [],
      "metadata": {
        "pycharm": {
          "name": "#%%\n"
        },
        "id": "O4Z-oK0jlJOb"
      }
    }
  ],
  "metadata": {
    "kernelspec": {
      "display_name": "Python 3",
      "language": "python",
      "name": "python3"
    },
    "language_info": {
      "codemirror_mode": {
        "name": "ipython",
        "version": 2
      },
      "file_extension": ".py",
      "mimetype": "text/x-python",
      "name": "python",
      "nbconvert_exporter": "python",
      "pygments_lexer": "ipython2",
      "version": "2.7.6"
    },
    "colab": {
      "provenance": []
    }
  },
  "nbformat": 4,
  "nbformat_minor": 0
}