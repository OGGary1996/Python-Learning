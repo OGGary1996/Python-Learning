{
 "cells": [
  {
   "cell_type": "markdown",
   "metadata": {
    "id": "UEtBJ-_D3G2k"
   },
   "source": [
    "# Pandas\n",
    "\n",
    "Panadas is a Python Module for numerical analysis and Time series analaysis\n",
    "\n",
    "## Basic Data Structures"
   ]
  },
  {
   "cell_type": "code",
   "execution_count": 16,
   "metadata": {
    "id": "ZQBdbNWa3G2u"
   },
   "outputs": [],
   "source": [
    "import math\n",
    "import pandas as pd\n",
    "import matplotlib.pyplot as plt\n",
    "import numpy as np\n",
    "\n",
    "#example dataframe from the bokeh module\n",
    "from bokeh.sampledata.autompg import autompg as df\n",
    "from scipy.stats import linregress"
   ]
  },
  {
   "cell_type": "markdown",
   "metadata": {
    "id": "KdrhwKHuxc2X"
   },
   "source": []
  },
  {
   "cell_type": "markdown",
   "metadata": {
    "id": "Vke6-X9x3G2v"
   },
   "source": [
    "### Series\n",
    "**Series** can only contain **single** list with index, whereas dataframe can be made of more than one series or we can say that a **dataframe is a collection of series** that can be used to analyse the data."
   ]
  },
  {
   "cell_type": "code",
   "execution_count": 2,
   "metadata": {
    "id": "wqIWmDuL3G2v"
   },
   "outputs": [
    {
     "name": "stdout",
     "output_type": "stream",
     "text": [
      "0    4.6\n",
      "1    2.1\n",
      "2   -4.0\n",
      "3    3.0\n",
      "dtype: float64\n"
     ]
    }
   ],
   "source": [
    "my_series = pd.Series([\n",
    "4.6, 2.1, -4.0, 3.0])\n",
    "\n",
    "print(my_series)"
   ]
  },
  {
   "cell_type": "markdown",
   "metadata": {
    "id": "ScwLW04_3G2w"
   },
   "source": [
    "Can also just print the values"
   ]
  },
  {
   "cell_type": "code",
   "execution_count": 3,
   "metadata": {
    "id": "ElfTeZQz3G2w"
   },
   "outputs": [
    {
     "name": "stdout",
     "output_type": "stream",
     "text": [
      "[ 4.6  2.1 -4.   3. ]\n"
     ]
    }
   ],
   "source": [
    "print(my_series.values)"
   ]
  },
  {
   "cell_type": "markdown",
   "metadata": {
    "id": "g3dQHHH53G2x"
   },
   "source": [
    "### DataFrame\n",
    "\n",
    "Creating an empty dataframe"
   ]
  },
  {
   "cell_type": "code",
   "execution_count": 4,
   "metadata": {
    "id": "WM50BEEY3G2x"
   },
   "outputs": [],
   "source": [
    "df1 = pd.DataFrame()"
   ]
  },
  {
   "cell_type": "markdown",
   "metadata": {
    "id": "wVmuweme3G2y"
   },
   "source": [
    "You can also create a empty DataFrame with define columns"
   ]
  },
  {
   "cell_type": "code",
   "execution_count": 5,
   "metadata": {
    "id": "MmXdmlqk3G2y"
   },
   "outputs": [],
   "source": [
    "df1 = pd.DataFrame(columns=('Col 1', 'Col 2', 'Col3'))"
   ]
  },
  {
   "cell_type": "code",
   "execution_count": 6,
   "metadata": {
    "id": "jnGfagGS3G2y"
   },
   "outputs": [],
   "source": [
    "a = pd.DataFrame([[1,2,3],[3,4,5]], columns=list('ABC'))\n",
    "b = pd.DataFrame([[5,2,3],[7,4,5]], columns=list('BDE'))\n",
    "c = pd.DataFrame([[11,12,13],[17,14,15]], columns=list('XYZ'))"
   ]
  },
  {
   "cell_type": "markdown",
   "metadata": {
    "id": "CDIpFdx83G2z"
   },
   "source": [
    "## Writing To and Reading From Files\n",
    "\n",
    "CSV\n",
    "\n",
    "Let's write of auto mpg data frame to csv.  Note: If you leave the index parameter set to True, you'll get an extra column called 'Unnamed:0' in your CSV"
   ]
  },
  {
   "cell_type": "code",
   "execution_count": 7,
   "metadata": {
    "id": "GamdakIv3G2z"
   },
   "outputs": [],
   "source": [
    "df.to_csv(\"autompg.csv\", index=False)"
   ]
  },
  {
   "cell_type": "markdown",
   "metadata": {
    "id": "pCeeKvYI3G20"
   },
   "source": [
    "Here is how we read a CSV"
   ]
  },
  {
   "cell_type": "code",
   "execution_count": 9,
   "metadata": {
    "id": "2Pco8uak3G20"
   },
   "outputs": [
    {
     "data": {
      "text/html": [
       "<div>\n",
       "<style scoped>\n",
       "    .dataframe tbody tr th:only-of-type {\n",
       "        vertical-align: middle;\n",
       "    }\n",
       "\n",
       "    .dataframe tbody tr th {\n",
       "        vertical-align: top;\n",
       "    }\n",
       "\n",
       "    .dataframe thead th {\n",
       "        text-align: right;\n",
       "    }\n",
       "</style>\n",
       "<table border=\"1\" class=\"dataframe\">\n",
       "  <thead>\n",
       "    <tr style=\"text-align: right;\">\n",
       "      <th></th>\n",
       "      <th>mpg</th>\n",
       "      <th>cyl</th>\n",
       "      <th>displ</th>\n",
       "      <th>hp</th>\n",
       "      <th>weight</th>\n",
       "      <th>accel</th>\n",
       "      <th>yr</th>\n",
       "      <th>origin</th>\n",
       "      <th>name</th>\n",
       "    </tr>\n",
       "  </thead>\n",
       "  <tbody>\n",
       "    <tr>\n",
       "      <th>0</th>\n",
       "      <td>18.0</td>\n",
       "      <td>8</td>\n",
       "      <td>307.0</td>\n",
       "      <td>130</td>\n",
       "      <td>3504</td>\n",
       "      <td>12.0</td>\n",
       "      <td>70</td>\n",
       "      <td>1</td>\n",
       "      <td>chevrolet chevelle malibu</td>\n",
       "    </tr>\n",
       "    <tr>\n",
       "      <th>1</th>\n",
       "      <td>15.0</td>\n",
       "      <td>8</td>\n",
       "      <td>350.0</td>\n",
       "      <td>165</td>\n",
       "      <td>3693</td>\n",
       "      <td>11.5</td>\n",
       "      <td>70</td>\n",
       "      <td>1</td>\n",
       "      <td>buick skylark 320</td>\n",
       "    </tr>\n",
       "    <tr>\n",
       "      <th>2</th>\n",
       "      <td>18.0</td>\n",
       "      <td>8</td>\n",
       "      <td>318.0</td>\n",
       "      <td>150</td>\n",
       "      <td>3436</td>\n",
       "      <td>11.0</td>\n",
       "      <td>70</td>\n",
       "      <td>1</td>\n",
       "      <td>plymouth satellite</td>\n",
       "    </tr>\n",
       "    <tr>\n",
       "      <th>3</th>\n",
       "      <td>16.0</td>\n",
       "      <td>8</td>\n",
       "      <td>304.0</td>\n",
       "      <td>150</td>\n",
       "      <td>3433</td>\n",
       "      <td>12.0</td>\n",
       "      <td>70</td>\n",
       "      <td>1</td>\n",
       "      <td>amc rebel sst</td>\n",
       "    </tr>\n",
       "    <tr>\n",
       "      <th>4</th>\n",
       "      <td>17.0</td>\n",
       "      <td>8</td>\n",
       "      <td>302.0</td>\n",
       "      <td>140</td>\n",
       "      <td>3449</td>\n",
       "      <td>10.5</td>\n",
       "      <td>70</td>\n",
       "      <td>1</td>\n",
       "      <td>ford torino</td>\n",
       "    </tr>\n",
       "  </tbody>\n",
       "</table>\n",
       "</div>"
      ],
      "text/plain": [
       "    mpg  cyl  displ   hp  weight  accel  yr  origin                       name\n",
       "0  18.0    8  307.0  130    3504   12.0  70       1  chevrolet chevelle malibu\n",
       "1  15.0    8  350.0  165    3693   11.5  70       1          buick skylark 320\n",
       "2  18.0    8  318.0  150    3436   11.0  70       1         plymouth satellite\n",
       "3  16.0    8  304.0  150    3433   12.0  70       1              amc rebel sst\n",
       "4  17.0    8  302.0  140    3449   10.5  70       1                ford torino"
      ]
     },
     "execution_count": 9,
     "metadata": {},
     "output_type": "execute_result"
    }
   ],
   "source": [
    "df1 = pd.read_csv(\"autompg.csv\")\n",
    "df1.head()"
   ]
  },
  {
   "cell_type": "markdown",
   "metadata": {
    "id": "8Ws2qO4I3G20"
   },
   "source": [
    "   You can also specify which columns you'd like to read in...if you want a subset of the set"
   ]
  },
  {
   "cell_type": "code",
   "execution_count": 10,
   "metadata": {
    "id": "C-EtbaPk3G21"
   },
   "outputs": [
    {
     "data": {
      "text/html": [
       "<div>\n",
       "<style scoped>\n",
       "    .dataframe tbody tr th:only-of-type {\n",
       "        vertical-align: middle;\n",
       "    }\n",
       "\n",
       "    .dataframe tbody tr th {\n",
       "        vertical-align: top;\n",
       "    }\n",
       "\n",
       "    .dataframe thead th {\n",
       "        text-align: right;\n",
       "    }\n",
       "</style>\n",
       "<table border=\"1\" class=\"dataframe\">\n",
       "  <thead>\n",
       "    <tr style=\"text-align: right;\">\n",
       "      <th></th>\n",
       "      <th>mpg</th>\n",
       "      <th>name</th>\n",
       "    </tr>\n",
       "  </thead>\n",
       "  <tbody>\n",
       "    <tr>\n",
       "      <th>0</th>\n",
       "      <td>18.0</td>\n",
       "      <td>chevrolet chevelle malibu</td>\n",
       "    </tr>\n",
       "    <tr>\n",
       "      <th>1</th>\n",
       "      <td>15.0</td>\n",
       "      <td>buick skylark 320</td>\n",
       "    </tr>\n",
       "    <tr>\n",
       "      <th>2</th>\n",
       "      <td>18.0</td>\n",
       "      <td>plymouth satellite</td>\n",
       "    </tr>\n",
       "    <tr>\n",
       "      <th>3</th>\n",
       "      <td>16.0</td>\n",
       "      <td>amc rebel sst</td>\n",
       "    </tr>\n",
       "    <tr>\n",
       "      <th>4</th>\n",
       "      <td>17.0</td>\n",
       "      <td>ford torino</td>\n",
       "    </tr>\n",
       "  </tbody>\n",
       "</table>\n",
       "</div>"
      ],
      "text/plain": [
       "    mpg                       name\n",
       "0  18.0  chevrolet chevelle malibu\n",
       "1  15.0          buick skylark 320\n",
       "2  18.0         plymouth satellite\n",
       "3  16.0              amc rebel sst\n",
       "4  17.0                ford torino"
      ]
     },
     "execution_count": 10,
     "metadata": {},
     "output_type": "execute_result"
    }
   ],
   "source": [
    "df2 = pd.read_csv(\"autompg.csv\", usecols=['name', 'mpg'])\n",
    "df2.head()"
   ]
  },
  {
   "cell_type": "markdown",
   "metadata": {
    "id": "kcn5aho83G21"
   },
   "source": [
    "You can also use different delimters"
   ]
  },
  {
   "cell_type": "code",
   "execution_count": 11,
   "metadata": {
    "id": "s-f7CfJp3G22"
   },
   "outputs": [
    {
     "data": {
      "text/html": [
       "<div>\n",
       "<style scoped>\n",
       "    .dataframe tbody tr th:only-of-type {\n",
       "        vertical-align: middle;\n",
       "    }\n",
       "\n",
       "    .dataframe tbody tr th {\n",
       "        vertical-align: top;\n",
       "    }\n",
       "\n",
       "    .dataframe thead th {\n",
       "        text-align: right;\n",
       "    }\n",
       "</style>\n",
       "<table border=\"1\" class=\"dataframe\">\n",
       "  <thead>\n",
       "    <tr style=\"text-align: right;\">\n",
       "      <th></th>\n",
       "      <th>mpg</th>\n",
       "      <th>cyl</th>\n",
       "      <th>displ</th>\n",
       "      <th>hp</th>\n",
       "      <th>weight</th>\n",
       "      <th>accel</th>\n",
       "      <th>yr</th>\n",
       "      <th>origin</th>\n",
       "      <th>name</th>\n",
       "    </tr>\n",
       "  </thead>\n",
       "  <tbody>\n",
       "    <tr>\n",
       "      <th>0</th>\n",
       "      <td>18.0</td>\n",
       "      <td>8</td>\n",
       "      <td>307.0</td>\n",
       "      <td>130</td>\n",
       "      <td>3504</td>\n",
       "      <td>12.0</td>\n",
       "      <td>70</td>\n",
       "      <td>1</td>\n",
       "      <td>chevrolet chevelle malibu</td>\n",
       "    </tr>\n",
       "    <tr>\n",
       "      <th>1</th>\n",
       "      <td>15.0</td>\n",
       "      <td>8</td>\n",
       "      <td>350.0</td>\n",
       "      <td>165</td>\n",
       "      <td>3693</td>\n",
       "      <td>11.5</td>\n",
       "      <td>70</td>\n",
       "      <td>1</td>\n",
       "      <td>buick skylark 320</td>\n",
       "    </tr>\n",
       "    <tr>\n",
       "      <th>2</th>\n",
       "      <td>18.0</td>\n",
       "      <td>8</td>\n",
       "      <td>318.0</td>\n",
       "      <td>150</td>\n",
       "      <td>3436</td>\n",
       "      <td>11.0</td>\n",
       "      <td>70</td>\n",
       "      <td>1</td>\n",
       "      <td>plymouth satellite</td>\n",
       "    </tr>\n",
       "    <tr>\n",
       "      <th>3</th>\n",
       "      <td>16.0</td>\n",
       "      <td>8</td>\n",
       "      <td>304.0</td>\n",
       "      <td>150</td>\n",
       "      <td>3433</td>\n",
       "      <td>12.0</td>\n",
       "      <td>70</td>\n",
       "      <td>1</td>\n",
       "      <td>amc rebel sst</td>\n",
       "    </tr>\n",
       "    <tr>\n",
       "      <th>4</th>\n",
       "      <td>17.0</td>\n",
       "      <td>8</td>\n",
       "      <td>302.0</td>\n",
       "      <td>140</td>\n",
       "      <td>3449</td>\n",
       "      <td>10.5</td>\n",
       "      <td>70</td>\n",
       "      <td>1</td>\n",
       "      <td>ford torino</td>\n",
       "    </tr>\n",
       "  </tbody>\n",
       "</table>\n",
       "</div>"
      ],
      "text/plain": [
       "    mpg  cyl  displ   hp  weight  accel  yr  origin                       name\n",
       "0  18.0    8  307.0  130    3504   12.0  70       1  chevrolet chevelle malibu\n",
       "1  15.0    8  350.0  165    3693   11.5  70       1          buick skylark 320\n",
       "2  18.0    8  318.0  150    3436   11.0  70       1         plymouth satellite\n",
       "3  16.0    8  304.0  150    3433   12.0  70       1              amc rebel sst\n",
       "4  17.0    8  302.0  140    3449   10.5  70       1                ford torino"
      ]
     },
     "execution_count": 11,
     "metadata": {},
     "output_type": "execute_result"
    }
   ],
   "source": [
    "df1.to_csv(\"autompg.tsv\", index=False, sep=\"\\t\")\n",
    "df1 = pd.read_csv(\"autompg.tsv\", sep=\"\\t\")\n",
    "df1.head()"
   ]
  },
  {
   "cell_type": "markdown",
   "metadata": {
    "id": "mnfXHVWf3G22"
   },
   "source": [
    "### Handling Large Data Files\n",
    "\n",
    "You will often be working with files that are 1GB+ and reading them all in one step is difficult.  Chunking is an approach that might solve that problem."
   ]
  },
  {
   "cell_type": "code",
   "execution_count": null,
   "metadata": {
    "id": "WoVff5rn3G22"
   },
   "outputs": [],
   "source": [
    "large_df = pd.DataFrame()\n",
    "\n",
    "for i in range(100):\n",
    "    large_df = large_df.append(df1, ignore_index=True)\n",
    "\n",
    "large_df.to_csv(\"large.csv\", index=False)\n",
    "\n",
    "for chunk in pd.read_csv('large.csv', chunksize=1000):\n",
    "    print(chunk.head(1))"
   ]
  },
  {
   "cell_type": "markdown",
   "metadata": {
    "id": "9KiTXEpj3G23"
   },
   "source": [
    "## Working with Excel\n",
    "\n",
    "Use ExcelWriter to write a DataFrame or multiple DataFrames to an Excel Workbook"
   ]
  },
  {
   "cell_type": "code",
   "execution_count": null,
   "metadata": {
    "id": "5JhiOaLh3G23"
   },
   "outputs": [],
   "source": [
    "df2 = pd.DataFrame([{'Name':'Steve Jobs', 'Company':'Apple'}, {'Name':'Bill Gates', 'Company':'Microsoft'}])\n",
    "\n",
    "# Initialize the workbook\n",
    "writer = pd.ExcelWriter('test_workbook.xlsx')\n",
    "\n",
    "#Write DataFrames to Excel sheets\n",
    "df1.to_excel(writer, \"Sheet1\")\n",
    "df2.to_excel(writer, \"Sheet2\")\n",
    "writer.save()"
   ]
  },
  {
   "cell_type": "markdown",
   "metadata": {
    "id": "B-mKvfo_3G24"
   },
   "source": [
    "When reading from an Excel workbook, Pandas assumes you want just the first sheet of the workbook by default\n"
   ]
  },
  {
   "cell_type": "code",
   "execution_count": null,
   "metadata": {
    "id": "eHyaFZQ63G24"
   },
   "outputs": [],
   "source": [
    "df1 = pd.read_excel('test_workbook.xlsx')\n",
    "df1.head()"
   ]
  },
  {
   "cell_type": "markdown",
   "metadata": {
    "id": "My6eA8al3G24"
   },
   "source": [
    "To read a specific sheet you simply use the input variable sheet_name"
   ]
  },
  {
   "cell_type": "code",
   "execution_count": null,
   "metadata": {
    "id": "sBUNNdqL3G25"
   },
   "outputs": [],
   "source": [
    "df1 = pd.read_excel('test_workbook.xlsx', sheet_name='Sheet2')\n",
    "df1.head()"
   ]
  },
  {
   "cell_type": "markdown",
   "metadata": {
    "id": "KrOEUYmi3G25"
   },
   "source": [
    "## Working with JSON/APIs\n",
    "\n",
    "This is a very simple example to illustrate that its easy to work with JSON payloads as long as the payload has a structure that can be interpreted.\n",
    "\n",
    "Pandas can write a DataFrame to a JSON file, and also read in from a JSON file..."
   ]
  },
  {
   "cell_type": "code",
   "execution_count": null,
   "metadata": {
    "id": "jggCyt6m3G25"
   },
   "outputs": [],
   "source": [
    "df.to_json(\"json_file.json\")\n",
    "\n",
    "from_json = pd.read_json(\"json_file.json\")\n",
    "\n",
    "from_json.head()"
   ]
  },
  {
   "cell_type": "markdown",
   "metadata": {
    "id": "lATbk7403G26"
   },
   "source": [
    "This can also be done for JSON objects"
   ]
  },
  {
   "cell_type": "code",
   "execution_count": null,
   "metadata": {
    "id": "www-5tnQ3G26"
   },
   "outputs": [],
   "source": [
    "json_object = df.to_json() # don't specify a file and it create a JSON object instead\n",
    "\n",
    "from_json = pd.read_json(json_object)\n",
    "\n",
    "from_json.head()"
   ]
  },
  {
   "cell_type": "markdown",
   "metadata": {
    "id": "cEXzmFSi3G26"
   },
   "source": [
    "## Summarizing and Inspecting a  DataFrame\n",
    "\n",
    "Below are a sample of the most popular and useful methods built into pandas in order to explore your data at a cursory level"
   ]
  },
  {
   "cell_type": "code",
   "execution_count": null,
   "metadata": {
    "id": "DLJFjSBo3G27"
   },
   "outputs": [],
   "source": [
    "df.shape"
   ]
  },
  {
   "cell_type": "code",
   "execution_count": null,
   "metadata": {
    "id": "FzdPlQZY3G27"
   },
   "outputs": [],
   "source": [
    "df.index"
   ]
  },
  {
   "cell_type": "code",
   "execution_count": null,
   "metadata": {
    "id": "p2oLmEmQ3G27"
   },
   "outputs": [],
   "source": [
    "df.info()"
   ]
  },
  {
   "cell_type": "code",
   "execution_count": null,
   "metadata": {
    "id": "YY_zD2ay3G28"
   },
   "outputs": [],
   "source": [
    "df.count()"
   ]
  },
  {
   "cell_type": "code",
   "execution_count": null,
   "metadata": {
    "id": "omwSBeXi3G28",
    "scrolled": true
   },
   "outputs": [],
   "source": [
    "df.describe() # Will process numeric columns for count, mean, standard deviation (std), min, 25%, 50%, 75%, max"
   ]
  },
  {
   "cell_type": "code",
   "execution_count": null,
   "metadata": {
    "id": "YBXGX9u03G28"
   },
   "outputs": [],
   "source": [
    "df.head() # first 5 rows of the DataFrame"
   ]
  },
  {
   "cell_type": "code",
   "execution_count": null,
   "metadata": {
    "id": "x7XkMWCH3G29"
   },
   "outputs": [],
   "source": [
    "df.head(10) # first 10 rows"
   ]
  },
  {
   "cell_type": "code",
   "execution_count": null,
   "metadata": {
    "id": "GB4j63Yi3G29"
   },
   "outputs": [],
   "source": [
    "df.tail() # last 5 rows"
   ]
  },
  {
   "cell_type": "code",
   "execution_count": null,
   "metadata": {
    "id": "uhnuPmGh3G29"
   },
   "outputs": [],
   "source": [
    "df.tail(10) # last 10 rows"
   ]
  },
  {
   "cell_type": "markdown",
   "metadata": {
    "id": "ejtaQ5kx3G29"
   },
   "source": [
    "### Verifying Data Types\n",
    "\n",
    "Its important to know how pandas will treat the data stored within a DataFrame and how it will read specific columns.  For example, pandas will try to automatically parse numbers as int or float and can parse dates as datetime objects.\n",
    "\n",
    "Note: pandas will automatically use numpy objects"
   ]
  },
  {
   "cell_type": "code",
   "execution_count": null,
   "metadata": {
    "id": "BRQOGsj63G2-"
   },
   "outputs": [],
   "source": [
    "# View column names and their associated data types\n",
    "df.dtypes"
   ]
  },
  {
   "cell_type": "code",
   "execution_count": null,
   "metadata": {
    "id": "cDdn1UIH3G2-"
   },
   "outputs": [],
   "source": [
    "# Select columns where the data type is int64 using numpy\n",
    "df.select_dtypes([np.int64])"
   ]
  },
  {
   "cell_type": "code",
   "execution_count": null,
   "metadata": {
    "id": "_CLTnqb83G2_"
   },
   "outputs": [],
   "source": [
    "# Select columns where the data type is a numpy object (like a string)\n",
    "df.select_dtypes([np.object])"
   ]
  },
  {
   "cell_type": "code",
   "execution_count": null,
   "metadata": {
    "id": "jG-bV02B3G2_"
   },
   "outputs": [],
   "source": [
    "# You can change the data type of a column\n",
    "df2 = df.copy()\n",
    "df2['mpg'] = df2['mpg'].astype(str)\n",
    "df2['mpg'].unique()"
   ]
  },
  {
   "cell_type": "markdown",
   "metadata": {
    "id": "ExLM5GPd3G2_"
   },
   "source": [
    "Modifying DataFrames\n",
    "\n",
    "Modifications only work on assignment or when using inplace=True, this instructs the DataFrame to make the change without reassignment"
   ]
  },
  {
   "cell_type": "code",
   "execution_count": null,
   "metadata": {
    "id": "b-lzUpQq3G3A"
   },
   "outputs": [],
   "source": [
    "# Change by assignment\n",
    "df2 = df.drop('cyl', axis=1)\n",
    "df2.head()"
   ]
  },
  {
   "cell_type": "code",
   "execution_count": null,
   "metadata": {
    "id": "-0sV-81E3G3A"
   },
   "outputs": [],
   "source": [
    "# Change in place\n",
    "df2.drop('hp', axis=1, inplace=True)\n",
    "df2.head()"
   ]
  },
  {
   "cell_type": "markdown",
   "metadata": {
    "id": "hFaBNarx3G3B"
   },
   "source": [
    "## Working with Columns"
   ]
  },
  {
   "cell_type": "code",
   "execution_count": null,
   "metadata": {
    "id": "eAudxwud3G3B"
   },
   "outputs": [],
   "source": [
    "# List Column names\n",
    "df.columns"
   ]
  },
  {
   "cell_type": "code",
   "execution_count": null,
   "metadata": {
    "id": "5MOsM1ge3G3B"
   },
   "outputs": [],
   "source": [
    "# Store Column names as a list - generally easier to work with\n",
    "x = list(df.columns)\n",
    "print(x)"
   ]
  },
  {
   "cell_type": "markdown",
   "metadata": {
    "id": "odJfFXMQ3G3C"
   },
   "source": [
    "You can batch rename columns but it requires a dictionary of the old values mapped to the new ones"
   ]
  },
  {
   "cell_type": "code",
   "execution_count": null,
   "metadata": {
    "id": "goObfR0U3G3C",
    "scrolled": true
   },
   "outputs": [],
   "source": [
    "df2 = df.rename(columns={'mpg':'miles_per_gallon', 'cyl':'cylinders'})\n",
    "df2.head()"
   ]
  },
  {
   "cell_type": "markdown",
   "metadata": {
    "id": "XPNhIIn43G3C"
   },
   "source": [
    "You are able to create new columns quite easily.  Similar to a dicitonary, if a columnn doesn't exist, pandas will automatically create one"
   ]
  },
  {
   "cell_type": "code",
   "execution_count": null,
   "metadata": {
    "id": "vx9Nhu_C3G3D"
   },
   "outputs": [],
   "source": [
    "df2 = df.copy()\n",
    "df2['year'] = '2020' #This will set every rows year value to 2020\n",
    "df2.head()"
   ]
  },
  {
   "cell_type": "markdown",
   "metadata": {
    "id": "20xo3tH93G3D"
   },
   "source": [
    "### Accessing Index and Columns"
   ]
  },
  {
   "cell_type": "code",
   "execution_count": null,
   "metadata": {
    "id": "iSJmbARU3G3D"
   },
   "outputs": [],
   "source": [
    "# By Column\n",
    "\n",
    "df['name'].head()"
   ]
  },
  {
   "cell_type": "code",
   "execution_count": null,
   "metadata": {
    "id": "dMV73gbh3G3E"
   },
   "outputs": [],
   "source": [
    "# Alternatively - Note: This doesn't work if there are spaces in the column name!\n",
    "df.name.head()"
   ]
  },
  {
   "cell_type": "code",
   "execution_count": null,
   "metadata": {
    "id": "K2H5gCyd3G3E"
   },
   "outputs": [],
   "source": [
    "# By index - this returns rows 2-4 non inclusive\n",
    "df.iloc[2:4]"
   ]
  },
  {
   "cell_type": "code",
   "execution_count": null,
   "metadata": {
    "id": "T-pDkiJo3G3E"
   },
   "outputs": [],
   "source": [
    "# By index and column\n",
    "df.loc[[1], ['name']]"
   ]
  },
  {
   "cell_type": "code",
   "execution_count": null,
   "metadata": {
    "id": "Df6Q2YZA3G3F"
   },
   "outputs": [],
   "source": [
    "# By Column and Row - HP of a Plymouth Satellite\n",
    "df.iloc[2,3]"
   ]
  },
  {
   "cell_type": "markdown",
   "metadata": {
    "id": "VcjHSPP23G3F"
   },
   "source": [
    "### Removing Duplicates"
   ]
  },
  {
   "cell_type": "markdown",
   "metadata": {
    "id": "kI43sQju3G3F"
   },
   "source": [
    "This is used frequently to reduce the size of a DataFrame.  Let's use the existing df and add some duplicates to it..."
   ]
  },
  {
   "cell_type": "code",
   "execution_count": null,
   "metadata": {
    "id": "4LdHITHi3G3F"
   },
   "outputs": [],
   "source": [
    "len(df)"
   ]
  },
  {
   "cell_type": "code",
   "execution_count": null,
   "metadata": {
    "id": "uDvzytZ03G3H"
   },
   "outputs": [],
   "source": [
    "df2 = df.append(df, ignore_index=True)\n",
    "print(\"There are {} rows in the DataFrame\".format(len(df2)))"
   ]
  },
  {
   "cell_type": "code",
   "execution_count": null,
   "metadata": {
    "id": "-5BVxi6r3G3H"
   },
   "outputs": [],
   "source": [
    "#remove any duplicate rows\n",
    "df2.drop_duplicates(inplace=True)\n",
    "print(\"There are {} rows in the DataFrame\".format(len(df2)))"
   ]
  },
  {
   "cell_type": "code",
   "execution_count": null,
   "metadata": {
    "id": "k5YFyqx73G3I"
   },
   "outputs": [],
   "source": [
    "# specify columns to reduce the number of cells in a row that must match to be dropped\n",
    "df2 = df2.drop_duplicates(subset=['mpg'])\n",
    "print(\"There are {} rows in the DataFrame\".format(len(df2)))"
   ]
  },
  {
   "cell_type": "markdown",
   "metadata": {
    "id": "G-rW2Qu83G3I"
   },
   "source": [
    "### Filtering on Column Data\n",
    "\n",
    "Pandas allows you to filter on specfic columnar values"
   ]
  },
  {
   "cell_type": "code",
   "execution_count": null,
   "metadata": {
    "id": "PKM3Mb273G3J"
   },
   "outputs": [],
   "source": [
    "# Create a new DataFrame where 'cyl' value == 8\n",
    "\n",
    "df2 = df.loc[df['cyl'] == 8]\n",
    "df2.head()"
   ]
  },
  {
   "cell_type": "code",
   "execution_count": null,
   "metadata": {
    "id": "6o1bUdda3G3J"
   },
   "outputs": [],
   "source": [
    "# Reset the index so that the index is ordered again\n",
    "df2 = df.loc[df['cyl'] == 8].reset_index(drop=True)\n",
    "df2.head()"
   ]
  },
  {
   "cell_type": "code",
   "execution_count": null,
   "metadata": {
    "id": "zW0XuJhO3G3K"
   },
   "outputs": [],
   "source": [
    "# This can also be done without .loc\n",
    "df2 = df[df['mpg'] >= 16].reset_index(drop=True)\n",
    "df2.head()"
   ]
  },
  {
   "cell_type": "markdown",
   "metadata": {
    "id": "R1Uy0P8B3G3K"
   },
   "source": [
    "### Fill or Drop NaN or null values\n",
    "\n",
    "Often you will get poor data/missing data from real life data sets - pandas has some built in functionality to handle this common scenario"
   ]
  },
  {
   "cell_type": "code",
   "execution_count": null,
   "metadata": {
    "id": "dLS3qd3_3G3L"
   },
   "outputs": [],
   "source": [
    "df.reindex()"
   ]
  },
  {
   "cell_type": "code",
   "execution_count": null,
   "metadata": {
    "id": "_9B9NmVe3G3L"
   },
   "outputs": [],
   "source": [
    "# First we'll add some empty calues to the data frame\n",
    "df3 = pd.DataFrame([{'name':'Ford Taurus'}, {'mpg':18.0}])\n",
    "df2 = df.append(df3, ignore_index=True)"
   ]
  },
  {
   "cell_type": "code",
   "execution_count": null,
   "metadata": {
    "id": "uThjK4sF3G3M"
   },
   "outputs": [],
   "source": [
    "#Check for NaN values\n",
    "\n",
    "df2.loc[df2['name'].isnull()]"
   ]
  },
  {
   "cell_type": "code",
   "execution_count": null,
   "metadata": {
    "id": "oIxlGmjK3G3M"
   },
   "outputs": [],
   "source": [
    "# True or False on columns contain null values\n",
    "\n",
    "df2.isnull().any()"
   ]
  },
  {
   "cell_type": "code",
   "execution_count": null,
   "metadata": {
    "id": "QJQx5Nal3G3M"
   },
   "outputs": [],
   "source": [
    "# Sum of all missing values by column\n",
    "\n",
    "df2.isnull().sum()"
   ]
  },
  {
   "cell_type": "code",
   "execution_count": null,
   "metadata": {
    "id": "v5-235473G3M"
   },
   "outputs": [],
   "source": [
    "# Sum of all missing values across all columns\n",
    "\n",
    "df2.isnull().sum().sum()"
   ]
  },
  {
   "cell_type": "code",
   "execution_count": null,
   "metadata": {
    "id": "TgMiCZuC3G3N"
   },
   "outputs": [],
   "source": [
    "# Locate all missing values\n",
    "\n",
    "df2.loc[df2.isnull().T.any()]"
   ]
  },
  {
   "cell_type": "code",
   "execution_count": null,
   "metadata": {
    "id": "rj5Nu6s63G3N"
   },
   "outputs": [],
   "source": [
    "# Fill NaN values\n",
    "\n",
    "df2.fillna(0).tail()"
   ]
  },
  {
   "cell_type": "code",
   "execution_count": null,
   "metadata": {
    "id": "foRGTzLU3G3N"
   },
   "outputs": [],
   "source": [
    "# Drop NaN values\n",
    "\n",
    "df2.dropna().tail()"
   ]
  },
  {
   "cell_type": "code",
   "execution_count": null,
   "metadata": {
    "id": "R-aaBIBQ3G3O"
   },
   "outputs": [],
   "source": [
    "# You can also target a column\n",
    "\n",
    "df2['cyl'].fillna(0).tail()"
   ]
  },
  {
   "cell_type": "code",
   "execution_count": null,
   "metadata": {
    "id": "zR5mZjJX3G3O"
   },
   "outputs": [],
   "source": [
    "# Drop a row only if all columns are NaN\n",
    "\n",
    "df2.dropna(how='all').tail()"
   ]
  },
  {
   "cell_type": "code",
   "execution_count": null,
   "metadata": {
    "id": "s4KZtIK03G3P",
    "scrolled": true
   },
   "outputs": [],
   "source": [
    "# Drop if specific columns are NaN\n",
    "\n",
    "df2.dropna(subset=['displ','hp']).tail()"
   ]
  },
  {
   "cell_type": "markdown",
   "metadata": {
    "id": "jJVlut7J3G3P"
   },
   "source": [
    "### Simple Operations on DataFrames"
   ]
  },
  {
   "cell_type": "code",
   "execution_count": null,
   "metadata": {
    "id": "9jFAUDMT3G3P"
   },
   "outputs": [],
   "source": [
    "# All Unique values in column\n",
    "\n",
    "df['mpg'].unique()"
   ]
  },
  {
   "cell_type": "code",
   "execution_count": null,
   "metadata": {
    "id": "WVGZDM2M3G3Q"
   },
   "outputs": [],
   "source": [
    "# Count of unique values in column\n",
    "\n",
    "df['cyl'].value_counts()"
   ]
  },
  {
   "cell_type": "code",
   "execution_count": null,
   "metadata": {
    "id": "bksVcfwK3G3Q"
   },
   "outputs": [],
   "source": [
    "# Count all the entries in a column\n",
    "\n",
    "df['hp'].count()"
   ]
  },
  {
   "cell_type": "code",
   "execution_count": null,
   "metadata": {
    "id": "0lOZAbrU3G3Q"
   },
   "outputs": [],
   "source": [
    "# Sum all the entries in a column\n",
    "\n",
    "df['hp'].sum()"
   ]
  },
  {
   "cell_type": "code",
   "execution_count": null,
   "metadata": {
    "id": "JOK0yJFV3G3Q"
   },
   "outputs": [],
   "source": [
    "# Mean of all the values in a column\n",
    "\n",
    "df['cyl'].mean()"
   ]
  },
  {
   "cell_type": "code",
   "execution_count": null,
   "metadata": {
    "id": "kytaNXxR3G3R"
   },
   "outputs": [],
   "source": [
    "# Median of all the values in a column\n",
    "\n",
    "df['cyl'].median()"
   ]
  },
  {
   "cell_type": "code",
   "execution_count": null,
   "metadata": {
    "id": "ld7LyM7c3G3R"
   },
   "outputs": [],
   "source": [
    "# Minimum of all column values\n",
    "\n",
    "df['cyl'].min()"
   ]
  },
  {
   "cell_type": "code",
   "execution_count": null,
   "metadata": {
    "id": "4_erAado3G3S"
   },
   "outputs": [],
   "source": [
    "# Maximum of all column\n",
    "\n",
    "df['cyl'].max()"
   ]
  },
  {
   "cell_type": "code",
   "execution_count": null,
   "metadata": {
    "id": "BqpCc_E63G3S"
   },
   "outputs": [],
   "source": [
    "# Standard Deviation\n",
    "\n",
    "df['cyl'].std()"
   ]
  },
  {
   "cell_type": "markdown",
   "metadata": {
    "id": "gmRfrS6o3G3T"
   },
   "source": [
    "# Pandas (Advanced)\n",
    "\n",
    "This is a contuniation of the LO3 - Panda's material.  It is likley out of the scope of the Programming for Data Science course and can be seen as optional.  It contains advanced usage of pandas.\n",
    "\n",
    "## Sorting Columns"
   ]
  },
  {
   "cell_type": "code",
   "execution_count": 17,
   "metadata": {
    "id": "FrVYiZAH3G3T"
   },
   "outputs": [
    {
     "data": {
      "text/html": [
       "<div>\n",
       "<style scoped>\n",
       "    .dataframe tbody tr th:only-of-type {\n",
       "        vertical-align: middle;\n",
       "    }\n",
       "\n",
       "    .dataframe tbody tr th {\n",
       "        vertical-align: top;\n",
       "    }\n",
       "\n",
       "    .dataframe thead th {\n",
       "        text-align: right;\n",
       "    }\n",
       "</style>\n",
       "<table border=\"1\" class=\"dataframe\">\n",
       "  <thead>\n",
       "    <tr style=\"text-align: right;\">\n",
       "      <th></th>\n",
       "      <th>mpg</th>\n",
       "      <th>cyl</th>\n",
       "      <th>displ</th>\n",
       "      <th>hp</th>\n",
       "      <th>weight</th>\n",
       "      <th>accel</th>\n",
       "      <th>yr</th>\n",
       "      <th>origin</th>\n",
       "      <th>name</th>\n",
       "    </tr>\n",
       "  </thead>\n",
       "  <tbody>\n",
       "    <tr>\n",
       "      <th>320</th>\n",
       "      <td>46.6</td>\n",
       "      <td>4</td>\n",
       "      <td>86.0</td>\n",
       "      <td>65</td>\n",
       "      <td>2110</td>\n",
       "      <td>17.9</td>\n",
       "      <td>80</td>\n",
       "      <td>3</td>\n",
       "      <td>mazda glc</td>\n",
       "    </tr>\n",
       "    <tr>\n",
       "      <th>327</th>\n",
       "      <td>44.6</td>\n",
       "      <td>4</td>\n",
       "      <td>91.0</td>\n",
       "      <td>67</td>\n",
       "      <td>1850</td>\n",
       "      <td>13.8</td>\n",
       "      <td>80</td>\n",
       "      <td>3</td>\n",
       "      <td>honda civic 1500 gl</td>\n",
       "    </tr>\n",
       "    <tr>\n",
       "      <th>323</th>\n",
       "      <td>44.3</td>\n",
       "      <td>4</td>\n",
       "      <td>90.0</td>\n",
       "      <td>48</td>\n",
       "      <td>2085</td>\n",
       "      <td>21.7</td>\n",
       "      <td>80</td>\n",
       "      <td>2</td>\n",
       "      <td>vw rabbit c (diesel)</td>\n",
       "    </tr>\n",
       "    <tr>\n",
       "      <th>388</th>\n",
       "      <td>44.0</td>\n",
       "      <td>4</td>\n",
       "      <td>97.0</td>\n",
       "      <td>52</td>\n",
       "      <td>2130</td>\n",
       "      <td>24.6</td>\n",
       "      <td>82</td>\n",
       "      <td>2</td>\n",
       "      <td>vw pickup</td>\n",
       "    </tr>\n",
       "    <tr>\n",
       "      <th>324</th>\n",
       "      <td>43.4</td>\n",
       "      <td>4</td>\n",
       "      <td>90.0</td>\n",
       "      <td>48</td>\n",
       "      <td>2335</td>\n",
       "      <td>23.7</td>\n",
       "      <td>80</td>\n",
       "      <td>2</td>\n",
       "      <td>vw dasher (diesel)</td>\n",
       "    </tr>\n",
       "  </tbody>\n",
       "</table>\n",
       "</div>"
      ],
      "text/plain": [
       "      mpg  cyl  displ  hp  weight  accel  yr  origin                  name\n",
       "320  46.6    4   86.0  65    2110   17.9  80       3             mazda glc\n",
       "327  44.6    4   91.0  67    1850   13.8  80       3   honda civic 1500 gl\n",
       "323  44.3    4   90.0  48    2085   21.7  80       2  vw rabbit c (diesel)\n",
       "388  44.0    4   97.0  52    2130   24.6  82       2             vw pickup\n",
       "324  43.4    4   90.0  48    2335   23.7  80       2    vw dasher (diesel)"
      ]
     },
     "execution_count": 17,
     "metadata": {},
     "output_type": "execute_result"
    }
   ],
   "source": [
    "df.sort_values('mpg', ascending=False).head()"
   ]
  },
  {
   "cell_type": "code",
   "execution_count": 18,
   "metadata": {
    "id": "Okp38ahw3G3T"
   },
   "outputs": [
    {
     "data": {
      "text/html": [
       "<div>\n",
       "<style scoped>\n",
       "    .dataframe tbody tr th:only-of-type {\n",
       "        vertical-align: middle;\n",
       "    }\n",
       "\n",
       "    .dataframe tbody tr th {\n",
       "        vertical-align: top;\n",
       "    }\n",
       "\n",
       "    .dataframe thead th {\n",
       "        text-align: right;\n",
       "    }\n",
       "</style>\n",
       "<table border=\"1\" class=\"dataframe\">\n",
       "  <thead>\n",
       "    <tr style=\"text-align: right;\">\n",
       "      <th></th>\n",
       "      <th>mpg</th>\n",
       "      <th>cyl</th>\n",
       "      <th>displ</th>\n",
       "      <th>hp</th>\n",
       "      <th>weight</th>\n",
       "      <th>accel</th>\n",
       "      <th>yr</th>\n",
       "      <th>origin</th>\n",
       "      <th>name</th>\n",
       "    </tr>\n",
       "  </thead>\n",
       "  <tbody>\n",
       "    <tr>\n",
       "      <th>28</th>\n",
       "      <td>9.0</td>\n",
       "      <td>8</td>\n",
       "      <td>304.0</td>\n",
       "      <td>193</td>\n",
       "      <td>4732</td>\n",
       "      <td>18.5</td>\n",
       "      <td>70</td>\n",
       "      <td>1</td>\n",
       "      <td>hi 1200d</td>\n",
       "    </tr>\n",
       "    <tr>\n",
       "      <th>26</th>\n",
       "      <td>10.0</td>\n",
       "      <td>8</td>\n",
       "      <td>307.0</td>\n",
       "      <td>200</td>\n",
       "      <td>4376</td>\n",
       "      <td>15.0</td>\n",
       "      <td>70</td>\n",
       "      <td>1</td>\n",
       "      <td>chevy c20</td>\n",
       "    </tr>\n",
       "    <tr>\n",
       "      <th>25</th>\n",
       "      <td>10.0</td>\n",
       "      <td>8</td>\n",
       "      <td>360.0</td>\n",
       "      <td>215</td>\n",
       "      <td>4615</td>\n",
       "      <td>14.0</td>\n",
       "      <td>70</td>\n",
       "      <td>1</td>\n",
       "      <td>ford f250</td>\n",
       "    </tr>\n",
       "    <tr>\n",
       "      <th>27</th>\n",
       "      <td>11.0</td>\n",
       "      <td>8</td>\n",
       "      <td>318.0</td>\n",
       "      <td>210</td>\n",
       "      <td>4382</td>\n",
       "      <td>13.5</td>\n",
       "      <td>70</td>\n",
       "      <td>1</td>\n",
       "      <td>dodge d200</td>\n",
       "    </tr>\n",
       "    <tr>\n",
       "      <th>123</th>\n",
       "      <td>11.0</td>\n",
       "      <td>8</td>\n",
       "      <td>350.0</td>\n",
       "      <td>180</td>\n",
       "      <td>3664</td>\n",
       "      <td>11.0</td>\n",
       "      <td>73</td>\n",
       "      <td>1</td>\n",
       "      <td>oldsmobile omega</td>\n",
       "    </tr>\n",
       "  </tbody>\n",
       "</table>\n",
       "</div>"
      ],
      "text/plain": [
       "      mpg  cyl  displ   hp  weight  accel  yr  origin              name\n",
       "28    9.0    8  304.0  193    4732   18.5  70       1          hi 1200d\n",
       "26   10.0    8  307.0  200    4376   15.0  70       1         chevy c20\n",
       "25   10.0    8  360.0  215    4615   14.0  70       1         ford f250\n",
       "27   11.0    8  318.0  210    4382   13.5  70       1        dodge d200\n",
       "123  11.0    8  350.0  180    3664   11.0  73       1  oldsmobile omega"
      ]
     },
     "execution_count": 18,
     "metadata": {},
     "output_type": "execute_result"
    }
   ],
   "source": [
    "# Multi-column sort\n",
    "\n",
    "df.sort_values(['mpg', 'displ']).head()"
   ]
  },
  {
   "cell_type": "markdown",
   "metadata": {
    "id": "zFeMmA7d3G3U"
   },
   "source": [
    "## Merging DataFrames\n",
    "\n",
    "While many of htese are similar, there is numerous arguments that can be used in conjunction to truly customize the type of DataFrame merging/joining/appending/concatinating you are trying to achieve.\n",
    "\n",
    "We will define some sample data frames to use as examples of the various operations..."
   ]
  },
  {
   "cell_type": "code",
   "execution_count": 21,
   "metadata": {
    "id": "3qangUxQ3G3U"
   },
   "outputs": [],
   "source": [
    "a = pd.DataFrame([[1,2,3],[3,4,5]], columns=list('ABC'))\n",
    "b = pd.DataFrame([[5,2,3],[7,4,5]], columns=list('BDE'))\n",
    "c = pd.DataFrame([[11,12,13], [17,14,15]], columns=list('XYZ'))"
   ]
  },
  {
   "cell_type": "code",
   "execution_count": null,
   "metadata": {
    "id": "N1xL_ymG3G3U"
   },
   "outputs": [],
   "source": [
    "print(a)"
   ]
  },
  {
   "cell_type": "code",
   "execution_count": null,
   "metadata": {
    "id": "GvvqIH1h3G3V"
   },
   "outputs": [],
   "source": [
    "print(b)"
   ]
  },
  {
   "cell_type": "code",
   "execution_count": null,
   "metadata": {
    "id": "UY3p-s8p3G3W"
   },
   "outputs": [],
   "source": [
    "print(c)"
   ]
  },
  {
   "cell_type": "markdown",
   "metadata": {
    "id": "fvVNR4zh3G3W"
   },
   "source": [
    "### Appending DataFrames"
   ]
  },
  {
   "cell_type": "code",
   "execution_count": 22,
   "metadata": {
    "id": "Gw6Hgf_-3G3W"
   },
   "outputs": [
    {
     "ename": "AttributeError",
     "evalue": "'DataFrame' object has no attribute 'append'",
     "output_type": "error",
     "traceback": [
      "\u001b[1;31m---------------------------------------------------------------------------\u001b[0m",
      "\u001b[1;31mAttributeError\u001b[0m                            Traceback (most recent call last)",
      "\u001b[1;32m~\\AppData\\Local\\Temp\\ipykernel_19056\\2123064305.py\u001b[0m in \u001b[0;36m?\u001b[1;34m()\u001b[0m\n\u001b[1;32m----> 1\u001b[1;33m \u001b[0mab\u001b[0m \u001b[1;33m=\u001b[0m \u001b[0ma\u001b[0m\u001b[1;33m.\u001b[0m\u001b[0mappend\u001b[0m\u001b[1;33m(\u001b[0m\u001b[0mb\u001b[0m\u001b[1;33m)\u001b[0m\u001b[1;33m\u001b[0m\u001b[1;33m\u001b[0m\u001b[0m\n\u001b[0m\u001b[0;32m      2\u001b[0m \u001b[0mprint\u001b[0m\u001b[1;33m(\u001b[0m\u001b[0mab\u001b[0m\u001b[1;33m)\u001b[0m\u001b[1;33m\u001b[0m\u001b[1;33m\u001b[0m\u001b[0m\n",
      "\u001b[1;32m~\\AppData\\Local\\anacoda2024\\Lib\\site-packages\\pandas\\core\\generic.py\u001b[0m in \u001b[0;36m?\u001b[1;34m(self, name)\u001b[0m\n\u001b[0;32m   5985\u001b[0m             \u001b[1;32mand\u001b[0m \u001b[0mname\u001b[0m \u001b[1;32mnot\u001b[0m \u001b[1;32min\u001b[0m \u001b[0mself\u001b[0m\u001b[1;33m.\u001b[0m\u001b[0m_accessors\u001b[0m\u001b[1;33m\u001b[0m\u001b[1;33m\u001b[0m\u001b[0m\n\u001b[0;32m   5986\u001b[0m             \u001b[1;32mand\u001b[0m \u001b[0mself\u001b[0m\u001b[1;33m.\u001b[0m\u001b[0m_info_axis\u001b[0m\u001b[1;33m.\u001b[0m\u001b[0m_can_hold_identifiers_and_holds_name\u001b[0m\u001b[1;33m(\u001b[0m\u001b[0mname\u001b[0m\u001b[1;33m)\u001b[0m\u001b[1;33m\u001b[0m\u001b[1;33m\u001b[0m\u001b[0m\n\u001b[0;32m   5987\u001b[0m         ):\n\u001b[0;32m   5988\u001b[0m             \u001b[1;32mreturn\u001b[0m \u001b[0mself\u001b[0m\u001b[1;33m[\u001b[0m\u001b[0mname\u001b[0m\u001b[1;33m]\u001b[0m\u001b[1;33m\u001b[0m\u001b[1;33m\u001b[0m\u001b[0m\n\u001b[1;32m-> 5989\u001b[1;33m         \u001b[1;32mreturn\u001b[0m \u001b[0mobject\u001b[0m\u001b[1;33m.\u001b[0m\u001b[0m__getattribute__\u001b[0m\u001b[1;33m(\u001b[0m\u001b[0mself\u001b[0m\u001b[1;33m,\u001b[0m \u001b[0mname\u001b[0m\u001b[1;33m)\u001b[0m\u001b[1;33m\u001b[0m\u001b[1;33m\u001b[0m\u001b[0m\n\u001b[0m",
      "\u001b[1;31mAttributeError\u001b[0m: 'DataFrame' object has no attribute 'append'"
     ]
    }
   ],
   "source": [
    "ab = a.append(b)\n",
    "print(ab)"
   ]
  },
  {
   "cell_type": "markdown",
   "metadata": {
    "id": "ssrTM6E43G3X"
   },
   "source": [
    "### Concatenating DataFrames"
   ]
  },
  {
   "cell_type": "code",
   "execution_count": 23,
   "metadata": {
    "id": "u_SG-bxN3G3X"
   },
   "outputs": [
    {
     "name": "stdout",
     "output_type": "stream",
     "text": [
      "     A    B    C    D    E     X     Y     Z\n",
      "0  1.0  2.0  3.0  NaN  NaN   NaN   NaN   NaN\n",
      "1  3.0  4.0  5.0  NaN  NaN   NaN   NaN   NaN\n",
      "0  NaN  5.0  NaN  2.0  3.0   NaN   NaN   NaN\n",
      "1  NaN  7.0  NaN  4.0  5.0   NaN   NaN   NaN\n",
      "0  NaN  NaN  NaN  NaN  NaN  11.0  12.0  13.0\n",
      "1  NaN  NaN  NaN  NaN  NaN  17.0  14.0  15.0\n"
     ]
    }
   ],
   "source": [
    "abc = pd.concat([a,b,c], sort=False)\n",
    "print(abc)"
   ]
  },
  {
   "cell_type": "markdown",
   "metadata": {
    "id": "oBgm_duG3G3Y"
   },
   "source": [
    "### Joining DataFrames\n",
    "\n",
    "Joins are similar to the concept in SQL, can specify join on index"
   ]
  },
  {
   "cell_type": "code",
   "execution_count": 24,
   "metadata": {
    "id": "rDKaPEkW3G3Y"
   },
   "outputs": [
    {
     "name": "stdout",
     "output_type": "stream",
     "text": [
      "   A  B_a  C  B_b  D  E\n",
      "0  1    2  3    5  2  3\n",
      "1  3    4  5    7  4  5\n"
     ]
    }
   ],
   "source": [
    "joined_df = a.join(b, how='left', lsuffix='_a', rsuffix='_b')\n",
    "print(joined_df)"
   ]
  },
  {
   "cell_type": "markdown",
   "metadata": {
    "id": "gZqMnqjN3G3Z"
   },
   "source": [
    "### Merging DataFrames\n",
    "\n",
    "This allows you to merge two or more DataFrames with overlapping columns - similar to join"
   ]
  },
  {
   "cell_type": "code",
   "execution_count": 25,
   "metadata": {
    "id": "AnNSzPwi3G3Z"
   },
   "outputs": [
    {
     "name": "stdout",
     "output_type": "stream",
     "text": [
      "   A  B_x  C  B_y  D  E\n",
      "0  1    2  3    5  2  3\n",
      "1  3    4  5    7  4  5\n"
     ]
    }
   ],
   "source": [
    "merged_df = a.merge(b, left_on='B', right_on='D')\n",
    "print(merged_df)"
   ]
  },
  {
   "cell_type": "markdown",
   "metadata": {
    "id": "WFCmdRfp3G3Z"
   },
   "source": [
    "### Iterating DataFrames\n",
    "\n",
    "Iterating is typically only viable on a small DataFrame.  For larger DataFrames you will generally need to use apply/map and functions for efficiency\n",
    "\n",
    "Accessing values is done by index\n",
    "    row[0] = Index\n",
    "    row[1] = Values as pandas series\n",
    "    row[1][0] = First column value of row, can specify column rows[1]['Column']"
   ]
  },
  {
   "cell_type": "code",
   "execution_count": 26,
   "metadata": {
    "id": "pcllam9p3G3a"
   },
   "outputs": [
    {
     "name": "stdout",
     "output_type": "stream",
     "text": [
      "mpg\n",
      "0 18.0\n",
      "mpg\n",
      "1 15.0\n",
      "mpg\n",
      "2 18.0\n",
      "mpg\n",
      "3 16.0\n",
      "mpg\n",
      "4 17.0\n",
      "mpg\n",
      "5 15.0\n",
      "mpg\n",
      "6 14.0\n",
      "mpg\n",
      "7 14.0\n",
      "mpg\n",
      "8 14.0\n",
      "mpg\n",
      "9 15.0\n",
      "mpg\n",
      "10 15.0\n",
      "mpg\n",
      "11 14.0\n",
      "mpg\n",
      "12 15.0\n",
      "mpg\n",
      "13 14.0\n",
      "mpg\n",
      "14 24.0\n",
      "mpg\n",
      "15 22.0\n",
      "mpg\n",
      "16 18.0\n",
      "mpg\n",
      "17 21.0\n",
      "mpg\n",
      "18 27.0\n",
      "mpg\n",
      "19 26.0\n"
     ]
    }
   ],
   "source": [
    "counter = 0\n",
    "for row in df.iterrows():\n",
    "    counter += 1\n",
    "    if counter > 20:\n",
    "        break\n",
    "    print(row[1].keys()[0])\n",
    "    print(row[0], row[1][0])"
   ]
  },
  {
   "cell_type": "markdown",
   "metadata": {
    "id": "TNnuPVnn3G3a"
   },
   "source": [
    "### IterTuples\n",
    "A faster and more efficent way to iterate a DataFrame\n"
   ]
  },
  {
   "cell_type": "code",
   "execution_count": 27,
   "metadata": {
    "id": "wsXw8WOG3G3a"
   },
   "outputs": [
    {
     "name": "stdout",
     "output_type": "stream",
     "text": [
      "18.0 8\n",
      "15.0 8\n",
      "18.0 8\n",
      "16.0 8\n",
      "17.0 8\n",
      "15.0 8\n",
      "14.0 8\n",
      "14.0 8\n",
      "14.0 8\n",
      "15.0 8\n",
      "15.0 8\n",
      "14.0 8\n",
      "15.0 8\n",
      "14.0 8\n",
      "24.0 4\n",
      "22.0 6\n",
      "18.0 6\n",
      "21.0 6\n",
      "27.0 4\n",
      "26.0 4\n"
     ]
    }
   ],
   "source": [
    "counter = 0\n",
    "for rowtuples in df.itertuples():\n",
    "    counter += 1\n",
    "    if counter > 20:\n",
    "        break\n",
    "    print(rowtuples[1], rowtuples[2])"
   ]
  },
  {
   "cell_type": "markdown",
   "metadata": {
    "id": "b90Ea5aq3G3a"
   },
   "source": [
    "### Pivoting on a DataFrame\n",
    "\n",
    "You can create Excel style pivot tables based on specified criteria"
   ]
  },
  {
   "cell_type": "code",
   "execution_count": 28,
   "metadata": {
    "id": "c9yHSao73G3b"
   },
   "outputs": [
    {
     "data": {
      "text/html": [
       "<div>\n",
       "<style scoped>\n",
       "    .dataframe tbody tr th:only-of-type {\n",
       "        vertical-align: middle;\n",
       "    }\n",
       "\n",
       "    .dataframe tbody tr th {\n",
       "        vertical-align: top;\n",
       "    }\n",
       "\n",
       "    .dataframe thead th {\n",
       "        text-align: right;\n",
       "    }\n",
       "</style>\n",
       "<table border=\"1\" class=\"dataframe\">\n",
       "  <thead>\n",
       "    <tr style=\"text-align: right;\">\n",
       "      <th></th>\n",
       "      <th></th>\n",
       "      <th>accel</th>\n",
       "      <th>cyl</th>\n",
       "      <th>displ</th>\n",
       "      <th>hp</th>\n",
       "      <th>origin</th>\n",
       "      <th>weight</th>\n",
       "      <th>yr</th>\n",
       "    </tr>\n",
       "    <tr>\n",
       "      <th>mpg</th>\n",
       "      <th>name</th>\n",
       "      <th></th>\n",
       "      <th></th>\n",
       "      <th></th>\n",
       "      <th></th>\n",
       "      <th></th>\n",
       "      <th></th>\n",
       "      <th></th>\n",
       "    </tr>\n",
       "  </thead>\n",
       "  <tbody>\n",
       "    <tr>\n",
       "      <th>9.0</th>\n",
       "      <th>hi 1200d</th>\n",
       "      <td>18.5</td>\n",
       "      <td>8</td>\n",
       "      <td>304.0</td>\n",
       "      <td>193.0</td>\n",
       "      <td>1</td>\n",
       "      <td>4732.0</td>\n",
       "      <td>70.0</td>\n",
       "    </tr>\n",
       "    <tr>\n",
       "      <th rowspan=\"2\" valign=\"top\">10.0</th>\n",
       "      <th>chevy c20</th>\n",
       "      <td>15.0</td>\n",
       "      <td>8</td>\n",
       "      <td>307.0</td>\n",
       "      <td>200.0</td>\n",
       "      <td>1</td>\n",
       "      <td>4376.0</td>\n",
       "      <td>70.0</td>\n",
       "    </tr>\n",
       "    <tr>\n",
       "      <th>ford f250</th>\n",
       "      <td>14.0</td>\n",
       "      <td>8</td>\n",
       "      <td>360.0</td>\n",
       "      <td>215.0</td>\n",
       "      <td>1</td>\n",
       "      <td>4615.0</td>\n",
       "      <td>70.0</td>\n",
       "    </tr>\n",
       "    <tr>\n",
       "      <th rowspan=\"4\" valign=\"top\">11.0</th>\n",
       "      <th>chevrolet impala</th>\n",
       "      <td>14.0</td>\n",
       "      <td>8</td>\n",
       "      <td>400.0</td>\n",
       "      <td>150.0</td>\n",
       "      <td>1</td>\n",
       "      <td>4997.0</td>\n",
       "      <td>73.0</td>\n",
       "    </tr>\n",
       "    <tr>\n",
       "      <th>dodge d200</th>\n",
       "      <td>13.5</td>\n",
       "      <td>8</td>\n",
       "      <td>318.0</td>\n",
       "      <td>210.0</td>\n",
       "      <td>1</td>\n",
       "      <td>4382.0</td>\n",
       "      <td>70.0</td>\n",
       "    </tr>\n",
       "    <tr>\n",
       "      <th>mercury marquis</th>\n",
       "      <td>11.0</td>\n",
       "      <td>8</td>\n",
       "      <td>429.0</td>\n",
       "      <td>208.0</td>\n",
       "      <td>1</td>\n",
       "      <td>4633.0</td>\n",
       "      <td>72.0</td>\n",
       "    </tr>\n",
       "    <tr>\n",
       "      <th>oldsmobile omega</th>\n",
       "      <td>11.0</td>\n",
       "      <td>8</td>\n",
       "      <td>350.0</td>\n",
       "      <td>180.0</td>\n",
       "      <td>1</td>\n",
       "      <td>3664.0</td>\n",
       "      <td>73.0</td>\n",
       "    </tr>\n",
       "    <tr>\n",
       "      <th rowspan=\"6\" valign=\"top\">12.0</th>\n",
       "      <th>buick electra 225 custom</th>\n",
       "      <td>11.0</td>\n",
       "      <td>8</td>\n",
       "      <td>455.0</td>\n",
       "      <td>225.0</td>\n",
       "      <td>1</td>\n",
       "      <td>4951.0</td>\n",
       "      <td>73.0</td>\n",
       "    </tr>\n",
       "    <tr>\n",
       "      <th>dodge monaco (sw)</th>\n",
       "      <td>11.5</td>\n",
       "      <td>8</td>\n",
       "      <td>383.0</td>\n",
       "      <td>180.0</td>\n",
       "      <td>1</td>\n",
       "      <td>4955.0</td>\n",
       "      <td>71.0</td>\n",
       "    </tr>\n",
       "    <tr>\n",
       "      <th>ford country</th>\n",
       "      <td>12.5</td>\n",
       "      <td>8</td>\n",
       "      <td>400.0</td>\n",
       "      <td>167.0</td>\n",
       "      <td>1</td>\n",
       "      <td>4906.0</td>\n",
       "      <td>73.0</td>\n",
       "    </tr>\n",
       "    <tr>\n",
       "      <th>mercury marquis brougham</th>\n",
       "      <td>11.5</td>\n",
       "      <td>8</td>\n",
       "      <td>429.0</td>\n",
       "      <td>198.0</td>\n",
       "      <td>1</td>\n",
       "      <td>4952.0</td>\n",
       "      <td>73.0</td>\n",
       "    </tr>\n",
       "    <tr>\n",
       "      <th>oldsmobile delta 88 royale</th>\n",
       "      <td>13.5</td>\n",
       "      <td>8</td>\n",
       "      <td>350.0</td>\n",
       "      <td>160.0</td>\n",
       "      <td>1</td>\n",
       "      <td>4456.0</td>\n",
       "      <td>72.0</td>\n",
       "    </tr>\n",
       "    <tr>\n",
       "      <th>oldsmobile vista cruiser</th>\n",
       "      <td>12.5</td>\n",
       "      <td>8</td>\n",
       "      <td>350.0</td>\n",
       "      <td>180.0</td>\n",
       "      <td>1</td>\n",
       "      <td>4499.0</td>\n",
       "      <td>73.0</td>\n",
       "    </tr>\n",
       "    <tr>\n",
       "      <th rowspan=\"7\" valign=\"top\">13.0</th>\n",
       "      <th>amc ambassador brougham</th>\n",
       "      <td>11.0</td>\n",
       "      <td>8</td>\n",
       "      <td>360.0</td>\n",
       "      <td>175.0</td>\n",
       "      <td>1</td>\n",
       "      <td>3821.0</td>\n",
       "      <td>73.0</td>\n",
       "    </tr>\n",
       "    <tr>\n",
       "      <th>buick century 350</th>\n",
       "      <td>13.0</td>\n",
       "      <td>8</td>\n",
       "      <td>350.0</td>\n",
       "      <td>175.0</td>\n",
       "      <td>1</td>\n",
       "      <td>4100.0</td>\n",
       "      <td>73.0</td>\n",
       "    </tr>\n",
       "    <tr>\n",
       "      <th>buick century luxus (sw)</th>\n",
       "      <td>14.5</td>\n",
       "      <td>8</td>\n",
       "      <td>350.0</td>\n",
       "      <td>150.0</td>\n",
       "      <td>1</td>\n",
       "      <td>4699.0</td>\n",
       "      <td>74.0</td>\n",
       "    </tr>\n",
       "    <tr>\n",
       "      <th>buick lesabre custom</th>\n",
       "      <td>13.5</td>\n",
       "      <td>8</td>\n",
       "      <td>350.0</td>\n",
       "      <td>155.0</td>\n",
       "      <td>1</td>\n",
       "      <td>4502.0</td>\n",
       "      <td>72.0</td>\n",
       "    </tr>\n",
       "    <tr>\n",
       "      <th>chevrolet caprice classic</th>\n",
       "      <td>12.0</td>\n",
       "      <td>8</td>\n",
       "      <td>400.0</td>\n",
       "      <td>150.0</td>\n",
       "      <td>1</td>\n",
       "      <td>4464.0</td>\n",
       "      <td>73.0</td>\n",
       "    </tr>\n",
       "    <tr>\n",
       "      <th>chevrolet chevelle concours (sw)</th>\n",
       "      <td>14.0</td>\n",
       "      <td>8</td>\n",
       "      <td>307.0</td>\n",
       "      <td>130.0</td>\n",
       "      <td>1</td>\n",
       "      <td>4098.0</td>\n",
       "      <td>72.0</td>\n",
       "    </tr>\n",
       "    <tr>\n",
       "      <th>chevrolet impala</th>\n",
       "      <td>12.0</td>\n",
       "      <td>8</td>\n",
       "      <td>350.0</td>\n",
       "      <td>165.0</td>\n",
       "      <td>1</td>\n",
       "      <td>4274.0</td>\n",
       "      <td>72.0</td>\n",
       "    </tr>\n",
       "  </tbody>\n",
       "</table>\n",
       "</div>"
      ],
      "text/plain": [
       "                                       accel  cyl  displ     hp  origin  \\\n",
       "mpg  name                                                                 \n",
       "9.0  hi 1200d                           18.5    8  304.0  193.0       1   \n",
       "10.0 chevy c20                          15.0    8  307.0  200.0       1   \n",
       "     ford f250                          14.0    8  360.0  215.0       1   \n",
       "11.0 chevrolet impala                   14.0    8  400.0  150.0       1   \n",
       "     dodge d200                         13.5    8  318.0  210.0       1   \n",
       "     mercury marquis                    11.0    8  429.0  208.0       1   \n",
       "     oldsmobile omega                   11.0    8  350.0  180.0       1   \n",
       "12.0 buick electra 225 custom           11.0    8  455.0  225.0       1   \n",
       "     dodge monaco (sw)                  11.5    8  383.0  180.0       1   \n",
       "     ford country                       12.5    8  400.0  167.0       1   \n",
       "     mercury marquis brougham           11.5    8  429.0  198.0       1   \n",
       "     oldsmobile delta 88 royale         13.5    8  350.0  160.0       1   \n",
       "     oldsmobile vista cruiser           12.5    8  350.0  180.0       1   \n",
       "13.0 amc ambassador brougham            11.0    8  360.0  175.0       1   \n",
       "     buick century 350                  13.0    8  350.0  175.0       1   \n",
       "     buick century luxus (sw)           14.5    8  350.0  150.0       1   \n",
       "     buick lesabre custom               13.5    8  350.0  155.0       1   \n",
       "     chevrolet caprice classic          12.0    8  400.0  150.0       1   \n",
       "     chevrolet chevelle concours (sw)   14.0    8  307.0  130.0       1   \n",
       "     chevrolet impala                   12.0    8  350.0  165.0       1   \n",
       "\n",
       "                                       weight    yr  \n",
       "mpg  name                                            \n",
       "9.0  hi 1200d                          4732.0  70.0  \n",
       "10.0 chevy c20                         4376.0  70.0  \n",
       "     ford f250                         4615.0  70.0  \n",
       "11.0 chevrolet impala                  4997.0  73.0  \n",
       "     dodge d200                        4382.0  70.0  \n",
       "     mercury marquis                   4633.0  72.0  \n",
       "     oldsmobile omega                  3664.0  73.0  \n",
       "12.0 buick electra 225 custom          4951.0  73.0  \n",
       "     dodge monaco (sw)                 4955.0  71.0  \n",
       "     ford country                      4906.0  73.0  \n",
       "     mercury marquis brougham          4952.0  73.0  \n",
       "     oldsmobile delta 88 royale        4456.0  72.0  \n",
       "     oldsmobile vista cruiser          4499.0  73.0  \n",
       "13.0 amc ambassador brougham           3821.0  73.0  \n",
       "     buick century 350                 4100.0  73.0  \n",
       "     buick century luxus (sw)          4699.0  74.0  \n",
       "     buick lesabre custom              4502.0  72.0  \n",
       "     chevrolet caprice classic         4464.0  73.0  \n",
       "     chevrolet chevelle concours (sw)  4098.0  72.0  \n",
       "     chevrolet impala                  4274.0  72.0  "
      ]
     },
     "execution_count": 28,
     "metadata": {},
     "output_type": "execute_result"
    }
   ],
   "source": [
    "from bokeh.sampledata.autompg import autompg as df\n",
    "# Basic Pivot\n",
    "#print(df)\n",
    "df.pivot_table(index=['mpg', 'name']).head(20)"
   ]
  },
  {
   "cell_type": "code",
   "execution_count": 29,
   "metadata": {
    "id": "gO3UjHq93G3b"
   },
   "outputs": [
    {
     "data": {
      "text/html": [
       "<div>\n",
       "<style scoped>\n",
       "    .dataframe tbody tr th:only-of-type {\n",
       "        vertical-align: middle;\n",
       "    }\n",
       "\n",
       "    .dataframe tbody tr th {\n",
       "        vertical-align: top;\n",
       "    }\n",
       "\n",
       "    .dataframe thead th {\n",
       "        text-align: right;\n",
       "    }\n",
       "</style>\n",
       "<table border=\"1\" class=\"dataframe\">\n",
       "  <thead>\n",
       "    <tr style=\"text-align: right;\">\n",
       "      <th></th>\n",
       "      <th></th>\n",
       "      <th>weight</th>\n",
       "    </tr>\n",
       "    <tr>\n",
       "      <th>cyl</th>\n",
       "      <th>name</th>\n",
       "      <th></th>\n",
       "    </tr>\n",
       "  </thead>\n",
       "  <tbody>\n",
       "    <tr>\n",
       "      <th rowspan=\"4\" valign=\"top\">3</th>\n",
       "      <th>maxda rx3</th>\n",
       "      <td>2124.0</td>\n",
       "    </tr>\n",
       "    <tr>\n",
       "      <th>mazda rx-4</th>\n",
       "      <td>2720.0</td>\n",
       "    </tr>\n",
       "    <tr>\n",
       "      <th>mazda rx-7 gs</th>\n",
       "      <td>2420.0</td>\n",
       "    </tr>\n",
       "    <tr>\n",
       "      <th>mazda rx2 coupe</th>\n",
       "      <td>2330.0</td>\n",
       "    </tr>\n",
       "    <tr>\n",
       "      <th rowspan=\"16\" valign=\"top\">4</th>\n",
       "      <th>amc concord</th>\n",
       "      <td>3003.0</td>\n",
       "    </tr>\n",
       "    <tr>\n",
       "      <th>amc spirit dl</th>\n",
       "      <td>2670.0</td>\n",
       "    </tr>\n",
       "    <tr>\n",
       "      <th>audi 100 ls</th>\n",
       "      <td>2430.0</td>\n",
       "    </tr>\n",
       "    <tr>\n",
       "      <th>audi 100ls</th>\n",
       "      <td>2638.0</td>\n",
       "    </tr>\n",
       "    <tr>\n",
       "      <th>audi 4000</th>\n",
       "      <td>2188.0</td>\n",
       "    </tr>\n",
       "    <tr>\n",
       "      <th>audi fox</th>\n",
       "      <td>2219.0</td>\n",
       "    </tr>\n",
       "    <tr>\n",
       "      <th>bmw 2002</th>\n",
       "      <td>2234.0</td>\n",
       "    </tr>\n",
       "    <tr>\n",
       "      <th>bmw 320i</th>\n",
       "      <td>2600.0</td>\n",
       "    </tr>\n",
       "    <tr>\n",
       "      <th>buick opel isuzu deluxe</th>\n",
       "      <td>2155.0</td>\n",
       "    </tr>\n",
       "    <tr>\n",
       "      <th>buick skylark</th>\n",
       "      <td>2635.0</td>\n",
       "    </tr>\n",
       "    <tr>\n",
       "      <th>buick skylark limited</th>\n",
       "      <td>2670.0</td>\n",
       "    </tr>\n",
       "    <tr>\n",
       "      <th>capri ii</th>\n",
       "      <td>2572.0</td>\n",
       "    </tr>\n",
       "    <tr>\n",
       "      <th>chevrolet camaro</th>\n",
       "      <td>2950.0</td>\n",
       "    </tr>\n",
       "    <tr>\n",
       "      <th>chevrolet cavalier</th>\n",
       "      <td>2605.0</td>\n",
       "    </tr>\n",
       "    <tr>\n",
       "      <th>chevrolet cavalier 2-door</th>\n",
       "      <td>2395.0</td>\n",
       "    </tr>\n",
       "    <tr>\n",
       "      <th>chevrolet cavalier wagon</th>\n",
       "      <td>2640.0</td>\n",
       "    </tr>\n",
       "  </tbody>\n",
       "</table>\n",
       "</div>"
      ],
      "text/plain": [
       "                               weight\n",
       "cyl name                             \n",
       "3   maxda rx3                  2124.0\n",
       "    mazda rx-4                 2720.0\n",
       "    mazda rx-7 gs              2420.0\n",
       "    mazda rx2 coupe            2330.0\n",
       "4   amc concord                3003.0\n",
       "    amc spirit dl              2670.0\n",
       "    audi 100 ls                2430.0\n",
       "    audi 100ls                 2638.0\n",
       "    audi 4000                  2188.0\n",
       "    audi fox                   2219.0\n",
       "    bmw 2002                   2234.0\n",
       "    bmw 320i                   2600.0\n",
       "    buick opel isuzu deluxe    2155.0\n",
       "    buick skylark              2635.0\n",
       "    buick skylark limited      2670.0\n",
       "    capri ii                   2572.0\n",
       "    chevrolet camaro           2950.0\n",
       "    chevrolet cavalier         2605.0\n",
       "    chevrolet cavalier 2-door  2395.0\n",
       "    chevrolet cavalier wagon   2640.0"
      ]
     },
     "execution_count": 29,
     "metadata": {},
     "output_type": "execute_result"
    }
   ],
   "source": [
    "# Can get very complex...\n",
    "\n",
    "df.pivot_table(values=['weight'], index=['cyl', 'name'], aggfunc=np.mean).head(20)"
   ]
  },
  {
   "cell_type": "markdown",
   "metadata": {
    "id": "KHyToZ-W3G3b"
   },
   "source": [
    "### Boolean Indexing\n",
    "\n",
    "Filter DataFrame on Multiple Columns and Values using Boolean index"
   ]
  },
  {
   "cell_type": "code",
   "execution_count": 30,
   "metadata": {
    "id": "-mb1eMVb3G3b"
   },
   "outputs": [
    {
     "data": {
      "text/html": [
       "<div>\n",
       "<style scoped>\n",
       "    .dataframe tbody tr th:only-of-type {\n",
       "        vertical-align: middle;\n",
       "    }\n",
       "\n",
       "    .dataframe tbody tr th {\n",
       "        vertical-align: top;\n",
       "    }\n",
       "\n",
       "    .dataframe thead th {\n",
       "        text-align: right;\n",
       "    }\n",
       "</style>\n",
       "<table border=\"1\" class=\"dataframe\">\n",
       "  <thead>\n",
       "    <tr style=\"text-align: right;\">\n",
       "      <th></th>\n",
       "      <th>mpg</th>\n",
       "      <th>cyl</th>\n",
       "      <th>displ</th>\n",
       "      <th>hp</th>\n",
       "      <th>weight</th>\n",
       "      <th>accel</th>\n",
       "      <th>yr</th>\n",
       "      <th>origin</th>\n",
       "      <th>name</th>\n",
       "    </tr>\n",
       "  </thead>\n",
       "  <tbody>\n",
       "    <tr>\n",
       "      <th>216</th>\n",
       "      <td>36.0</td>\n",
       "      <td>4</td>\n",
       "      <td>79.0</td>\n",
       "      <td>58</td>\n",
       "      <td>1825</td>\n",
       "      <td>18.6</td>\n",
       "      <td>77</td>\n",
       "      <td>2</td>\n",
       "      <td>renault 5 gtl</td>\n",
       "    </tr>\n",
       "    <tr>\n",
       "      <th>242</th>\n",
       "      <td>43.1</td>\n",
       "      <td>4</td>\n",
       "      <td>90.0</td>\n",
       "      <td>48</td>\n",
       "      <td>1985</td>\n",
       "      <td>21.5</td>\n",
       "      <td>78</td>\n",
       "      <td>2</td>\n",
       "      <td>volkswagen rabbit custom diesel</td>\n",
       "    </tr>\n",
       "    <tr>\n",
       "      <th>243</th>\n",
       "      <td>36.1</td>\n",
       "      <td>4</td>\n",
       "      <td>98.0</td>\n",
       "      <td>66</td>\n",
       "      <td>1800</td>\n",
       "      <td>14.4</td>\n",
       "      <td>78</td>\n",
       "      <td>1</td>\n",
       "      <td>ford fiesta</td>\n",
       "    </tr>\n",
       "    <tr>\n",
       "      <th>245</th>\n",
       "      <td>39.4</td>\n",
       "      <td>4</td>\n",
       "      <td>85.0</td>\n",
       "      <td>70</td>\n",
       "      <td>2070</td>\n",
       "      <td>18.6</td>\n",
       "      <td>78</td>\n",
       "      <td>3</td>\n",
       "      <td>datsun b210 gx</td>\n",
       "    </tr>\n",
       "    <tr>\n",
       "      <th>246</th>\n",
       "      <td>36.1</td>\n",
       "      <td>4</td>\n",
       "      <td>91.0</td>\n",
       "      <td>60</td>\n",
       "      <td>1800</td>\n",
       "      <td>16.4</td>\n",
       "      <td>78</td>\n",
       "      <td>3</td>\n",
       "      <td>honda civic cvcc</td>\n",
       "    </tr>\n",
       "    <tr>\n",
       "      <th>293</th>\n",
       "      <td>35.7</td>\n",
       "      <td>4</td>\n",
       "      <td>98.0</td>\n",
       "      <td>80</td>\n",
       "      <td>1915</td>\n",
       "      <td>14.4</td>\n",
       "      <td>79</td>\n",
       "      <td>1</td>\n",
       "      <td>dodge colt hatchback custom</td>\n",
       "    </tr>\n",
       "    <tr>\n",
       "      <th>302</th>\n",
       "      <td>37.3</td>\n",
       "      <td>4</td>\n",
       "      <td>91.0</td>\n",
       "      <td>69</td>\n",
       "      <td>2130</td>\n",
       "      <td>14.7</td>\n",
       "      <td>79</td>\n",
       "      <td>2</td>\n",
       "      <td>fiat strada custom</td>\n",
       "    </tr>\n",
       "    <tr>\n",
       "      <th>307</th>\n",
       "      <td>41.5</td>\n",
       "      <td>4</td>\n",
       "      <td>98.0</td>\n",
       "      <td>76</td>\n",
       "      <td>2144</td>\n",
       "      <td>14.7</td>\n",
       "      <td>80</td>\n",
       "      <td>2</td>\n",
       "      <td>vw rabbit</td>\n",
       "    </tr>\n",
       "    <tr>\n",
       "      <th>308</th>\n",
       "      <td>38.1</td>\n",
       "      <td>4</td>\n",
       "      <td>89.0</td>\n",
       "      <td>60</td>\n",
       "      <td>1968</td>\n",
       "      <td>18.8</td>\n",
       "      <td>80</td>\n",
       "      <td>3</td>\n",
       "      <td>toyota corolla tercel</td>\n",
       "    </tr>\n",
       "    <tr>\n",
       "      <th>310</th>\n",
       "      <td>37.2</td>\n",
       "      <td>4</td>\n",
       "      <td>86.0</td>\n",
       "      <td>65</td>\n",
       "      <td>2019</td>\n",
       "      <td>16.4</td>\n",
       "      <td>80</td>\n",
       "      <td>3</td>\n",
       "      <td>datsun 310</td>\n",
       "    </tr>\n",
       "    <tr>\n",
       "      <th>318</th>\n",
       "      <td>37.0</td>\n",
       "      <td>4</td>\n",
       "      <td>119.0</td>\n",
       "      <td>92</td>\n",
       "      <td>2434</td>\n",
       "      <td>15.0</td>\n",
       "      <td>80</td>\n",
       "      <td>3</td>\n",
       "      <td>datsun 510 hatchback</td>\n",
       "    </tr>\n",
       "    <tr>\n",
       "      <th>320</th>\n",
       "      <td>46.6</td>\n",
       "      <td>4</td>\n",
       "      <td>86.0</td>\n",
       "      <td>65</td>\n",
       "      <td>2110</td>\n",
       "      <td>17.9</td>\n",
       "      <td>80</td>\n",
       "      <td>3</td>\n",
       "      <td>mazda glc</td>\n",
       "    </tr>\n",
       "    <tr>\n",
       "      <th>322</th>\n",
       "      <td>40.8</td>\n",
       "      <td>4</td>\n",
       "      <td>85.0</td>\n",
       "      <td>65</td>\n",
       "      <td>2110</td>\n",
       "      <td>19.2</td>\n",
       "      <td>80</td>\n",
       "      <td>3</td>\n",
       "      <td>datsun 210</td>\n",
       "    </tr>\n",
       "    <tr>\n",
       "      <th>323</th>\n",
       "      <td>44.3</td>\n",
       "      <td>4</td>\n",
       "      <td>90.0</td>\n",
       "      <td>48</td>\n",
       "      <td>2085</td>\n",
       "      <td>21.7</td>\n",
       "      <td>80</td>\n",
       "      <td>2</td>\n",
       "      <td>vw rabbit c (diesel)</td>\n",
       "    </tr>\n",
       "    <tr>\n",
       "      <th>324</th>\n",
       "      <td>43.4</td>\n",
       "      <td>4</td>\n",
       "      <td>90.0</td>\n",
       "      <td>48</td>\n",
       "      <td>2335</td>\n",
       "      <td>23.7</td>\n",
       "      <td>80</td>\n",
       "      <td>2</td>\n",
       "      <td>vw dasher (diesel)</td>\n",
       "    </tr>\n",
       "    <tr>\n",
       "      <th>325</th>\n",
       "      <td>36.4</td>\n",
       "      <td>5</td>\n",
       "      <td>121.0</td>\n",
       "      <td>67</td>\n",
       "      <td>2950</td>\n",
       "      <td>19.9</td>\n",
       "      <td>80</td>\n",
       "      <td>2</td>\n",
       "      <td>audi 5000s (diesel)</td>\n",
       "    </tr>\n",
       "    <tr>\n",
       "      <th>327</th>\n",
       "      <td>44.6</td>\n",
       "      <td>4</td>\n",
       "      <td>91.0</td>\n",
       "      <td>67</td>\n",
       "      <td>1850</td>\n",
       "      <td>13.8</td>\n",
       "      <td>80</td>\n",
       "      <td>3</td>\n",
       "      <td>honda civic 1500 gl</td>\n",
       "    </tr>\n",
       "    <tr>\n",
       "      <th>339</th>\n",
       "      <td>39.1</td>\n",
       "      <td>4</td>\n",
       "      <td>79.0</td>\n",
       "      <td>58</td>\n",
       "      <td>1755</td>\n",
       "      <td>16.9</td>\n",
       "      <td>81</td>\n",
       "      <td>3</td>\n",
       "      <td>toyota starlet</td>\n",
       "    </tr>\n",
       "    <tr>\n",
       "      <th>340</th>\n",
       "      <td>39.0</td>\n",
       "      <td>4</td>\n",
       "      <td>86.0</td>\n",
       "      <td>64</td>\n",
       "      <td>1875</td>\n",
       "      <td>16.4</td>\n",
       "      <td>81</td>\n",
       "      <td>1</td>\n",
       "      <td>plymouth champ</td>\n",
       "    </tr>\n",
       "    <tr>\n",
       "      <th>341</th>\n",
       "      <td>35.1</td>\n",
       "      <td>4</td>\n",
       "      <td>81.0</td>\n",
       "      <td>60</td>\n",
       "      <td>1760</td>\n",
       "      <td>16.1</td>\n",
       "      <td>81</td>\n",
       "      <td>3</td>\n",
       "      <td>honda civic 1300</td>\n",
       "    </tr>\n",
       "  </tbody>\n",
       "</table>\n",
       "</div>"
      ],
      "text/plain": [
       "      mpg  cyl  displ  hp  weight  accel  yr  origin  \\\n",
       "216  36.0    4   79.0  58    1825   18.6  77       2   \n",
       "242  43.1    4   90.0  48    1985   21.5  78       2   \n",
       "243  36.1    4   98.0  66    1800   14.4  78       1   \n",
       "245  39.4    4   85.0  70    2070   18.6  78       3   \n",
       "246  36.1    4   91.0  60    1800   16.4  78       3   \n",
       "293  35.7    4   98.0  80    1915   14.4  79       1   \n",
       "302  37.3    4   91.0  69    2130   14.7  79       2   \n",
       "307  41.5    4   98.0  76    2144   14.7  80       2   \n",
       "308  38.1    4   89.0  60    1968   18.8  80       3   \n",
       "310  37.2    4   86.0  65    2019   16.4  80       3   \n",
       "318  37.0    4  119.0  92    2434   15.0  80       3   \n",
       "320  46.6    4   86.0  65    2110   17.9  80       3   \n",
       "322  40.8    4   85.0  65    2110   19.2  80       3   \n",
       "323  44.3    4   90.0  48    2085   21.7  80       2   \n",
       "324  43.4    4   90.0  48    2335   23.7  80       2   \n",
       "325  36.4    5  121.0  67    2950   19.9  80       2   \n",
       "327  44.6    4   91.0  67    1850   13.8  80       3   \n",
       "339  39.1    4   79.0  58    1755   16.9  81       3   \n",
       "340  39.0    4   86.0  64    1875   16.4  81       1   \n",
       "341  35.1    4   81.0  60    1760   16.1  81       3   \n",
       "\n",
       "                                name  \n",
       "216                    renault 5 gtl  \n",
       "242  volkswagen rabbit custom diesel  \n",
       "243                      ford fiesta  \n",
       "245                   datsun b210 gx  \n",
       "246                 honda civic cvcc  \n",
       "293      dodge colt hatchback custom  \n",
       "302               fiat strada custom  \n",
       "307                        vw rabbit  \n",
       "308            toyota corolla tercel  \n",
       "310                       datsun 310  \n",
       "318             datsun 510 hatchback  \n",
       "320                        mazda glc  \n",
       "322                       datsun 210  \n",
       "323             vw rabbit c (diesel)  \n",
       "324               vw dasher (diesel)  \n",
       "325              audi 5000s (diesel)  \n",
       "327              honda civic 1500 gl  \n",
       "339                   toyota starlet  \n",
       "340                   plymouth champ  \n",
       "341                 honda civic 1300  "
      ]
     },
     "execution_count": 30,
     "metadata": {},
     "output_type": "execute_result"
    }
   ],
   "source": [
    "df.loc[(df['cyl'] < 6) &\n",
    "       (df['mpg'] > 35)].head(20)"
   ]
  },
  {
   "cell_type": "markdown",
   "metadata": {
    "id": "-UyJ5Sxv3G3c"
   },
   "source": [
    "### Crosstab Viewing\n",
    "\n",
    "Contingency table (also know as a cross tabulation or crosstab) is a type of table in a matrix format that displays the (multivariate) fequency distrobution of the variables"
   ]
  },
  {
   "cell_type": "code",
   "execution_count": null,
   "metadata": {
    "id": "92BP_VOV3G3c"
   },
   "outputs": [],
   "source": [
    "pd.crosstab(df['cyl'], df['yr'], margins=True)"
   ]
  },
  {
   "cell_type": "markdown",
   "metadata": {
    "id": "nyiTTeH73G3c"
   },
   "source": [
    "### An example of how complex things can get..."
   ]
  },
  {
   "cell_type": "code",
   "execution_count": null,
   "metadata": {
    "id": "h0nrXiav3G3d"
   },
   "outputs": [],
   "source": [
    "#Top number of Column1 unique values based on the mean of NumColumn Unique Values using .nlargest\n",
    "\n",
    "df.cyl.value_counts().nlargest(math.ceil(df.mpg.value_counts().mean())).head()"
   ]
  },
  {
   "cell_type": "markdown",
   "metadata": {
    "id": "WYqzvZHf3G3d"
   },
   "source": [
    "### Creating a new column using logic"
   ]
  },
  {
   "cell_type": "code",
   "execution_count": null,
   "metadata": {
    "id": "AJ-C3hmO3G3d"
   },
   "outputs": [],
   "source": [
    "df2 = df.copy()\n",
    "df2['mpg_str'] = df2['name'] + ' has MPG ' + df2['mpg'].astype(str)\n",
    "df2.head()"
   ]
  },
  {
   "cell_type": "markdown",
   "metadata": {
    "id": "zkVCuZ9c3G3d"
   },
   "source": [
    "### Functions on DataFrames\n",
    "\n",
    "The fastest and most effecient method of running calculations against an entire DataFrame - should be used most of the time when 'iterating' or doing analytics\n",
    "\n",
    "axis = 0 means function will be applited to each column\n",
    "axis = 1 means funciton will be applied to each row"
   ]
  },
  {
   "cell_type": "markdown",
   "metadata": {
    "id": "vch38k8-3G3e"
   },
   "source": [
    "#### Map\n",
    "\n",
    "Map applys a function to each element in a series - sounds like iterating, yes?"
   ]
  },
  {
   "cell_type": "code",
   "execution_count": null,
   "metadata": {
    "id": "jFAwVa9H3G3e"
   },
   "outputs": [],
   "source": [
    "def concon(x):\n",
    "    return 'Adding this string to all values: ' +  str(x)\n",
    "\n",
    "df['name'].map(concon).head()"
   ]
  },
  {
   "cell_type": "markdown",
   "metadata": {
    "id": "nP-yqh0v3G3e"
   },
   "source": [
    "### Apply\n",
    "\n",
    "Apply runs a function against the axis specified"
   ]
  },
  {
   "cell_type": "code",
   "execution_count": null,
   "metadata": {
    "id": "5zBNk1he3G3e"
   },
   "outputs": [],
   "source": [
    "df2['hp_and_mpg'] = df2[['hp', 'mpg']].apply(sum, axis=1)\n",
    "df2.loc[:, ['hp', 'mpg', 'hp_and_mpg', 'name']].head()"
   ]
  },
  {
   "cell_type": "markdown",
   "metadata": {
    "id": "qxXw6tEE3G3f"
   },
   "source": [
    "### ApplyMap\n",
    "\n",
    "This runs a function against each element in a DataFrame (think of 'cells' in a spreadsheet)"
   ]
  },
  {
   "cell_type": "code",
   "execution_count": null,
   "metadata": {
    "id": "UdTF_L273G3f"
   },
   "outputs": [],
   "source": [
    "df.applymap(concon).head()"
   ]
  },
  {
   "cell_type": "markdown",
   "metadata": {
    "id": "4Ictpz2T3G3f"
   },
   "source": [
    "### In Class Exercise\n",
    "\n",
    "Use apply to find the number of missing values in each column and each row. Save screenshot of code and output as pandasapply.jpeg"
   ]
  },
  {
   "cell_type": "code",
   "execution_count": null,
   "metadata": {
    "id": "GxrCTvvy3G3g"
   },
   "outputs": [],
   "source": [
    "# Remove this before distrubuting to students...\n",
    "\n",
    "def missing(x):\n",
    "    return sum(x.isnull())\n",
    "\n",
    "#columns\n",
    "df.apply(missing, axis=0)\n"
   ]
  },
  {
   "cell_type": "code",
   "execution_count": null,
   "metadata": {
    "id": "kWubPd923G3g"
   },
   "outputs": [],
   "source": [
    "#rows\n",
    "df.apply(missing, axis=1)"
   ]
  },
  {
   "cell_type": "markdown",
   "metadata": {
    "id": "DD4Sq_mZ3G3g"
   },
   "source": [
    "### Conditionally Updating Values\n",
    "\n",
    "You can use .loc to update values where a condition has been met.  Think \"Set X WHERE\" in SQL"
   ]
  },
  {
   "cell_type": "code",
   "execution_count": null,
   "metadata": {
    "id": "5VLD0Sb93G3h"
   },
   "outputs": [],
   "source": [
    "df2 = df.copy()\n",
    "df2['efficiency'] = \"\"\n",
    "\n",
    "df2.loc[(df2.mpg < 10), 'efficiency'] = 'poor'\n",
    "df2.loc[(df2.mpg >= 10) & (df2.mpg < 30), 'efficiency'] = 'intermediate'\n",
    "df2.loc[(df2.mpg >= 30), 'efficiency'] = 'high'\n",
    "\n",
    "df2.tail()"
   ]
  },
  {
   "cell_type": "markdown",
   "metadata": {
    "id": "TWl1iLY93G3h"
   },
   "source": [
    "### GroupBy and Aggregate\n",
    "\n",
    "Pandas makes it pretty simple to group values and aggregate other results"
   ]
  },
  {
   "cell_type": "code",
   "execution_count": null,
   "metadata": {
    "id": "Ivo4O6HY3G3h"
   },
   "outputs": [],
   "source": [
    "# Setting as_index to Flase will keep the grouped values as regular column values rather than indicies\n",
    "grouped_df = df.groupby(by=['cyl'])\n",
    "\n",
    "# Now we can use .agg to aggregate the values and run specified funtions - note: we can not create new columns here\n",
    "aggregated = grouped_df.agg({\n",
    "    'mpg': np.mean,\n",
    "    'displ': np.mean,\n",
    "    'hp' : np.mean,\n",
    "    'yr' : np.max,\n",
    "    'accel' :'mean'\n",
    "})\n",
    "\n",
    "aggregated.head()"
   ]
  },
  {
   "cell_type": "markdown",
   "metadata": {
    "id": "syv_0Avg4Hyi"
   },
   "source": [
    "In Class Exercise: Combine ser1 and ser2 to form a dataframe.  Save your code and output as a screenshot named pandasseries1.jpeg"
   ]
  },
  {
   "cell_type": "code",
   "execution_count": null,
   "metadata": {
    "id": "vp6VCauw4r2e"
   },
   "outputs": [],
   "source": [
    "ser1 = pd.Series(list('abcedfghijklmnopqrstuvwxyz'))\n",
    "ser2 = pd.Series(np.arange(26))\n",
    "\n",
    "# Solution 1\n",
    "df = pd.concat([ser1, ser2], axis=1)\n",
    "\n",
    "# Solution 2\n",
    "df = pd.DataFrame({'col1': ser1, 'col2': ser2})\n",
    "print(df.head())"
   ]
  },
  {
   "cell_type": "markdown",
   "metadata": {
    "id": "fY5olu5_4xV1"
   },
   "source": [
    "In Class Exercise: Create a pandas series from each of the items below: a list, numpy and a dictionary.  Save your code and output as a screenshot called pandasseries2.jpeg"
   ]
  },
  {
   "cell_type": "code",
   "execution_count": null,
   "metadata": {
    "id": "eapIg6ZT5qBf"
   },
   "outputs": [],
   "source": [
    "# Inputs\n",
    "import numpy as np\n",
    "mylist = list('abcedfghijklmnopqrstuvwxyz')\n",
    "myarr = np.arange(26)\n",
    "mydict = dict(zip(mylist, myarr))\n",
    "\n",
    "# Solution\n",
    "ser1 = pd.Series(mylist)\n",
    "ser2 = pd.Series(myarr)\n",
    "ser3 = pd.Series(mydict)\n",
    "print(ser3.head())"
   ]
  }
 ],
 "metadata": {
  "colab": {
   "provenance": []
  },
  "kernelspec": {
   "display_name": "Python 3 (ipykernel)",
   "language": "python",
   "name": "python3"
  },
  "language_info": {
   "codemirror_mode": {
    "name": "ipython",
    "version": 3
   },
   "file_extension": ".py",
   "mimetype": "text/x-python",
   "name": "python",
   "nbconvert_exporter": "python",
   "pygments_lexer": "ipython3",
   "version": "3.11.5"
  }
 },
 "nbformat": 4,
 "nbformat_minor": 1
}
