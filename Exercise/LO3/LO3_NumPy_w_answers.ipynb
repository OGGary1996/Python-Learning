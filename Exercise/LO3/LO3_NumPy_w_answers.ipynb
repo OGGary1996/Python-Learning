{
 "nbformat": 4,
 "nbformat_minor": 0,
 "metadata": {
  "kernelspec": {
   "display_name": "Python 3",
   "language": "python",
   "name": "python3"
  },
  "language_info": {
   "codemirror_mode": {
    "name": "ipython",
    "version": 3
   },
   "file_extension": ".py",
   "mimetype": "text/x-python",
   "name": "python",
   "nbconvert_exporter": "python",
   "pygments_lexer": "ipython3",
   "version": "3.6.9"
  },
  "colab": {
   "provenance": []
  }
 },
 "cells": [
  {
   "cell_type": "markdown",
   "metadata": {
    "id": "Iwi4_HsL0yyR"
   },
   "source": [
    "# NumPy\n",
    "\n",
    "numpy's main object is called an ndarray.  It is:\n",
    "\n",
    "1. multidimensional\n",
    "2. homogenous\n",
    "3. array\n",
    "\n",
    "Meaning, it is a table elements, usually numbers.  All elements are the same type.  Elements are accessed by a tuple of positive integers.\n",
    "\n",
    "Dimensions are called axes.\n",
    "The number of axes is the rank.\n",
    "\n",
    "Book ref: https://learning.oreilly.com/library/view/python-data-science/9781491912126/ch02.html#broadcasting-in-practice"
   ]
  },
  {
   "cell_type": "code",
   "metadata": {
    "id": "yosOgI0n0yyb",
    "outputId": "84457cc7-a3b8-46b6-d959-82299cafb375",
    "colab": {
     "base_uri": "https://localhost:8080/"
    },
    "ExecuteTime": {
     "end_time": "2025-10-20T15:18:41.459374Z",
     "start_time": "2025-10-20T15:18:41.452043Z"
    }
   },
   "source": [
    "import numpy as np\n",
    "\n",
    "arr_1 = np.array([1,2,3,4,5,6,7,8,9])\n",
    "\n",
    "print(arr_1)"
   ],
   "outputs": [
    {
     "name": "stdout",
     "output_type": "stream",
     "text": [
      "[1 2 3 4 5 6 7 8 9]\n"
     ]
    }
   ],
   "execution_count": 3
  },
  {
   "cell_type": "code",
   "metadata": {
    "id": "JM10XGl70yye",
    "outputId": "01224bac-2c49-4b46-ffd0-15df2af2a36d",
    "colab": {
     "base_uri": "https://localhost:8080/"
    },
    "ExecuteTime": {
     "end_time": "2025-10-20T15:20:49.146668Z",
     "start_time": "2025-10-20T15:20:49.141109Z"
    }
   },
   "source": "np.ndim(arr_1)",
   "outputs": [
    {
     "data": {
      "text/plain": [
       "1"
      ]
     },
     "execution_count": 5,
     "metadata": {},
     "output_type": "execute_result"
    }
   ],
   "execution_count": 5
  },
  {
   "cell_type": "code",
   "metadata": {
    "id": "sNBzdp6X0yyf",
    "outputId": "e3c5b002-c52a-434c-a832-1a753a26397e",
    "colab": {
     "base_uri": "https://localhost:8080/"
    },
    "ExecuteTime": {
     "end_time": "2025-10-20T15:23:06.888207Z",
     "start_time": "2025-10-20T15:23:06.883833Z"
    }
   },
   "source": [
    "arr_2 = np.arange(100).reshape(10,10)\n",
    "print(arr_2)"
   ],
   "outputs": [
    {
     "name": "stdout",
     "output_type": "stream",
     "text": [
      "[[ 0  1  2  3  4  5  6  7  8  9]\n",
      " [10 11 12 13 14 15 16 17 18 19]\n",
      " [20 21 22 23 24 25 26 27 28 29]\n",
      " [30 31 32 33 34 35 36 37 38 39]\n",
      " [40 41 42 43 44 45 46 47 48 49]\n",
      " [50 51 52 53 54 55 56 57 58 59]\n",
      " [60 61 62 63 64 65 66 67 68 69]\n",
      " [70 71 72 73 74 75 76 77 78 79]\n",
      " [80 81 82 83 84 85 86 87 88 89]\n",
      " [90 91 92 93 94 95 96 97 98 99]]\n"
     ]
    }
   ],
   "execution_count": 7
  },
  {
   "cell_type": "code",
   "metadata": {
    "id": "KnzYZOk-0yyf",
    "outputId": "dcd95353-5d18-4ddb-c25d-a3df6da2885f",
    "colab": {
     "base_uri": "https://localhost:8080/"
    },
    "ExecuteTime": {
     "end_time": "2025-10-20T15:23:23.524962Z",
     "start_time": "2025-10-20T15:23:23.520456Z"
    }
   },
   "source": "np.ndim(arr_2)",
   "outputs": [
    {
     "data": {
      "text/plain": [
       "2"
      ]
     },
     "execution_count": 8,
     "metadata": {},
     "output_type": "execute_result"
    }
   ],
   "execution_count": 8
  },
  {
   "cell_type": "code",
   "metadata": {
    "id": "myhXywVv0yyg",
    "outputId": "ed5ead80-591e-45c4-e706-4d276f843d95",
    "colab": {
     "base_uri": "https://localhost:8080/"
    },
    "ExecuteTime": {
     "end_time": "2025-10-20T15:23:33.776281Z",
     "start_time": "2025-10-20T15:23:33.772133Z"
    }
   },
   "source": "arr_2.shape",
   "outputs": [
    {
     "data": {
      "text/plain": [
       "(10, 10)"
      ]
     },
     "execution_count": 9,
     "metadata": {},
     "output_type": "execute_result"
    }
   ],
   "execution_count": 9
  },
  {
   "cell_type": "code",
   "metadata": {
    "id": "4patiBUP0yyh",
    "outputId": "43922bc5-4e2d-4bc7-cf7b-d100207c376a",
    "colab": {
     "base_uri": "https://localhost:8080/"
    },
    "ExecuteTime": {
     "end_time": "2025-10-20T15:23:43.604121Z",
     "start_time": "2025-10-20T15:23:43.600444Z"
    }
   },
   "source": "arr_2.ndim",
   "outputs": [
    {
     "data": {
      "text/plain": [
       "2"
      ]
     },
     "execution_count": 10,
     "metadata": {},
     "output_type": "execute_result"
    }
   ],
   "execution_count": 10
  },
  {
   "cell_type": "code",
   "metadata": {
    "id": "PhKOgOWB0yyh",
    "outputId": "f86eaa56-3063-4a75-e679-2486e20a1295",
    "colab": {
     "base_uri": "https://localhost:8080/",
     "height": 36
    },
    "ExecuteTime": {
     "end_time": "2025-10-20T15:25:20.542311Z",
     "start_time": "2025-10-20T15:25:20.537466Z"
    }
   },
   "source": "arr_2.dtype.name",
   "outputs": [
    {
     "data": {
      "text/plain": [
       "'int64'"
      ]
     },
     "execution_count": 11,
     "metadata": {},
     "output_type": "execute_result"
    }
   ],
   "execution_count": 11
  },
  {
   "cell_type": "code",
   "metadata": {
    "id": "TZkwSnYe0yyi",
    "outputId": "d06fbaba-1d53-40e8-d670-f0db57354c29",
    "colab": {
     "base_uri": "https://localhost:8080/"
    },
    "ExecuteTime": {
     "end_time": "2025-10-20T15:25:29.272619Z",
     "start_time": "2025-10-20T15:25:29.266953Z"
    }
   },
   "source": [
    "#size in bites\n",
    "arr_2.itemsize"
   ],
   "outputs": [
    {
     "data": {
      "text/plain": [
       "8"
      ]
     },
     "execution_count": 12,
     "metadata": {},
     "output_type": "execute_result"
    }
   ],
   "execution_count": 12
  },
  {
   "cell_type": "code",
   "metadata": {
    "id": "0N-D7zch0yyj",
    "outputId": "46486793-3e83-418f-91c2-bafa4295b0c7",
    "colab": {
     "base_uri": "https://localhost:8080/"
    },
    "ExecuteTime": {
     "end_time": "2025-10-20T15:25:37.526325Z",
     "start_time": "2025-10-20T15:25:37.520862Z"
    }
   },
   "source": "arr_2.size",
   "outputs": [
    {
     "data": {
      "text/plain": [
       "100"
      ]
     },
     "execution_count": 13,
     "metadata": {},
     "output_type": "execute_result"
    }
   ],
   "execution_count": 13
  },
  {
   "cell_type": "code",
   "metadata": {
    "id": "vkoBJlQn0yyj",
    "outputId": "37b36886-3fb1-407e-8ec5-0265ca29e50f",
    "colab": {
     "base_uri": "https://localhost:8080/"
    },
    "ExecuteTime": {
     "end_time": "2025-10-20T15:25:54.978016Z",
     "start_time": "2025-10-20T15:25:54.973122Z"
    }
   },
   "source": "type(arr_2)",
   "outputs": [
    {
     "data": {
      "text/plain": [
       "numpy.ndarray"
      ]
     },
     "execution_count": 14,
     "metadata": {},
     "output_type": "execute_result"
    }
   ],
   "execution_count": 14
  },
  {
   "cell_type": "markdown",
   "metadata": {
    "id": "tgYOF9JE0yyk"
   },
   "source": [
    "We have three ways to access \"row\" 1 of a"
   ]
  },
  {
   "cell_type": "code",
   "metadata": {
    "id": "irvr6Zjn0yyk",
    "outputId": "9dd07d8d-7b7b-46b1-cff7-b9c44004de91",
    "colab": {
     "base_uri": "https://localhost:8080/"
    },
    "ExecuteTime": {
     "end_time": "2025-10-20T15:28:01.288986Z",
     "start_time": "2025-10-20T15:28:01.284651Z"
    }
   },
   "source": "arr_2[5]",
   "outputs": [
    {
     "data": {
      "text/plain": [
       "array([50, 51, 52, 53, 54, 55, 56, 57, 58, 59])"
      ]
     },
     "execution_count": 16,
     "metadata": {},
     "output_type": "execute_result"
    }
   ],
   "execution_count": 16
  },
  {
   "cell_type": "code",
   "metadata": {
    "id": "KVC_ncPi0yyk",
    "outputId": "a7ab123d-b909-447c-a311-be6dfdd2da45",
    "colab": {
     "base_uri": "https://localhost:8080/"
    },
    "ExecuteTime": {
     "end_time": "2025-10-20T15:28:15.276458Z",
     "start_time": "2025-10-20T15:28:15.271963Z"
    }
   },
   "source": "arr_2[5,]",
   "outputs": [
    {
     "data": {
      "text/plain": [
       "array([50, 51, 52, 53, 54, 55, 56, 57, 58, 59])"
      ]
     },
     "execution_count": 18,
     "metadata": {},
     "output_type": "execute_result"
    }
   ],
   "execution_count": 18
  },
  {
   "cell_type": "code",
   "metadata": {
    "id": "zOyo40kM0yyl",
    "outputId": "beb9058f-dc6b-4450-c7c6-e5129f337548",
    "colab": {
     "base_uri": "https://localhost:8080/"
    },
    "ExecuteTime": {
     "end_time": "2025-10-20T15:28:33.750048Z",
     "start_time": "2025-10-20T15:28:33.746264Z"
    }
   },
   "source": "arr_2[5,:]",
   "outputs": [
    {
     "data": {
      "text/plain": [
       "array([50, 51, 52, 53, 54, 55, 56, 57, 58, 59])"
      ]
     },
     "execution_count": 19,
     "metadata": {},
     "output_type": "execute_result"
    }
   ],
   "execution_count": 19
  },
  {
   "cell_type": "markdown",
   "metadata": {
    "id": "ogMS2guq0yyl"
   },
   "source": [
    "To get column in postiion 2:"
   ]
  },
  {
   "cell_type": "code",
   "metadata": {
    "id": "bziuhXkI0yym",
    "outputId": "d8b33387-82a5-49c9-e734-f6b1b7f6ad49",
    "colab": {
     "base_uri": "https://localhost:8080/"
    },
    "ExecuteTime": {
     "end_time": "2025-10-20T15:29:58.371660Z",
     "start_time": "2025-10-20T15:29:58.367003Z"
    }
   },
   "source": "arr_2[:,2]",
   "outputs": [
    {
     "data": {
      "text/plain": [
       "array([ 2, 12, 22, 32, 42, 52, 62, 72, 82, 92])"
      ]
     },
     "execution_count": 20,
     "metadata": {},
     "output_type": "execute_result"
    }
   ],
   "execution_count": 20
  },
  {
   "cell_type": "markdown",
   "metadata": {
    "id": "QESc2Zpn0yym"
   },
   "source": [
    "To get a single element in \"row\" 0, \"column\" 2"
   ]
  },
  {
   "cell_type": "code",
   "metadata": {
    "id": "tLpGbpj40yyn",
    "outputId": "428192fa-4bb4-45b0-f357-3730cf609c73",
    "colab": {
     "base_uri": "https://localhost:8080/"
    },
    "ExecuteTime": {
     "end_time": "2025-10-20T15:30:11.224567Z",
     "start_time": "2025-10-20T15:30:11.219703Z"
    }
   },
   "source": "arr_2[2,5]",
   "outputs": [
    {
     "data": {
      "text/plain": [
       "np.int64(25)"
      ]
     },
     "execution_count": 21,
     "metadata": {},
     "output_type": "execute_result"
    }
   ],
   "execution_count": 21
  },
  {
   "cell_type": "markdown",
   "metadata": {
    "id": "bBWymbBh0yyn"
   },
   "source": [
    "Creating and modifying an array:"
   ]
  },
  {
   "cell_type": "code",
   "metadata": {
    "id": "u872Bw3l0yyo",
    "outputId": "1c9da6c1-a77b-4fe7-8ada-1a7ae4d28bc4",
    "colab": {
     "base_uri": "https://localhost:8080/",
     "height": 36
    },
    "ExecuteTime": {
     "end_time": "2025-10-20T15:34:18.111433Z",
     "start_time": "2025-10-20T15:34:18.107425Z"
    }
   },
   "source": [
    "arr_3 = np.array([2,3,4])\n",
    "arr_3.dtype.name"
   ],
   "outputs": [
    {
     "data": {
      "text/plain": [
       "'int64'"
      ]
     },
     "execution_count": 23,
     "metadata": {},
     "output_type": "execute_result"
    }
   ],
   "execution_count": 23
  },
  {
   "cell_type": "code",
   "metadata": {
    "id": "pNFaFkWt0yyo",
    "outputId": "78863cf5-1413-4cbd-86ce-31b5cc7fcca8",
    "colab": {
     "base_uri": "https://localhost:8080/",
     "height": 36
    },
    "ExecuteTime": {
     "end_time": "2025-10-20T15:35:07.856451Z",
     "start_time": "2025-10-20T15:35:07.851185Z"
    }
   },
   "source": [
    "arr_4 = np.array([1.1,2.2,3.3,4.4])\n",
    "arr_4.dtype.name"
   ],
   "outputs": [
    {
     "data": {
      "text/plain": [
       "'float64'"
      ]
     },
     "execution_count": 25,
     "metadata": {},
     "output_type": "execute_result"
    }
   ],
   "execution_count": 25
  },
  {
   "cell_type": "markdown",
   "metadata": {
    "id": "yN3tJi7i0yyo"
   },
   "source": [
    "Let's change one element of c:"
   ]
  },
  {
   "cell_type": "code",
   "metadata": {
    "id": "cBE7Kfzy0yyp",
    "outputId": "08697503-350e-41ae-c02e-5cbae897c476",
    "colab": {
     "base_uri": "https://localhost:8080/",
     "height": 36
    },
    "ExecuteTime": {
     "end_time": "2025-10-20T15:35:46.943626Z",
     "start_time": "2025-10-20T15:35:46.938975Z"
    }
   },
   "source": [
    "arr_3[2] = 4.4\n",
    "arr_3.dtype.name"
   ],
   "outputs": [
    {
     "data": {
      "text/plain": [
       "'int64'"
      ]
     },
     "execution_count": 27,
     "metadata": {},
     "output_type": "execute_result"
    }
   ],
   "execution_count": 27
  },
  {
   "cell_type": "markdown",
   "metadata": {
    "id": "1hb_1DG90yyp"
   },
   "source": [
    "Note that the type didn't change"
   ]
  },
  {
   "cell_type": "code",
   "metadata": {
    "id": "K_2tfY3S0yyp",
    "outputId": "7dd9d8bf-31fa-4b7e-bf31-96d18becf8f2",
    "colab": {
     "base_uri": "https://localhost:8080/"
    },
    "ExecuteTime": {
     "end_time": "2025-10-20T15:35:54.847827Z",
     "start_time": "2025-10-20T15:35:54.842680Z"
    }
   },
   "source": "print(arr_3)",
   "outputs": [
    {
     "name": "stdout",
     "output_type": "stream",
     "text": [
      "[2 3 4]\n"
     ]
    }
   ],
   "execution_count": 28
  },
  {
   "cell_type": "markdown",
   "metadata": {
    "id": "2V6ssY-A0yyq"
   },
   "source": [
    "The value was added but was converted to an int64 - be careful - type matters!\n",
    "\n",
    "NumPy interprets a sequence of sequences as a 2D array.  A sequence of sequence of sequences as a 3D array - etc"
   ]
  },
  {
   "cell_type": "code",
   "metadata": {
    "id": "f5TMegSG0yyq",
    "outputId": "b4621a12-6266-47a9-de80-af8132983830",
    "colab": {
     "base_uri": "https://localhost:8080/"
    },
    "ExecuteTime": {
     "end_time": "2025-10-20T15:40:09.607051Z",
     "start_time": "2025-10-20T15:40:09.601921Z"
    }
   },
   "source": [
    "arr_5 = np.array([[1,2,3], [4,5,6]])\n",
    "print(arr_5)"
   ],
   "outputs": [
    {
     "name": "stdout",
     "output_type": "stream",
     "text": [
      "[[1 2 3]\n",
      " [4 5 6]]\n"
     ]
    }
   ],
   "execution_count": 29
  },
  {
   "cell_type": "markdown",
   "metadata": {
    "id": "MC4rG1UF0yyr"
   },
   "source": [
    "Remember c from above?  Here is how we can change from integers to floats:"
   ]
  },
  {
   "cell_type": "code",
   "metadata": {
    "id": "ztpb7xlQ0yyr",
    "outputId": "d73b8b6b-6e01-4a0e-a1d1-b48707315402",
    "colab": {
     "base_uri": "https://localhost:8080/"
    },
    "ExecuteTime": {
     "end_time": "2025-10-20T15:42:41.290657Z",
     "start_time": "2025-10-20T15:42:41.285297Z"
    }
   },
   "source": [
    "print(arr_3)\n",
    "arr_3 = np.array(arr_3,dtype=np.float64)\n",
    "print(arr_3)"
   ],
   "outputs": [
    {
     "name": "stdout",
     "output_type": "stream",
     "text": [
      "[2. 3. 4.]\n",
      "[2. 3. 4.]\n"
     ]
    }
   ],
   "execution_count": 32
  },
  {
   "cell_type": "markdown",
   "metadata": {
    "id": "1Kn4OTIC0yyr"
   },
   "source": [
    "Suppose you want to fill an array with all zeros or 1 (this is a suprisingly common task in data science)"
   ]
  },
  {
   "cell_type": "code",
   "metadata": {
    "id": "HII_cQZM0yys",
    "outputId": "31574a71-1cdf-4cba-c843-c6b7ce2ef7e4",
    "colab": {
     "base_uri": "https://localhost:8080/"
    }
   },
   "source": [
    "np.zeros((3,4))"
   ],
   "execution_count": 22,
   "outputs": [
    {
     "output_type": "execute_result",
     "data": {
      "text/plain": [
       "array([[0., 0., 0., 0.],\n",
       "       [0., 0., 0., 0.],\n",
       "       [0., 0., 0., 0.]])"
      ]
     },
     "metadata": {},
     "execution_count": 22
    }
   ]
  },
  {
   "cell_type": "code",
   "metadata": {
    "id": "3KZEgXYy0yys",
    "outputId": "3130a7fc-6eb8-4809-d16b-559f3f82ebdf",
    "colab": {
     "base_uri": "https://localhost:8080/"
    }
   },
   "source": [
    "np.zeros((3,4), dtype = int)"
   ],
   "execution_count": 23,
   "outputs": [
    {
     "output_type": "execute_result",
     "data": {
      "text/plain": [
       "array([[0, 0, 0, 0],\n",
       "       [0, 0, 0, 0],\n",
       "       [0, 0, 0, 0]])"
      ]
     },
     "metadata": {},
     "execution_count": 23
    }
   ]
  },
  {
   "cell_type": "code",
   "metadata": {
    "id": "_GRq-9tw0yys",
    "outputId": "e5324698-b2b1-4665-c93d-138e971ee3e6",
    "colab": {
     "base_uri": "https://localhost:8080/"
    }
   },
   "source": [
    "np.ones((2,3,4), dtype = np.int16)"
   ],
   "execution_count": 24,
   "outputs": [
    {
     "output_type": "execute_result",
     "data": {
      "text/plain": [
       "array([[[1, 1, 1, 1],\n",
       "        [1, 1, 1, 1],\n",
       "        [1, 1, 1, 1]],\n",
       "\n",
       "       [[1, 1, 1, 1],\n",
       "        [1, 1, 1, 1],\n",
       "        [1, 1, 1, 1]]], dtype=int16)"
      ]
     },
     "metadata": {},
     "execution_count": 24
    }
   ]
  },
  {
   "cell_type": "markdown",
   "metadata": {
    "id": "fCuiBzlr0yyt"
   },
   "source": [
    "Similar to the range funtion in the standard python library NumPy has arange.  It allows us to create an array containing a range of numbers evenly spaced."
   ]
  },
  {
   "cell_type": "code",
   "metadata": {
    "id": "MTSAazLM0yyt",
    "outputId": "6e608277-5295-40ea-bedf-a494407819cf",
    "colab": {
     "base_uri": "https://localhost:8080/"
    }
   },
   "source": [
    "np.arange(10,30,5) #start, stop, step"
   ],
   "execution_count": 25,
   "outputs": [
    {
     "output_type": "execute_result",
     "data": {
      "text/plain": [
       "array([10, 15, 20, 25])"
      ]
     },
     "metadata": {},
     "execution_count": 25
    }
   ]
  },
  {
   "cell_type": "code",
   "metadata": {
    "id": "Egi7U1980yyt",
    "outputId": "77256338-d667-4db3-8303-4657d276db67",
    "colab": {
     "base_uri": "https://localhost:8080/"
    }
   },
   "source": [
    "np.arange(0.3, 1.5, 0.1)"
   ],
   "execution_count": 26,
   "outputs": [
    {
     "output_type": "execute_result",
     "data": {
      "text/plain": [
       "array([0.3, 0.4, 0.5, 0.6, 0.7, 0.8, 0.9, 1. , 1.1, 1.2, 1.3, 1.4])"
      ]
     },
     "metadata": {},
     "execution_count": 26
    }
   ]
  },
  {
   "cell_type": "markdown",
   "metadata": {
    "id": "3RjKQqaE05mI"
   },
   "source": [
    "Exercise 1: Create a 4X2 integer array and Prints its attributes\n",
    "* The shape of an array.\n",
    "* Array dimensions.\n",
    "* The Length of each element of the array in bytes.\n",
    "\n",
    "Save your code and output as a screenshot named numpy1.jpeg\n",
    "\n",
    "\n"
   ]
  },
  {
   "cell_type": "code",
   "metadata": {
    "id": "9fYgfC2x1RKV",
    "outputId": "31d6f776-279a-4ba5-8ae4-234c47b10833",
    "colab": {
     "base_uri": "https://localhost:8080/"
    }
   },
   "source": [
    "# Cell for coding exercise 1\n",
    "firstArray = np.empty([4,2], dtype = np.uint16)\n",
    "print(\"Printing Array\")\n",
    "print(firstArray)\n",
    "\n",
    "print(\"Printing numpy array Attributes\")\n",
    "print(\"1> Array Shape is: \", firstArray.shape)\n",
    "print(\"2>. Array dimensions are \", firstArray.ndim)\n",
    "print(\"3>. Length of each element of array in bytes is \", firstArray.itemsize)"
   ],
   "execution_count": 27,
   "outputs": [
    {
     "output_type": "stream",
     "name": "stdout",
     "text": [
      "Printing Array\n",
      "[[    0     0]\n",
      " [    0 49152]\n",
      " [32767 32696]\n",
      " [31247     0]]\n",
      "Printing numpy array Attributes\n",
      "1> Array Shape is:  (4, 2)\n",
      "2>. Array dimensions are  2\n",
      "3>. Length of each element of array in bytes is  2\n"
     ]
    }
   ]
  },
  {
   "cell_type": "markdown",
   "metadata": {
    "id": "wtRT4aO_16x1"
   },
   "source": [
    "Exercise 2: Following is the given numpy array return array of odd rows and even columns"
   ]
  },
  {
   "cell_type": "code",
   "metadata": {
    "id": "iHX-1Tpq2ECR",
    "outputId": "0ddae01c-349b-4116-fe49-813278ee2e13",
    "colab": {
     "base_uri": "https://localhost:8080/"
    }
   },
   "source": [
    "\n",
    "sampleArray = np.array([[3 ,6, 9, 12], [15 ,18, 21, 24],\n",
    "[27 ,30, 33, 36], [39 ,42, 45, 48], [51 ,54, 57, 60]])\n",
    "print(\"Printing Input Array\")\n",
    "print(sampleArray)\n",
    "\n",
    "print(\"\\n Printing array of odd rows and even columns\")\n",
    "newArray = sampleArray[1::2, 0::2]\n",
    "print(newArray)"
   ],
   "execution_count": 28,
   "outputs": [
    {
     "output_type": "stream",
     "name": "stdout",
     "text": [
      "Printing Input Array\n",
      "[[ 3  6  9 12]\n",
      " [15 18 21 24]\n",
      " [27 30 33 36]\n",
      " [39 42 45 48]\n",
      " [51 54 57 60]]\n",
      "\n",
      " Printing array of odd rows and even columns\n",
      "[[15 21]\n",
      " [39 45]]\n"
     ]
    }
   ]
  },
  {
   "cell_type": "markdown",
   "metadata": {
    "id": "tjrpwUd02PUk"
   },
   "source": []
  }
 ]
}
