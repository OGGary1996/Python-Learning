{
 "cells": [
  {
   "cell_type": "markdown",
   "id": "a05d2027",
   "metadata": {
    "id": "a05d2027"
   },
   "source": [
    "\n",
    "# Assignment 1 :Python Basics and Control Flow\n",
    "## (10 marks)\n",
    "\n",
    "## Objective:\n",
    "The purpose of this assignment is to help students understand and apply basic Python concepts such as:\n",
    "- Variables and data types\n",
    "- Conditional statements (if-else)\n",
    "- Loops (for, while)\n",
    "- Functions (defining and calling functions)\n",
    "\n",
    "## Instructions:\n",
    "1. Read each problem carefully.\n",
    "2. Write Python code to solve each problem.\n",
    "3. Test your code with sample inputs.\n",
    "4. Submit your solution in a Python file (.ipynb) to Brightspace.\n",
    "\n",
    "### Questions:\n"
   ]
  },
  {
   "cell_type": "markdown",
   "id": "ead7b237",
   "metadata": {
    "id": "ead7b237"
   },
   "source": [
    "\n",
    "### 1. Even or Odd Number (2 marks)\n",
    "Write a Python function `is_even_or_odd(num)` that checks whether a given number is **even** or **odd**.\n",
    "- If the number is even, return `\"Even\"`.\n",
    "- If the number is odd, return `\"Odd\"`.\n",
    "\n",
    "**Example:**\n",
    "```python\n",
    "is_even_or_odd(4)  # Output: \"Even\"\n",
    "is_even_or_odd(7)  # Output: \"Odd\"\n",
    "```\n",
    "\n",
    "### 2. Largest of Three Numbers (2 marks)\n",
    "Write a Python program that takes three numbers as input and prints the largest number using an `if-else` condition.\n",
    "\n",
    "**Example input/output:**\n",
    "```\n",
    "Enter first number: 12\n",
    "Enter second number: 8\n",
    "Enter third number: 10\n",
    "The largest number is: 12\n",
    "```\n",
    "\n",
    "### 3. Factorial of a Number (2 marks)\n",
    "Write a Python program that calculates the **factorial** of a number using both a `for` loop and a `while` loop. The program should ask for user input and then calculate the factorial of the number.\n",
    "\n",
    "**Example input/output:**\n",
    "```\n",
    "Enter a number: 5\n",
    "Factorial using for loop: 120\n",
    "Factorial using while loop: 120\n",
    "```\n",
    "\n",
    "### 4. Sum of Natural Numbers (2 marks)\n",
    "Write a Python function `sum_of_natural_numbers(n)` that calculates the sum of the first `n` natural numbers. Use a `for` loop for the solution.\n",
    "\n",
    "**Example:**\n",
    "```python\n",
    "sum_of_natural_numbers(5)  # Output: 15 (1 + 2 + 3 + 4 + 5)\n",
    "```\n",
    "\n",
    "### 5. Skip Numbers Using continue (2 marks)\n",
    "Write a Python program that prints numbers from 1 to 20, but skips printing the numbers that are divisible by 4 using the continue statement.\n",
    "\n",
    "Hint: Use the continue statement when the number is divisible by 4.\n",
    "\n",
    "\n",
    "\n",
    "### Submission Guidelines:\n",
    "1. Write your solutions for each problem in a this file.\n",
    "2. Ensure that each function or code block is well-commented to explain what it does.\n",
    "3. Test your code with different inputs and make sure it works correctly.\n",
    "\n",
    "### Evaluation Criteria:\n",
    "- Correctness of the solution (Does the code produce the correct results for the given inputs?).\n",
    "- Code structure (Is the code organized and easy to understand?).\n",
    "- Use of appropriate control flow and logic (if-else, loops).\n",
    "- Use of functions where appropriate (modularization).\n",
    "- Proper use of comments to explain code functionality.\n"
   ]
  },
  {
   "metadata": {},
   "cell_type": "markdown",
   "source": [
    "## Answers:\n",
    "### Question 1: Even or Odd Number"
   ],
   "id": "29f989d3556a7b3b"
  },
  {
   "metadata": {
    "ExecuteTime": {
     "end_time": "2025-09-22T21:21:56.059485Z",
     "start_time": "2025-09-22T21:21:47.537894Z"
    }
   },
   "cell_type": "code",
   "source": [
    "'''\n",
    "Define a function to check is a number is even of odd by simply using % operator\n",
    "'''\n",
    "def is_even_or_odd(number_to_check):\n",
    "    if number_to_check % 2 == 0:\n",
    "        print(\"Even\")\n",
    "    else:\n",
    "        print(\"Odd\")\n",
    "\n",
    "'''\n",
    "Using while loop to ask user for input until a valid integer param is provided\n",
    "'''\n",
    "while True:\n",
    "    num = input(\"Please enter a number: \") # input() always returns a string\n",
    "    try:\n",
    "        num = int(num) # convert from string to integer\n",
    "        is_even_or_odd(num) # call the function to check if the number is even or odd\n",
    "        break # exit the loop if the input is valid\n",
    "    except ValueError: # If conversion to integer throws an ValueError, catch and show message\n",
    "        print(\"Invalid input, please enter a valid integer.\")"
   ],
   "id": "ccaa44708bcb8a0",
   "outputs": [
    {
     "name": "stdout",
     "output_type": "stream",
     "text": [
      "Invalid input, please enter a valid integer.\n",
      "Odd\n"
     ]
    }
   ],
   "execution_count": 1
  },
  {
   "metadata": {},
   "cell_type": "markdown",
   "source": "### Question 2: Largest of Three Numbers\n",
   "id": "fd607321d78be9c5"
  },
  {
   "metadata": {
    "ExecuteTime": {
     "end_time": "2025-09-22T21:22:10.255428Z",
     "start_time": "2025-09-22T21:21:59.639483Z"
    }
   },
   "cell_type": "code",
   "source": [
    "'''\n",
    "Define a function to find the greatest of three numbers using if-else conditions\n",
    "Steps:\n",
    " 1. Compare num1 with num2 and num3\n",
    " 2. Compare num2 with num1 and num3\n",
    " 3. If both comparisons are false, num3 is the greatest\n",
    "'''\n",
    "def greatest_of_three(num1, num2, num3):\n",
    "    if (num1 >= num2) and (num1 >= num3):\n",
    "        return num1\n",
    "    elif(num2 >= num1) and (num2 >= num3):\n",
    "        return num2\n",
    "    else:\n",
    "        return num3\n",
    "\n",
    "'''\n",
    "Using while loop to ask user for input until valid float params are provided\n",
    "'''\n",
    "while True:\n",
    "    try: # if conversion success, proceed to call the function and break the loop\n",
    "        num1 = float(input(\"Please enter the first number: \"))\n",
    "        num2 = float(input(\"Please enter the second number: \"))\n",
    "        num3 = float(input(\"Please enter the third number: \"))\n",
    "        print(\"The largest number is: %.2f\"%greatest_of_three(num1, num2, num3))\n",
    "        break\n",
    "    except ValueError: # if conversion to float throws an ValueError, catch and show message\n",
    "        print(\"Invalid input, please enter valid numbers.\")"
   ],
   "id": "a8c5c6003a2520ef",
   "outputs": [
    {
     "name": "stdout",
     "output_type": "stream",
     "text": [
      "Invalid input, please enter valid numbers.\n",
      "The largest number is: 333.00\n"
     ]
    }
   ],
   "execution_count": 2
  },
  {
   "metadata": {},
   "cell_type": "markdown",
   "source": "### Question 3: Factorial of a Number\n",
   "id": "a29a595101ceae4b"
  },
  {
   "metadata": {
    "ExecuteTime": {
     "end_time": "2025-09-22T21:22:18.967144Z",
     "start_time": "2025-09-22T21:22:16.472659Z"
    }
   },
   "cell_type": "code",
   "source": [
    "'''\n",
    "Define a function to calculate factorial using while or for loop\n",
    "while loop:\n",
    "     1. Assign result to 1, let result has scope of entire function\n",
    "     2. while loop will run until num is less than 1\n",
    "     3. in each iteration, multiply result(starts with 1) with num, then decrement num by 1\n",
    "     4. After loop ends, return result\n",
    "\n",
    "for loop:\n",
    "    1. Assign result to 1, let result has scope of entire function\n",
    "    2. for loop will run from 1 to num (inclusive)\n",
    "    3. in each iteration, multiply result(starts with 1) with i\n",
    "    4. After loop ends, return result\n",
    "    Notice: range in for loop is exclusive of the end value, so we need to use num + 1\n",
    "'''\n",
    "def factorial_using_while_loop(num):\n",
    "    result = 1\n",
    "    while num >= 1:\n",
    "        result *= num\n",
    "        num -= 1\n",
    "    return result\n",
    "\n",
    "def factorial_using_for_loop(num):\n",
    "    result = 1\n",
    "    for i in range(1,num + 1):\n",
    "        result *= i\n",
    "    return result\n",
    "\n",
    "while True:\n",
    "    num = input(\"Please enter a non-negative integer: \") # input() always returns a string\n",
    "    try:\n",
    "        num = int(num) # convert from string to integer\n",
    "        if num <= 0:\n",
    "            print(\"Number must be non-negative, please try again.\")\n",
    "            continue\n",
    "        print(\"Result using while loop: %d\"%factorial_using_while_loop(num))\n",
    "        print(\"Result using for loop: %d\"%factorial_using_for_loop(num))\n",
    "        break # exit the loop if the input is valid\n",
    "    except ValueError: # If conversion to integer throws an ValueError, catch and show message\n",
    "        print(\"Invalid input, please enter a valid non-negative integer.\")\n"
   ],
   "id": "f36368490ee7ce6",
   "outputs": [
    {
     "name": "stdout",
     "output_type": "stream",
     "text": [
      "Result using while loop: 720\n",
      "Result using for loop: 720\n"
     ]
    }
   ],
   "execution_count": 3
  },
  {
   "metadata": {},
   "cell_type": "markdown",
   "source": "### Question 4: Sum of Natural Numbers\n",
   "id": "a51daaabf59f80ab"
  },
  {
   "metadata": {
    "ExecuteTime": {
     "end_time": "2025-09-22T21:22:32.650190Z",
     "start_time": "2025-09-22T21:22:24.796675Z"
    }
   },
   "cell_type": "code",
   "source": [
    "'''\n",
    "Define a function to calculate the sum of first n natural numbers using for loop\n",
    "Steps:\n",
    "    1. Initialize result to 0, let result has scope of entire function\n",
    "    2. for loop will run from 1 to n (inclusive)\n",
    "    3. in each iteration, add i to result, and print the current i\n",
    "    4. After loop ends, return result\n",
    "'''\n",
    "def sum_of_natural_numbers(num):\n",
    "    result = 0\n",
    "    for i in range(1,num + 1):\n",
    "        result += i\n",
    "    return result\n",
    "\n",
    "while True:\n",
    "    num = input(\"Please enter a non-negative integer: \") # input() always returns a string\n",
    "    try:\n",
    "        num = int(num) # convert from string to integer\n",
    "        if num <= 0:\n",
    "            print(\"Number must be non-negative, please try again.\")\n",
    "            continue\n",
    "        print(\"%d \"%sum_of_natural_numbers(num))\n",
    "        break # exit the loop if the input is valid\n",
    "    except ValueError: # If conversion to integer throws an ValueError, catch and show message\n",
    "        print(\"Invalid input, please enter a valid non-negative integer.\")"
   ],
   "id": "b59980a05551af8d",
   "outputs": [
    {
     "name": "stdout",
     "output_type": "stream",
     "text": [
      "Number must be non-negative, please try again.\n",
      "Number must be non-negative, please try again.\n",
      "276 \n"
     ]
    }
   ],
   "execution_count": 4
  },
  {
   "metadata": {},
   "cell_type": "markdown",
   "source": "### Question 5: Skip Numbers Using continue\n",
   "id": "17977e54668c3f0b"
  },
  {
   "metadata": {
    "ExecuteTime": {
     "end_time": "2025-09-22T21:22:36.426835Z",
     "start_time": "2025-09-22T21:22:36.423006Z"
    }
   },
   "cell_type": "code",
   "source": [
    "'''\n",
    "Define a function to print numbers from 1 to 20, skipping numbers divisible by 4\n",
    "Steps:\n",
    "    1. for loop will run from 1 to 20 (inclusive)\n",
    "    2. in each iteration, check if i is divisible by 4 using % operator\n",
    "    3. if i is divisible by 4, use continue to skip the current iteration\n",
    "    4. if i is not divisible by 4, print i\n",
    "'''\n",
    "\n",
    "def print_numbers_skipping_divisible_by_4():\n",
    "    for i in range(1, 21):\n",
    "        if i % 4 == 0:\n",
    "            continue # skip the current iteration if i is divisible by 4\n",
    "        print(i, end=' ')\n",
    "    print() # for newline in each iteration\n",
    "\n",
    "print_numbers_skipping_divisible_by_4()"
   ],
   "id": "84c4f6718f1fac84",
   "outputs": [
    {
     "name": "stdout",
     "output_type": "stream",
     "text": [
      "1 2 3 5 6 7 9 10 11 13 14 15 17 18 19 \n"
     ]
    }
   ],
   "execution_count": 5
  }
 ],
 "metadata": {
  "colab": {
   "provenance": []
  },
  "kernelspec": {
   "display_name": "Python 3 (ipykernel)",
   "language": "python",
   "name": "python3"
  },
  "language_info": {
   "codemirror_mode": {
    "name": "ipython",
    "version": 3
   },
   "file_extension": ".py",
   "mimetype": "text/x-python",
   "name": "python",
   "nbconvert_exporter": "python",
   "pygments_lexer": "ipython3",
   "version": "3.13.5"
  }
 },
 "nbformat": 4,
 "nbformat_minor": 5
}
