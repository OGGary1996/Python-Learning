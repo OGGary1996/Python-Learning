{
 "cells": [
  {
   "metadata": {},
   "cell_type": "markdown",
   "source": [
    "## Answers:\n",
    "### Question 1: Even or Odd Number"
   ],
   "id": "f05e4ca5225d30f0"
  },
  {
   "metadata": {
    "ExecuteTime": {
     "end_time": "2025-09-22T20:20:17.799389Z",
     "start_time": "2025-09-22T20:20:12.068464Z"
    }
   },
   "cell_type": "code",
   "source": [
    "'''\n",
    "Define a function to check is a number is even of odd by simply using % operator\n",
    "'''\n",
    "def is_even_or_odd(number_to_check):\n",
    "    if number_to_check % 2 == 0:\n",
    "        print(\"Even\")\n",
    "    else:\n",
    "        print(\"Odd\")\n",
    "\n",
    "'''\n",
    "Using while loop to ask user for input until a valid integer param is provided\n",
    "'''\n",
    "while True:\n",
    "    num = input(\"Please enter a number: \") # input() always returns a string\n",
    "    try:\n",
    "        num = int(num) # convert from string to integer\n",
    "        is_even_or_odd(num) # call the function to check if the number is even or odd\n",
    "        break # exit the loop if the input is valid\n",
    "    except ValueError: # If conversion to integer throws an ValueError, catch and show message\n",
    "        print(\"Invalid input, please enter a valid integer.\")"
   ],
   "id": "668a33371bcb5e2d",
   "outputs": [
    {
     "name": "stdout",
     "output_type": "stream",
     "text": [
      "Invalid input, please enter a valid integer.\n",
      "Odd\n"
     ]
    }
   ],
   "execution_count": 4
  },
  {
   "metadata": {},
   "cell_type": "markdown",
   "source": "### Question 2: Largest of Three Numbers",
   "id": "50aa08efd365f120"
  },
  {
   "metadata": {
    "ExecuteTime": {
     "end_time": "2025-09-22T20:36:15.800755Z",
     "start_time": "2025-09-22T20:35:56.184367Z"
    }
   },
   "cell_type": "code",
   "source": [
    "'''\n",
    "Define a function to find the greatest of three numbers using if-else conditions\n",
    "Steps:\n",
    " 1. Compare num1 with num2 and num3\n",
    " 2. Compare num2 with num1 and num3\n",
    " 3. If both comparisons are false, num3 is the greatest\n",
    "'''\n",
    "def greatest_of_three(num1, num2, num3):\n",
    "    if (num1 >= num2) and (num1 >= num3):\n",
    "        return num1\n",
    "    elif(num2 >= num1) and (num2 >= num3):\n",
    "        return num2\n",
    "    else:\n",
    "        return num3\n",
    "\n",
    "'''\n",
    "Using while loop to ask user for input until valid float params are provided\n",
    "'''\n",
    "while True:\n",
    "    try: # if conversion success, proceed to call the function and break the loop\n",
    "        num1 = float(input(\"Please enter the first number: \"))\n",
    "        num2 = float(input(\"Please enter the second number: \"))\n",
    "        num3 = float(input(\"Please enter the third number: \"))\n",
    "        print(\"The largest number is: %.2f\"%greatest_of_three(num1, num2, num3))\n",
    "        break\n",
    "    except ValueError: # if conversion to float throws an ValueError, catch and show message\n",
    "        print(\"Invalid input, please enter valid numbers.\")"
   ],
   "id": "c9f0d76c88964064",
   "outputs": [
    {
     "name": "stdout",
     "output_type": "stream",
     "text": [
      "Invalid input, please enter valid numbers.\n",
      "The largest number is: 12.000000\n"
     ]
    }
   ],
   "execution_count": 5
  },
  {
   "metadata": {},
   "cell_type": "markdown",
   "source": "### Question 3: Factorial of a Number",
   "id": "13a620ac1cde496f"
  },
  {
   "metadata": {
    "ExecuteTime": {
     "end_time": "2025-09-22T20:58:23.556529Z",
     "start_time": "2025-09-22T20:58:15.772819Z"
    }
   },
   "cell_type": "code",
   "source": [
    "'''\n",
    "Define a function to calculate factorial using while or for loop\n",
    "while loop:\n",
    "     1. Assign result to 1, let result has scope of entire function\n",
    "     2. while loop will run until num is less than 1\n",
    "     3. in each iteration, multiply result(starts with 1) with num, then decrement num by 1\n",
    "     4. After loop ends, return result\n",
    "\n",
    "for loop:\n",
    "    1. Assign result to 1, let result has scope of entire function\n",
    "    2. for loop will run from 1 to num (inclusive)\n",
    "    3. in each iteration, multiply result(starts with 1) with i\n",
    "    4. After loop ends, return result\n",
    "    Notice: range in for loop is exclusive of the end value, so we need to use num + 1\n",
    "'''\n",
    "def factorial_using_while_loop(num):\n",
    "    result = 1\n",
    "    while num >= 1:\n",
    "        result *= num\n",
    "        num -= 1\n",
    "    return result\n",
    "\n",
    "def factorial_using_for_loop(num):\n",
    "    result = 1\n",
    "    for i in range(1,num + 1):\n",
    "        result *= i\n",
    "    return result\n",
    "\n",
    "while True:\n",
    "    num = input(\"Please enter a non-negative integer: \") # input() always returns a string\n",
    "    try:\n",
    "        num = int(num) # convert from string to integer\n",
    "        if num <= 0:\n",
    "            print(\"Number must be non-negative, please try again.\")\n",
    "            continue\n",
    "        print(\"Result using while loop: %d\"%factorial_using_while_loop(num))\n",
    "        print(\"Result using for loop: %d\"%factorial_using_for_loop(num))\n",
    "        break # exit the loop if the input is valid\n",
    "    except ValueError: # If conversion to integer throws an ValueError, catch and show message\n",
    "        print(\"Invalid input, please enter a valid non-negative integer.\")\n"
   ],
   "id": "ee06ffb9f269ee70",
   "outputs": [
    {
     "name": "stdout",
     "output_type": "stream",
     "text": [
      "Number must be non-negative, please try again.\n",
      "Result using while loop: 120\n",
      "Result using for loop: 120\n"
     ]
    }
   ],
   "execution_count": 6
  },
  {
   "metadata": {},
   "cell_type": "markdown",
   "source": "### Question 4: Sum of Natural Numbers",
   "id": "5339e18dc7e35195"
  },
  {
   "metadata": {
    "ExecuteTime": {
     "end_time": "2025-09-22T21:12:47.982461Z",
     "start_time": "2025-09-22T21:12:44.410132Z"
    }
   },
   "cell_type": "code",
   "source": [
    "'''\n",
    "Define a function to calculate the sum of first n natural numbers using for loop\n",
    "Steps:\n",
    "    1. Initialize result to 0, let result has scope of entire function\n",
    "    2. for loop will run from 1 to n (inclusive)\n",
    "    3. in each iteration, add i to result, and print the current i\n",
    "    4. After loop ends, return result\n",
    "'''\n",
    "def sum_of_natural_numbers(num):\n",
    "    result = 0\n",
    "    for i in range(1,num + 1):\n",
    "        result += i\n",
    "    return result\n",
    "\n",
    "while True:\n",
    "    num = input(\"Please enter a non-negative integer: \") # input() always returns a string\n",
    "    try:\n",
    "        num = int(num) # convert from string to integer\n",
    "        if num <= 0:\n",
    "            print(\"Number must be non-negative, please try again.\")\n",
    "            continue\n",
    "        print(\"%d \"%sum_of_natural_numbers(num))\n",
    "        break # exit the loop if the input is valid\n",
    "    except ValueError: # If conversion to integer throws an ValueError, catch and show message\n",
    "        print(\"Invalid input, please enter a valid non-negative integer.\")"
   ],
   "id": "74a8adbd251b2042",
   "outputs": [
    {
     "name": "stdout",
     "output_type": "stream",
     "text": [
      "Invalid input, please enter a valid non-negative integer.\n",
      "15 \n"
     ]
    }
   ],
   "execution_count": 8
  },
  {
   "metadata": {},
   "cell_type": "markdown",
   "source": "### Question 5: Skip Numbers Using continue",
   "id": "a2e1c9c86924f0ca"
  },
  {
   "metadata": {
    "ExecuteTime": {
     "end_time": "2025-09-22T21:17:08.264351Z",
     "start_time": "2025-09-22T21:17:08.261133Z"
    }
   },
   "cell_type": "code",
   "source": [
    "'''\n",
    "Define a function to print numbers from 1 to 20, skipping numbers divisible by 4\n",
    "Steps:\n",
    "    1. for loop will run from 1 to 20 (inclusive)\n",
    "    2. in each iteration, check if i is divisible by 4 using % operator\n",
    "    3. if i is divisible by 4, use continue to skip the current iteration\n",
    "    4. if i is not divisible by 4, print i\n",
    "'''\n",
    "\n",
    "def print_numbers_skipping_divisible_by_4():\n",
    "    for i in range(1, 21):\n",
    "        if i % 4 == 0:\n",
    "            continue # skip the current iteration if i is divisible by 4\n",
    "        print(i, end=' ')\n",
    "    print() # for newline in each iteration\n",
    "\n",
    "print_numbers_skipping_divisible_by_4()"
   ],
   "id": "d541855e077bf8e9",
   "outputs": [
    {
     "name": "stdout",
     "output_type": "stream",
     "text": [
      "1 2 3 5 6 7 9 10 11 13 14 15 17 18 19 \n"
     ]
    }
   ],
   "execution_count": 11
  }
 ],
 "metadata": {
  "kernelspec": {
   "display_name": "Python 3",
   "language": "python",
   "name": "python3"
  },
  "language_info": {
   "codemirror_mode": {
    "name": "ipython",
    "version": 2
   },
   "file_extension": ".py",
   "mimetype": "text/x-python",
   "name": "python",
   "nbconvert_exporter": "python",
   "pygments_lexer": "ipython2",
   "version": "2.7.6"
  }
 },
 "nbformat": 4,
 "nbformat_minor": 5
}
